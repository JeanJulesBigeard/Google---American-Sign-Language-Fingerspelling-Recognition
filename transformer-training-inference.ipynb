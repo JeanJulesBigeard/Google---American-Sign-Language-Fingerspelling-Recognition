{
 "cells": [
  {
   "cell_type": "markdown",
   "id": "bd6f2767",
   "metadata": {
    "papermill": {
     "duration": 0.030803,
     "end_time": "2023-08-27T18:28:22.762766",
     "exception": false,
     "start_time": "2023-08-27T18:28:22.731963",
     "status": "completed"
    },
    "tags": []
   },
   "source": [
    "### Imports"
   ]
  },
  {
   "cell_type": "code",
   "execution_count": 1,
   "id": "b581b6ae",
   "metadata": {
    "execution": {
     "iopub.execute_input": "2023-08-27T18:28:22.827141Z",
     "iopub.status.busy": "2023-08-27T18:28:22.826384Z",
     "iopub.status.idle": "2023-08-27T18:28:32.314581Z",
     "shell.execute_reply": "2023-08-27T18:28:32.313314Z"
    },
    "papermill": {
     "duration": 9.522103,
     "end_time": "2023-08-27T18:28:32.316763",
     "exception": false,
     "start_time": "2023-08-27T18:28:22.794660",
     "status": "completed"
    },
    "tags": []
   },
   "outputs": [
    {
     "name": "stderr",
     "output_type": "stream",
     "text": [
      "/opt/conda/lib/python3.10/site-packages/tensorflow_io/python/ops/__init__.py:98: UserWarning: unable to load libtensorflow_io_plugins.so: unable to open file: libtensorflow_io_plugins.so, from paths: ['/opt/conda/lib/python3.10/site-packages/tensorflow_io/python/ops/libtensorflow_io_plugins.so']\n",
      "caused by: ['/opt/conda/lib/python3.10/site-packages/tensorflow_io/python/ops/libtensorflow_io_plugins.so: undefined symbol: _ZN3tsl6StatusC1EN10tensorflow5error4CodeESt17basic_string_viewIcSt11char_traitsIcEENS_14SourceLocationE']\n",
      "  warnings.warn(f\"unable to load libtensorflow_io_plugins.so: {e}\")\n",
      "/opt/conda/lib/python3.10/site-packages/tensorflow_io/python/ops/__init__.py:104: UserWarning: file system plugins are not loaded: unable to open file: libtensorflow_io.so, from paths: ['/opt/conda/lib/python3.10/site-packages/tensorflow_io/python/ops/libtensorflow_io.so']\n",
      "caused by: ['/opt/conda/lib/python3.10/site-packages/tensorflow_io/python/ops/libtensorflow_io.so: undefined symbol: _ZTVN10tensorflow13GcsFileSystemE']\n",
      "  warnings.warn(f\"file system plugins are not loaded: {e}\")\n",
      "/opt/conda/lib/python3.10/site-packages/tensorflow_addons/utils/tfa_eol_msg.py:23: UserWarning: \n",
      "\n",
      "TensorFlow Addons (TFA) has ended development and introduction of new features.\n",
      "TFA has entered a minimal maintenance and release mode until a planned end of life in May 2024.\n",
      "Please modify downstream libraries to take dependencies from other repositories in our TensorFlow community (e.g. Keras, Keras-CV, and Keras-NLP). \n",
      "\n",
      "For more information see: https://github.com/tensorflow/addons/issues/2807 \n",
      "\n",
      "  warnings.warn(\n"
     ]
    },
    {
     "name": "stdout",
     "output_type": "stream",
     "text": [
      "Tensorflow Version 2.12.0\n",
      "Python Version: 3.10.10 | packaged by conda-forge | (main, Mar 24 2023, 20:08:06) [GCC 11.3.0]\n"
     ]
    }
   ],
   "source": [
    "import numpy as np\n",
    "import pandas as pd\n",
    "import matplotlib.pyplot as plt\n",
    "import matplotlib as mpl\n",
    "import seaborn as sn\n",
    "import tensorflow as tf\n",
    "import tensorflow_addons as tfa\n",
    "\n",
    "from tqdm.notebook import tqdm\n",
    "from sklearn.model_selection import train_test_split, GroupShuffleSplit\n",
    "from leven import levenshtein\n",
    "\n",
    "import glob\n",
    "import sys\n",
    "import os\n",
    "import math\n",
    "import gc\n",
    "import sys\n",
    "import sklearn\n",
    "import time\n",
    "import json\n",
    "\n",
    "# TQDM Progress Bar With Pandas Apply Function\n",
    "tqdm.pandas()\n",
    "\n",
    "print(f'Tensorflow Version {tf.__version__}')\n",
    "print(f'Python Version: {sys.version}')"
   ]
  },
  {
   "cell_type": "markdown",
   "id": "988bffcc",
   "metadata": {
    "papermill": {
     "duration": 0.030198,
     "end_time": "2023-08-27T18:28:32.378435",
     "exception": false,
     "start_time": "2023-08-27T18:28:32.348237",
     "status": "completed"
    },
    "tags": []
   },
   "source": [
    "# Character 2 Ordinal Encoding"
   ]
  },
  {
   "cell_type": "code",
   "execution_count": 2,
   "id": "9694fa1e",
   "metadata": {
    "execution": {
     "iopub.execute_input": "2023-08-27T18:28:32.442397Z",
     "iopub.status.busy": "2023-08-27T18:28:32.441750Z",
     "iopub.status.idle": "2023-08-27T18:28:32.467991Z",
     "shell.execute_reply": "2023-08-27T18:28:32.467078Z"
    },
    "papermill": {
     "duration": 0.061277,
     "end_time": "2023-08-27T18:28:32.470088",
     "exception": false,
     "start_time": "2023-08-27T18:28:32.408811",
     "status": "completed"
    },
    "tags": []
   },
   "outputs": [
    {
     "data": {
      "text/html": [
       "<div>\n",
       "<style scoped>\n",
       "    .dataframe tbody tr th:only-of-type {\n",
       "        vertical-align: middle;\n",
       "    }\n",
       "\n",
       "    .dataframe tbody tr th {\n",
       "        vertical-align: top;\n",
       "    }\n",
       "\n",
       "    .dataframe thead th {\n",
       "        text-align: right;\n",
       "    }\n",
       "</style>\n",
       "<table border=\"1\" class=\"dataframe\">\n",
       "  <thead>\n",
       "    <tr style=\"text-align: right;\">\n",
       "      <th></th>\n",
       "      <th>Ordinal Encoding</th>\n",
       "    </tr>\n",
       "  </thead>\n",
       "  <tbody>\n",
       "    <tr>\n",
       "      <th></th>\n",
       "      <td>0</td>\n",
       "    </tr>\n",
       "    <tr>\n",
       "      <th>!</th>\n",
       "      <td>1</td>\n",
       "    </tr>\n",
       "    <tr>\n",
       "      <th>#</th>\n",
       "      <td>2</td>\n",
       "    </tr>\n",
       "    <tr>\n",
       "      <th>$</th>\n",
       "      <td>3</td>\n",
       "    </tr>\n",
       "    <tr>\n",
       "      <th>%</th>\n",
       "      <td>4</td>\n",
       "    </tr>\n",
       "    <tr>\n",
       "      <th>&amp;</th>\n",
       "      <td>5</td>\n",
       "    </tr>\n",
       "    <tr>\n",
       "      <th>'</th>\n",
       "      <td>6</td>\n",
       "    </tr>\n",
       "    <tr>\n",
       "      <th>(</th>\n",
       "      <td>7</td>\n",
       "    </tr>\n",
       "    <tr>\n",
       "      <th>)</th>\n",
       "      <td>8</td>\n",
       "    </tr>\n",
       "    <tr>\n",
       "      <th>*</th>\n",
       "      <td>9</td>\n",
       "    </tr>\n",
       "    <tr>\n",
       "      <th>+</th>\n",
       "      <td>10</td>\n",
       "    </tr>\n",
       "    <tr>\n",
       "      <th>,</th>\n",
       "      <td>11</td>\n",
       "    </tr>\n",
       "    <tr>\n",
       "      <th>-</th>\n",
       "      <td>12</td>\n",
       "    </tr>\n",
       "    <tr>\n",
       "      <th>.</th>\n",
       "      <td>13</td>\n",
       "    </tr>\n",
       "    <tr>\n",
       "      <th>/</th>\n",
       "      <td>14</td>\n",
       "    </tr>\n",
       "    <tr>\n",
       "      <th>0</th>\n",
       "      <td>15</td>\n",
       "    </tr>\n",
       "    <tr>\n",
       "      <th>1</th>\n",
       "      <td>16</td>\n",
       "    </tr>\n",
       "    <tr>\n",
       "      <th>2</th>\n",
       "      <td>17</td>\n",
       "    </tr>\n",
       "    <tr>\n",
       "      <th>3</th>\n",
       "      <td>18</td>\n",
       "    </tr>\n",
       "    <tr>\n",
       "      <th>4</th>\n",
       "      <td>19</td>\n",
       "    </tr>\n",
       "    <tr>\n",
       "      <th>5</th>\n",
       "      <td>20</td>\n",
       "    </tr>\n",
       "    <tr>\n",
       "      <th>6</th>\n",
       "      <td>21</td>\n",
       "    </tr>\n",
       "    <tr>\n",
       "      <th>7</th>\n",
       "      <td>22</td>\n",
       "    </tr>\n",
       "    <tr>\n",
       "      <th>8</th>\n",
       "      <td>23</td>\n",
       "    </tr>\n",
       "    <tr>\n",
       "      <th>9</th>\n",
       "      <td>24</td>\n",
       "    </tr>\n",
       "    <tr>\n",
       "      <th>:</th>\n",
       "      <td>25</td>\n",
       "    </tr>\n",
       "    <tr>\n",
       "      <th>;</th>\n",
       "      <td>26</td>\n",
       "    </tr>\n",
       "    <tr>\n",
       "      <th>=</th>\n",
       "      <td>27</td>\n",
       "    </tr>\n",
       "    <tr>\n",
       "      <th>?</th>\n",
       "      <td>28</td>\n",
       "    </tr>\n",
       "    <tr>\n",
       "      <th>@</th>\n",
       "      <td>29</td>\n",
       "    </tr>\n",
       "    <tr>\n",
       "      <th>[</th>\n",
       "      <td>30</td>\n",
       "    </tr>\n",
       "    <tr>\n",
       "      <th>_</th>\n",
       "      <td>31</td>\n",
       "    </tr>\n",
       "    <tr>\n",
       "      <th>a</th>\n",
       "      <td>32</td>\n",
       "    </tr>\n",
       "    <tr>\n",
       "      <th>b</th>\n",
       "      <td>33</td>\n",
       "    </tr>\n",
       "    <tr>\n",
       "      <th>c</th>\n",
       "      <td>34</td>\n",
       "    </tr>\n",
       "    <tr>\n",
       "      <th>d</th>\n",
       "      <td>35</td>\n",
       "    </tr>\n",
       "    <tr>\n",
       "      <th>e</th>\n",
       "      <td>36</td>\n",
       "    </tr>\n",
       "    <tr>\n",
       "      <th>f</th>\n",
       "      <td>37</td>\n",
       "    </tr>\n",
       "    <tr>\n",
       "      <th>g</th>\n",
       "      <td>38</td>\n",
       "    </tr>\n",
       "    <tr>\n",
       "      <th>h</th>\n",
       "      <td>39</td>\n",
       "    </tr>\n",
       "    <tr>\n",
       "      <th>i</th>\n",
       "      <td>40</td>\n",
       "    </tr>\n",
       "    <tr>\n",
       "      <th>j</th>\n",
       "      <td>41</td>\n",
       "    </tr>\n",
       "    <tr>\n",
       "      <th>k</th>\n",
       "      <td>42</td>\n",
       "    </tr>\n",
       "    <tr>\n",
       "      <th>l</th>\n",
       "      <td>43</td>\n",
       "    </tr>\n",
       "    <tr>\n",
       "      <th>m</th>\n",
       "      <td>44</td>\n",
       "    </tr>\n",
       "    <tr>\n",
       "      <th>n</th>\n",
       "      <td>45</td>\n",
       "    </tr>\n",
       "    <tr>\n",
       "      <th>o</th>\n",
       "      <td>46</td>\n",
       "    </tr>\n",
       "    <tr>\n",
       "      <th>p</th>\n",
       "      <td>47</td>\n",
       "    </tr>\n",
       "    <tr>\n",
       "      <th>q</th>\n",
       "      <td>48</td>\n",
       "    </tr>\n",
       "    <tr>\n",
       "      <th>r</th>\n",
       "      <td>49</td>\n",
       "    </tr>\n",
       "    <tr>\n",
       "      <th>s</th>\n",
       "      <td>50</td>\n",
       "    </tr>\n",
       "    <tr>\n",
       "      <th>t</th>\n",
       "      <td>51</td>\n",
       "    </tr>\n",
       "    <tr>\n",
       "      <th>u</th>\n",
       "      <td>52</td>\n",
       "    </tr>\n",
       "    <tr>\n",
       "      <th>v</th>\n",
       "      <td>53</td>\n",
       "    </tr>\n",
       "    <tr>\n",
       "      <th>w</th>\n",
       "      <td>54</td>\n",
       "    </tr>\n",
       "    <tr>\n",
       "      <th>x</th>\n",
       "      <td>55</td>\n",
       "    </tr>\n",
       "    <tr>\n",
       "      <th>y</th>\n",
       "      <td>56</td>\n",
       "    </tr>\n",
       "    <tr>\n",
       "      <th>z</th>\n",
       "      <td>57</td>\n",
       "    </tr>\n",
       "    <tr>\n",
       "      <th>~</th>\n",
       "      <td>58</td>\n",
       "    </tr>\n",
       "  </tbody>\n",
       "</table>\n",
       "</div>"
      ],
      "text/plain": [
       "   Ordinal Encoding\n",
       "                  0\n",
       "!                 1\n",
       "#                 2\n",
       "$                 3\n",
       "%                 4\n",
       "&                 5\n",
       "'                 6\n",
       "(                 7\n",
       ")                 8\n",
       "*                 9\n",
       "+                10\n",
       ",                11\n",
       "-                12\n",
       ".                13\n",
       "/                14\n",
       "0                15\n",
       "1                16\n",
       "2                17\n",
       "3                18\n",
       "4                19\n",
       "5                20\n",
       "6                21\n",
       "7                22\n",
       "8                23\n",
       "9                24\n",
       ":                25\n",
       ";                26\n",
       "=                27\n",
       "?                28\n",
       "@                29\n",
       "[                30\n",
       "_                31\n",
       "a                32\n",
       "b                33\n",
       "c                34\n",
       "d                35\n",
       "e                36\n",
       "f                37\n",
       "g                38\n",
       "h                39\n",
       "i                40\n",
       "j                41\n",
       "k                42\n",
       "l                43\n",
       "m                44\n",
       "n                45\n",
       "o                46\n",
       "p                47\n",
       "q                48\n",
       "r                49\n",
       "s                50\n",
       "t                51\n",
       "u                52\n",
       "v                53\n",
       "w                54\n",
       "x                55\n",
       "y                56\n",
       "z                57\n",
       "~                58"
      ]
     },
     "metadata": {},
     "output_type": "display_data"
    }
   ],
   "source": [
    "# Read Character to Ordinal Encoding Mapping\n",
    "with open('/kaggle/input/asl-fingerspelling/character_to_prediction_index.json') as json_file:\n",
    "    CHAR2ORD = json.load(json_file)\n",
    "    \n",
    "# Ordinal to Character Mapping\n",
    "ORD2CHAR = {j:i for i,j in CHAR2ORD.items()}\n",
    "    \n",
    "# Character to Ordinal Encoding Mapping   \n",
    "display(pd.Series(CHAR2ORD).to_frame('Ordinal Encoding'))"
   ]
  },
  {
   "cell_type": "markdown",
   "id": "e7535fab",
   "metadata": {
    "papermill": {
     "duration": 0.030332,
     "end_time": "2023-08-27T18:28:32.531376",
     "exception": false,
     "start_time": "2023-08-27T18:28:32.501044",
     "status": "completed"
    },
    "tags": []
   },
   "source": [
    "# Global Config"
   ]
  },
  {
   "cell_type": "markdown",
   "id": "96059d25",
   "metadata": {
    "papermill": {
     "duration": 0.030186,
     "end_time": "2023-08-27T18:28:32.592741",
     "exception": false,
     "start_time": "2023-08-27T18:28:32.562555",
     "status": "completed"
    },
    "tags": []
   },
   "source": [
    "Hyperparameters\n",
    "We define the hyperparameters that will be used later:\n",
    "\n",
    "IS_INTERACTIVE: This variable indicates whether the notebook is running in interactive mode, which means it is being executed in an environment where changes and experiments can be performed interactively. In this mode, you can run code cells individually, modify the code, and see the results immediately. This is useful when developing and debugging code as it allows you to make quick changes and observe their effects in real-time. If you want to execute the complete code (5 hours), run it without interactive mode (save version or submit).\n",
    "\n",
    "SEED: This is a global random seed used to reproduce the results. By setting a seed, it ensures that the results are consistent across different runs.\n",
    "\n",
    "N_TARGET_FRAMES: This variable indicates the number of frames to which the recordings will be resized. This is done to standardize the length of input sequences.\n",
    "\n",
    "DEBUG: This variable indicates whether it is running in debug mode. If True, it will run in debug mode, which may involve running a subset of the data for faster execution and easier debugging.\n",
    "\n",
    "N_UNIQUE_CHARACTERS0: This variable represents the number of unique characters that the model should predict. It does not include the padding token, the start of sentence token, and the end of sentence token.\n",
    "\n",
    "N_UNIQUE_CHARACTERS: This variable is similar to N_UNIQUE_CHARACTERS0, but includes the padding token, the start of sentence token, and the end of sentence token. Therefore, it represents the total number of classes the model should predict.\n",
    "\n",
    "PAD_TOKEN, START_TOKEN, and END_TOKEN: These variables represent the indices of the padding, start of sentence, and end of sentence tokens in the vocabulary. They are used during data processing and target text sequence generation.\n",
    "\n",
    "USE_VAL: This variable controls whether to use 10% of the data for validation during training.\n",
    "\n",
    "BATCH_SIZE: This variable determines the batch size for training.\n",
    "\n",
    "N_EPOCHS: This variable sets the number of epochs for training the model. If IS_INTERACTIVE is True, it is set to 2 for quick interactive training; otherwise, it is set to 100 for normal training.\n",
    "\n",
    "N_WARMUP_EPOCHS: This variable defines the number of warm-up epochs in the learning rate scheduler.\n",
    "\n",
    "LR_MAX: This variable sets the maximum learning rate for the training process.\n",
    "\n",
    "WD_RATIO: This variable represents the weight decay ratio based on the learning rate.\n",
    "\n",
    "MAX_PHRASE_LENGTH: This variable defines the maximum length of a phrase, including the end of sentence token.\n",
    "\n",
    "TRAIN_MODEL: This variable controls whether to train the model.\n",
    "\n",
    "LOAD_WEIGHTS: This variable controls whether to load pre-trained weights for the model.\n",
    "\n",
    "WARMUP_METHOD: This variable specifies the warm-up method for the learning rate scheduler, either 'log' or 'exp'. If 'log', the learning rate gradually increases in a logarithmic manner during the initial warm-up epochs. This means that it increases slowly at first and then accelerates as the warm-up epochs progress. It is useful when a smoother and more gradual warm-up is desired. If 'exp', the learning rate increases exponentially during the initial warm-up epochs. This implies a faster increase at the beginning and a higher learning rate in the initial epochs. It is useful when a faster and more aggressive warm-up is desired."
   ]
  },
  {
   "cell_type": "code",
   "execution_count": 3,
   "id": "69ac0963",
   "metadata": {
    "execution": {
     "iopub.execute_input": "2023-08-27T18:28:32.656507Z",
     "iopub.status.busy": "2023-08-27T18:28:32.656194Z",
     "iopub.status.idle": "2023-08-27T18:28:32.663681Z",
     "shell.execute_reply": "2023-08-27T18:28:32.662633Z"
    },
    "papermill": {
     "duration": 0.042296,
     "end_time": "2023-08-27T18:28:32.665842",
     "exception": false,
     "start_time": "2023-08-27T18:28:32.623546",
     "status": "completed"
    },
    "tags": []
   },
   "outputs": [],
   "source": [
    "# If Notebook Is Run By Committing or In Interactive Mode For Development\n",
    "IS_INTERACTIVE = os.environ['KAGGLE_KERNEL_RUN_TYPE'] == 'Interactive'\n",
    "# Verbose Setting during training\n",
    "VERBOSE = 1 if IS_INTERACTIVE else 2\n",
    "# Global Random Seed\n",
    "SEED = 42\n",
    "# Number of Frames to resize recording to\n",
    "N_TARGET_FRAMES = 128\n",
    "# Global debug flag, takes subset of train\n",
    "DEBUG = False\n",
    "# Number of Unique Characters To Predict + Pad Token + SOS Token + EOS Token\n",
    "N_UNIQUE_CHARACTERS0 = len(CHAR2ORD)\n",
    "N_UNIQUE_CHARACTERS = len(CHAR2ORD) + 1 + 1 + 1\n",
    "PAD_TOKEN = len(CHAR2ORD) # Padding\n",
    "SOS_TOKEN = len(CHAR2ORD) + 1 # Start Of Sentence\n",
    "EOS_TOKEN = len(CHAR2ORD) + 2 # End Of Sentence\n",
    "# Whether to use 10% of data for validation\n",
    "USE_VAL = False\n",
    "# Batch Size\n",
    "BATCH_SIZE = 64\n",
    "# Number of Epochs to Train for\n",
    "N_EPOCHS = 2 if IS_INTERACTIVE else 100\n",
    "# Number of Warmup Epochs in Learning Rate Scheduler\n",
    "N_WARMUP_EPOCHS = 10\n",
    "# Maximum Learning Rate\n",
    "LR_MAX = 1e-3\n",
    "# Weight Decay Ratio as Ratio of Learning Rate\n",
    "WD_RATIO = 0.05\n",
    "# Length of Phrase + EOS Token\n",
    "MAX_PHRASE_LENGTH = 31 + 1\n",
    "# Whether to Train The model\n",
    "TRAIN_MODEL = False\n",
    "# Whether to Load Pretrained Weights\n",
    "LOAD_WEIGHTS = True\n",
    "# Learning Rate Warmup Method [log,exp]\n",
    "WARMUP_METHOD = 'exp'"
   ]
  },
  {
   "cell_type": "markdown",
   "id": "5a5d4925",
   "metadata": {
    "papermill": {
     "duration": 0.030326,
     "end_time": "2023-08-27T18:28:32.726578",
     "exception": false,
     "start_time": "2023-08-27T18:28:32.696252",
     "status": "completed"
    },
    "tags": []
   },
   "source": [
    "# Plot Config"
   ]
  },
  {
   "cell_type": "code",
   "execution_count": 4,
   "id": "7819735c",
   "metadata": {
    "execution": {
     "iopub.execute_input": "2023-08-27T18:28:32.790120Z",
     "iopub.status.busy": "2023-08-27T18:28:32.789333Z",
     "iopub.status.idle": "2023-08-27T18:28:32.796545Z",
     "shell.execute_reply": "2023-08-27T18:28:32.795711Z"
    },
    "papermill": {
     "duration": 0.040928,
     "end_time": "2023-08-27T18:28:32.798532",
     "exception": false,
     "start_time": "2023-08-27T18:28:32.757604",
     "status": "completed"
    },
    "tags": []
   },
   "outputs": [],
   "source": [
    "# MatplotLib Global Settings\n",
    "mpl.rcParams.update(mpl.rcParamsDefault)\n",
    "mpl.rcParams['xtick.labelsize'] = 16\n",
    "mpl.rcParams['ytick.labelsize'] = 16\n",
    "mpl.rcParams['axes.labelsize'] = 18\n",
    "mpl.rcParams['axes.titlesize'] = 24"
   ]
  },
  {
   "cell_type": "markdown",
   "id": "4bcc3336",
   "metadata": {
    "papermill": {
     "duration": 0.030635,
     "end_time": "2023-08-27T18:28:32.859774",
     "exception": false,
     "start_time": "2023-08-27T18:28:32.829139",
     "status": "completed"
    },
    "tags": []
   },
   "source": [
    "# Train"
   ]
  },
  {
   "cell_type": "code",
   "execution_count": 5,
   "id": "2bffcc4f",
   "metadata": {
    "execution": {
     "iopub.execute_input": "2023-08-27T18:28:32.923230Z",
     "iopub.status.busy": "2023-08-27T18:28:32.922607Z",
     "iopub.status.idle": "2023-08-27T18:28:33.129345Z",
     "shell.execute_reply": "2023-08-27T18:28:33.128258Z"
    },
    "papermill": {
     "duration": 0.240911,
     "end_time": "2023-08-27T18:28:33.131549",
     "exception": false,
     "start_time": "2023-08-27T18:28:32.890638",
     "status": "completed"
    },
    "tags": []
   },
   "outputs": [
    {
     "name": "stdout",
     "output_type": "stream",
     "text": [
      "N_SAMPLES: 67208\n",
      "<class 'pandas.core.frame.DataFrame'>\n",
      "RangeIndex: 67208 entries, 0 to 67207\n",
      "Data columns (total 5 columns):\n",
      " #   Column          Non-Null Count  Dtype \n",
      "---  ------          --------------  ----- \n",
      " 0   path            67208 non-null  object\n",
      " 1   file_id         67208 non-null  int64 \n",
      " 2   sequence_id     67208 non-null  int64 \n",
      " 3   participant_id  67208 non-null  int64 \n",
      " 4   phrase          67208 non-null  object\n",
      "dtypes: int64(3), object(2)\n",
      "memory usage: 2.6+ MB\n"
     ]
    },
    {
     "data": {
      "text/plain": [
       "None"
      ]
     },
     "metadata": {},
     "output_type": "display_data"
    },
    {
     "data": {
      "text/html": [
       "<div>\n",
       "<style scoped>\n",
       "    .dataframe tbody tr th:only-of-type {\n",
       "        vertical-align: middle;\n",
       "    }\n",
       "\n",
       "    .dataframe tbody tr th {\n",
       "        vertical-align: top;\n",
       "    }\n",
       "\n",
       "    .dataframe thead th {\n",
       "        text-align: right;\n",
       "    }\n",
       "</style>\n",
       "<table border=\"1\" class=\"dataframe\">\n",
       "  <thead>\n",
       "    <tr style=\"text-align: right;\">\n",
       "      <th></th>\n",
       "      <th>path</th>\n",
       "      <th>file_id</th>\n",
       "      <th>sequence_id</th>\n",
       "      <th>participant_id</th>\n",
       "      <th>phrase</th>\n",
       "    </tr>\n",
       "  </thead>\n",
       "  <tbody>\n",
       "    <tr>\n",
       "      <th>0</th>\n",
       "      <td>train_landmarks/5414471.parquet</td>\n",
       "      <td>5414471</td>\n",
       "      <td>1816796431</td>\n",
       "      <td>217</td>\n",
       "      <td>3 creekhouse</td>\n",
       "    </tr>\n",
       "    <tr>\n",
       "      <th>1</th>\n",
       "      <td>train_landmarks/5414471.parquet</td>\n",
       "      <td>5414471</td>\n",
       "      <td>1816825349</td>\n",
       "      <td>107</td>\n",
       "      <td>scales/kuhaylah</td>\n",
       "    </tr>\n",
       "    <tr>\n",
       "      <th>2</th>\n",
       "      <td>train_landmarks/5414471.parquet</td>\n",
       "      <td>5414471</td>\n",
       "      <td>1816909464</td>\n",
       "      <td>1</td>\n",
       "      <td>1383 william lanier</td>\n",
       "    </tr>\n",
       "    <tr>\n",
       "      <th>3</th>\n",
       "      <td>train_landmarks/5414471.parquet</td>\n",
       "      <td>5414471</td>\n",
       "      <td>1816967051</td>\n",
       "      <td>63</td>\n",
       "      <td>988 franklin lane</td>\n",
       "    </tr>\n",
       "    <tr>\n",
       "      <th>4</th>\n",
       "      <td>train_landmarks/5414471.parquet</td>\n",
       "      <td>5414471</td>\n",
       "      <td>1817123330</td>\n",
       "      <td>89</td>\n",
       "      <td>6920 northeast 661st road</td>\n",
       "    </tr>\n",
       "  </tbody>\n",
       "</table>\n",
       "</div>"
      ],
      "text/plain": [
       "                              path  file_id  sequence_id  participant_id  \\\n",
       "0  train_landmarks/5414471.parquet  5414471   1816796431             217   \n",
       "1  train_landmarks/5414471.parquet  5414471   1816825349             107   \n",
       "2  train_landmarks/5414471.parquet  5414471   1816909464               1   \n",
       "3  train_landmarks/5414471.parquet  5414471   1816967051              63   \n",
       "4  train_landmarks/5414471.parquet  5414471   1817123330              89   \n",
       "\n",
       "                      phrase  \n",
       "0               3 creekhouse  \n",
       "1            scales/kuhaylah  \n",
       "2        1383 william lanier  \n",
       "3          988 franklin lane  \n",
       "4  6920 northeast 661st road  "
      ]
     },
     "metadata": {},
     "output_type": "display_data"
    }
   ],
   "source": [
    "# Read Train DataFrame\n",
    "if DEBUG:\n",
    "    train = pd.read_csv('/kaggle/input/asl-fingerspelling/train.csv').head(5000)\n",
    "else:\n",
    "    train = pd.read_csv('/kaggle/input/asl-fingerspelling/train.csv')\n",
    "    \n",
    "# Set Train Indexed By sqeuence_id\n",
    "train_sequence_id = train.set_index('sequence_id')\n",
    "\n",
    "# Number Of Train Samples\n",
    "N_SAMPLES = len(train)\n",
    "print(f'N_SAMPLES: {N_SAMPLES}')\n",
    "\n",
    "display(train.info())\n",
    "display(train.head())"
   ]
  },
  {
   "cell_type": "markdown",
   "id": "48799cd0",
   "metadata": {
    "papermill": {
     "duration": 0.030928,
     "end_time": "2023-08-27T18:28:33.194327",
     "exception": false,
     "start_time": "2023-08-27T18:28:33.163399",
     "status": "completed"
    },
    "tags": []
   },
   "source": [
    "# File Path"
   ]
  },
  {
   "cell_type": "code",
   "execution_count": 6,
   "id": "68a49fa8",
   "metadata": {
    "execution": {
     "iopub.execute_input": "2023-08-27T18:28:33.260590Z",
     "iopub.status.busy": "2023-08-27T18:28:33.259138Z",
     "iopub.status.idle": "2023-08-27T18:28:33.290503Z",
     "shell.execute_reply": "2023-08-27T18:28:33.289617Z"
    },
    "papermill": {
     "duration": 0.067219,
     "end_time": "2023-08-27T18:28:33.292673",
     "exception": false,
     "start_time": "2023-08-27T18:28:33.225454",
     "status": "completed"
    },
    "tags": []
   },
   "outputs": [],
   "source": [
    "# Get complete file path to file\n",
    "def get_file_path(path):\n",
    "    return f'/kaggle/input/asl-fingerspelling/{path}'\n",
    "\n",
    "train['file_path'] = train['path'].apply(get_file_path)"
   ]
  },
  {
   "cell_type": "markdown",
   "id": "0669a76d",
   "metadata": {
    "papermill": {
     "duration": 0.03541,
     "end_time": "2023-08-27T18:28:33.362766",
     "exception": false,
     "start_time": "2023-08-27T18:28:33.327356",
     "status": "completed"
    },
    "tags": []
   },
   "source": [
    "# Example File Paths"
   ]
  },
  {
   "cell_type": "code",
   "execution_count": 7,
   "id": "85b8c328",
   "metadata": {
    "execution": {
     "iopub.execute_input": "2023-08-27T18:28:33.432420Z",
     "iopub.status.busy": "2023-08-27T18:28:33.430885Z",
     "iopub.status.idle": "2023-08-27T18:28:33.449308Z",
     "shell.execute_reply": "2023-08-27T18:28:33.448044Z"
    },
    "papermill": {
     "duration": 0.054525,
     "end_time": "2023-08-27T18:28:33.451402",
     "exception": false,
     "start_time": "2023-08-27T18:28:33.396877",
     "status": "completed"
    },
    "tags": []
   },
   "outputs": [
    {
     "name": "stdout",
     "output_type": "stream",
     "text": [
      "Found 10 Inference Pickle Files\n"
     ]
    }
   ],
   "source": [
    "# Unique Parquet Files\n",
    "INFERENCE_FILE_PATHS = pd.Series(\n",
    "        glob.glob('/kaggle/input/aslfr-preprocessing-dataset/train_landmark_subsets/*')\n",
    "    )\n",
    "\n",
    "print(f'Found {len(INFERENCE_FILE_PATHS)} Inference Pickle Files')"
   ]
  },
  {
   "cell_type": "markdown",
   "id": "05a1f185",
   "metadata": {
    "papermill": {
     "duration": 0.031495,
     "end_time": "2023-08-27T18:28:33.514777",
     "exception": false,
     "start_time": "2023-08-27T18:28:33.483282",
     "status": "completed"
    },
    "tags": []
   },
   "source": [
    "# Load X/y"
   ]
  },
  {
   "cell_type": "markdown",
   "id": "6edcb8f5",
   "metadata": {
    "papermill": {
     "duration": 0.031963,
     "end_time": "2023-08-27T18:28:33.578980",
     "exception": false,
     "start_time": "2023-08-27T18:28:33.547017",
     "status": "completed"
    },
    "tags": []
   },
   "source": [
    "We load the training and validation files. In our case, USE_VAL=False, so we load the complete X and y. The original shape of the y files is [61955, 128], due to the padding we have applied. Since we have chosen the phrase limit to be 31+1 spaces, with the last space as the end-of-sentence token, we restrict the size from 128 to 32."
   ]
  },
  {
   "cell_type": "code",
   "execution_count": 8,
   "id": "4252eade",
   "metadata": {
    "execution": {
     "iopub.execute_input": "2023-08-27T18:28:33.643894Z",
     "iopub.status.busy": "2023-08-27T18:28:33.642895Z",
     "iopub.status.idle": "2023-08-27T18:29:27.281194Z",
     "shell.execute_reply": "2023-08-27T18:29:27.280162Z"
    },
    "papermill": {
     "duration": 53.704087,
     "end_time": "2023-08-27T18:29:27.314066",
     "exception": false,
     "start_time": "2023-08-27T18:28:33.609979",
     "status": "completed"
    },
    "tags": []
   },
   "outputs": [
    {
     "name": "stdout",
     "output_type": "stream",
     "text": [
      "X_train shape: (61955, 128, 164)\n"
     ]
    }
   ],
   "source": [
    "# Train/Validation\n",
    "if USE_VAL:\n",
    "    # TRAIN\n",
    "    X_train = np.load('/kaggle/input/aslfr-preprocessing-dataset/X_train.npy')\n",
    "    y_train = np.load('/kaggle/input/aslfr-preprocessing-dataset/y_train.npy')[:,:MAX_PHRASE_LENGTH]\n",
    "    N_TRAIN_SAMPLES = len(X_train)\n",
    "    # VAL\n",
    "    X_val = np.load('/kaggle/input/aslfr-preprocessing-dataset/X_val.npy')\n",
    "    y_val = np.load('/kaggle/input/aslfr-preprocessing-dataset/y_val.npy')[:,:MAX_PHRASE_LENGTH]\n",
    "    N_VAL_SAMPLES = len(X_val)\n",
    "    # Shapes\n",
    "    print(f'X_train shape: {X_train.shape}, X_val shape: {X_val.shape}')\n",
    "# Train On All Data\n",
    "else:\n",
    "    # TRAIN\n",
    "    X_train = np.load('/kaggle/input/aslfr-preprocessing-dataset/X.npy')\n",
    "    y_train = np.load('/kaggle/input/aslfr-preprocessing-dataset/y.npy')[:,:MAX_PHRASE_LENGTH]\n",
    "    N_TRAIN_SAMPLES = len(X_train)\n",
    "    print(f'X_train shape: {X_train.shape}')"
   ]
  },
  {
   "cell_type": "markdown",
   "id": "991b1399",
   "metadata": {
    "papermill": {
     "duration": 0.031212,
     "end_time": "2023-08-27T18:29:27.377116",
     "exception": false,
     "start_time": "2023-08-27T18:29:27.345904",
     "status": "completed"
    },
    "tags": []
   },
   "source": [
    "# Example Batch"
   ]
  },
  {
   "cell_type": "markdown",
   "id": "20ab6aca",
   "metadata": {
    "papermill": {
     "duration": 0.030975,
     "end_time": "2023-08-27T18:29:27.439524",
     "exception": false,
     "start_time": "2023-08-27T18:29:27.408549",
     "status": "completed"
    },
    "tags": []
   },
   "source": [
    "We create batches of examples to debug or test the code. We create two sets of examples: one with a larger sample size (N_EXAMPLE_BATCH_SAMPLES) and another with a smaller sample size (N_EXAMPLE_BATCH_SAMPLES_SMALL).\n",
    "\n",
    "In each set of examples, we create a dictionary X_batch containing the input features, and an array y_batch containing the output labels.\n",
    "\n",
    "In the X_batch dictionary, we copy the first N_EXAMPLE_BATCH_SAMPLES training samples from X_train. The frames represent the data of the frames (rows in this case, where each row is a set of [1, 128, 164]), and phrase represents the phrases associated with the frames.\n",
    "\n",
    "In the y_batch array, we copy the first N_EXAMPLE_BATCH_SAMPLES training labels from y_train, which correspond to the phrases associated with the frames.\n",
    "\n",
    "We perform the same procedure for the smaller set, using the variables X_batch_small and y_batch_small."
   ]
  },
  {
   "cell_type": "code",
   "execution_count": 9,
   "id": "1ec3bf1f",
   "metadata": {
    "execution": {
     "iopub.execute_input": "2023-08-27T18:29:27.506399Z",
     "iopub.status.busy": "2023-08-27T18:29:27.506040Z",
     "iopub.status.idle": "2023-08-27T18:29:27.616978Z",
     "shell.execute_reply": "2023-08-27T18:29:27.615869Z"
    },
    "papermill": {
     "duration": 0.147043,
     "end_time": "2023-08-27T18:29:27.619488",
     "exception": false,
     "start_time": "2023-08-27T18:29:27.472445",
     "status": "completed"
    },
    "tags": []
   },
   "outputs": [],
   "source": [
    "# Example Batch For Debugging\n",
    "N_EXAMPLE_BATCH_SAMPLES = 1024\n",
    "N_EXAMPLE_BATCH_SAMPLES_SMALL = 32\n",
    "# Example Batch\n",
    "X_batch = {\n",
    "    'frames': np.copy(X_train[:N_EXAMPLE_BATCH_SAMPLES]),\n",
    "    'phrase': np.copy(y_train[:N_EXAMPLE_BATCH_SAMPLES]),\n",
    "#     'phrase_type': np.copy(y_phrase_type_train[:N_EXAMPLE_BATCH_SAMPLES]),\n",
    "}\n",
    "y_batch = np.copy(y_train[:N_EXAMPLE_BATCH_SAMPLES])\n",
    "# Small Example Batch\n",
    "X_batch_small = {\n",
    "    'frames': np.copy(X_train[:N_EXAMPLE_BATCH_SAMPLES_SMALL]),\n",
    "    'phrase': np.copy(y_train[:N_EXAMPLE_BATCH_SAMPLES_SMALL]),\n",
    "#     'phrase_type': np.copy(y_phrase_type_train[:N_EXAMPLE_BATCH_SAMPLES_SMALL]),\n",
    "}\n",
    "y_batch_small = np.copy(y_train[:N_EXAMPLE_BATCH_SAMPLES_SMALL])"
   ]
  },
  {
   "cell_type": "markdown",
   "id": "18c36f38",
   "metadata": {
    "papermill": {
     "duration": 0.031717,
     "end_time": "2023-08-27T18:29:27.684002",
     "exception": false,
     "start_time": "2023-08-27T18:29:27.652285",
     "status": "completed"
    },
    "tags": []
   },
   "source": [
    "# Example Parquet"
   ]
  },
  {
   "cell_type": "code",
   "execution_count": 10,
   "id": "47c10ab3",
   "metadata": {
    "execution": {
     "iopub.execute_input": "2023-08-27T18:29:27.751751Z",
     "iopub.status.busy": "2023-08-27T18:29:27.751406Z",
     "iopub.status.idle": "2023-08-27T18:29:29.321057Z",
     "shell.execute_reply": "2023-08-27T18:29:29.320097Z"
    },
    "papermill": {
     "duration": 1.604848,
     "end_time": "2023-08-27T18:29:29.323092",
     "exception": false,
     "start_time": "2023-08-27T18:29:27.718244",
     "status": "completed"
    },
    "tags": []
   },
   "outputs": [
    {
     "name": "stdout",
     "output_type": "stream",
     "text": [
      "# Unique Recording: 1000\n"
     ]
    },
    {
     "data": {
      "text/html": [
       "<div>\n",
       "<style scoped>\n",
       "    .dataframe tbody tr th:only-of-type {\n",
       "        vertical-align: middle;\n",
       "    }\n",
       "\n",
       "    .dataframe tbody tr th {\n",
       "        vertical-align: top;\n",
       "    }\n",
       "\n",
       "    .dataframe thead th {\n",
       "        text-align: right;\n",
       "    }\n",
       "</style>\n",
       "<table border=\"1\" class=\"dataframe\">\n",
       "  <thead>\n",
       "    <tr style=\"text-align: right;\">\n",
       "      <th></th>\n",
       "      <th>x_left_hand_0</th>\n",
       "      <th>x_left_hand_1</th>\n",
       "      <th>x_left_hand_2</th>\n",
       "      <th>x_left_hand_3</th>\n",
       "      <th>x_left_hand_4</th>\n",
       "      <th>x_left_hand_5</th>\n",
       "      <th>x_left_hand_6</th>\n",
       "      <th>x_left_hand_7</th>\n",
       "      <th>x_left_hand_8</th>\n",
       "      <th>x_left_hand_9</th>\n",
       "      <th>...</th>\n",
       "      <th>y_face_314</th>\n",
       "      <th>y_face_317</th>\n",
       "      <th>y_face_318</th>\n",
       "      <th>y_face_321</th>\n",
       "      <th>y_face_324</th>\n",
       "      <th>y_face_375</th>\n",
       "      <th>y_face_402</th>\n",
       "      <th>y_face_405</th>\n",
       "      <th>y_face_409</th>\n",
       "      <th>y_face_415</th>\n",
       "    </tr>\n",
       "    <tr>\n",
       "      <th>sequence_id</th>\n",
       "      <th></th>\n",
       "      <th></th>\n",
       "      <th></th>\n",
       "      <th></th>\n",
       "      <th></th>\n",
       "      <th></th>\n",
       "      <th></th>\n",
       "      <th></th>\n",
       "      <th></th>\n",
       "      <th></th>\n",
       "      <th></th>\n",
       "      <th></th>\n",
       "      <th></th>\n",
       "      <th></th>\n",
       "      <th></th>\n",
       "      <th></th>\n",
       "      <th></th>\n",
       "      <th></th>\n",
       "      <th></th>\n",
       "      <th></th>\n",
       "      <th></th>\n",
       "    </tr>\n",
       "  </thead>\n",
       "  <tbody>\n",
       "    <tr>\n",
       "      <th>1816796431</th>\n",
       "      <td>NaN</td>\n",
       "      <td>NaN</td>\n",
       "      <td>NaN</td>\n",
       "      <td>NaN</td>\n",
       "      <td>NaN</td>\n",
       "      <td>NaN</td>\n",
       "      <td>NaN</td>\n",
       "      <td>NaN</td>\n",
       "      <td>NaN</td>\n",
       "      <td>NaN</td>\n",
       "      <td>...</td>\n",
       "      <td>0.551424</td>\n",
       "      <td>0.538415</td>\n",
       "      <td>0.539000</td>\n",
       "      <td>0.546458</td>\n",
       "      <td>0.539715</td>\n",
       "      <td>0.543958</td>\n",
       "      <td>0.538425</td>\n",
       "      <td>0.549351</td>\n",
       "      <td>0.538230</td>\n",
       "      <td>0.540015</td>\n",
       "    </tr>\n",
       "    <tr>\n",
       "      <th>1816796431</th>\n",
       "      <td>NaN</td>\n",
       "      <td>NaN</td>\n",
       "      <td>NaN</td>\n",
       "      <td>NaN</td>\n",
       "      <td>NaN</td>\n",
       "      <td>NaN</td>\n",
       "      <td>NaN</td>\n",
       "      <td>NaN</td>\n",
       "      <td>NaN</td>\n",
       "      <td>NaN</td>\n",
       "      <td>...</td>\n",
       "      <td>0.550706</td>\n",
       "      <td>0.538216</td>\n",
       "      <td>0.538723</td>\n",
       "      <td>0.545990</td>\n",
       "      <td>0.539296</td>\n",
       "      <td>0.543357</td>\n",
       "      <td>0.538225</td>\n",
       "      <td>0.548827</td>\n",
       "      <td>0.537376</td>\n",
       "      <td>0.539256</td>\n",
       "    </tr>\n",
       "    <tr>\n",
       "      <th>1816796431</th>\n",
       "      <td>NaN</td>\n",
       "      <td>NaN</td>\n",
       "      <td>NaN</td>\n",
       "      <td>NaN</td>\n",
       "      <td>NaN</td>\n",
       "      <td>NaN</td>\n",
       "      <td>NaN</td>\n",
       "      <td>NaN</td>\n",
       "      <td>NaN</td>\n",
       "      <td>NaN</td>\n",
       "      <td>...</td>\n",
       "      <td>0.550613</td>\n",
       "      <td>0.537836</td>\n",
       "      <td>0.538564</td>\n",
       "      <td>0.545949</td>\n",
       "      <td>0.539212</td>\n",
       "      <td>0.543279</td>\n",
       "      <td>0.537961</td>\n",
       "      <td>0.548796</td>\n",
       "      <td>0.537360</td>\n",
       "      <td>0.539332</td>\n",
       "    </tr>\n",
       "    <tr>\n",
       "      <th>1816796431</th>\n",
       "      <td>NaN</td>\n",
       "      <td>NaN</td>\n",
       "      <td>NaN</td>\n",
       "      <td>NaN</td>\n",
       "      <td>NaN</td>\n",
       "      <td>NaN</td>\n",
       "      <td>NaN</td>\n",
       "      <td>NaN</td>\n",
       "      <td>NaN</td>\n",
       "      <td>NaN</td>\n",
       "      <td>...</td>\n",
       "      <td>0.549740</td>\n",
       "      <td>0.536994</td>\n",
       "      <td>0.538449</td>\n",
       "      <td>0.545622</td>\n",
       "      <td>0.539666</td>\n",
       "      <td>0.543694</td>\n",
       "      <td>0.537328</td>\n",
       "      <td>0.548015</td>\n",
       "      <td>0.538301</td>\n",
       "      <td>0.539954</td>\n",
       "    </tr>\n",
       "    <tr>\n",
       "      <th>1816796431</th>\n",
       "      <td>NaN</td>\n",
       "      <td>NaN</td>\n",
       "      <td>NaN</td>\n",
       "      <td>NaN</td>\n",
       "      <td>NaN</td>\n",
       "      <td>NaN</td>\n",
       "      <td>NaN</td>\n",
       "      <td>NaN</td>\n",
       "      <td>NaN</td>\n",
       "      <td>NaN</td>\n",
       "      <td>...</td>\n",
       "      <td>0.550614</td>\n",
       "      <td>0.538677</td>\n",
       "      <td>0.540376</td>\n",
       "      <td>0.547104</td>\n",
       "      <td>0.541524</td>\n",
       "      <td>0.545222</td>\n",
       "      <td>0.539203</td>\n",
       "      <td>0.549211</td>\n",
       "      <td>0.539734</td>\n",
       "      <td>0.541707</td>\n",
       "    </tr>\n",
       "  </tbody>\n",
       "</table>\n",
       "<p>5 rows × 164 columns</p>\n",
       "</div>"
      ],
      "text/plain": [
       "             x_left_hand_0  x_left_hand_1  x_left_hand_2  x_left_hand_3  \\\n",
       "sequence_id                                                               \n",
       "1816796431             NaN            NaN            NaN            NaN   \n",
       "1816796431             NaN            NaN            NaN            NaN   \n",
       "1816796431             NaN            NaN            NaN            NaN   \n",
       "1816796431             NaN            NaN            NaN            NaN   \n",
       "1816796431             NaN            NaN            NaN            NaN   \n",
       "\n",
       "             x_left_hand_4  x_left_hand_5  x_left_hand_6  x_left_hand_7  \\\n",
       "sequence_id                                                               \n",
       "1816796431             NaN            NaN            NaN            NaN   \n",
       "1816796431             NaN            NaN            NaN            NaN   \n",
       "1816796431             NaN            NaN            NaN            NaN   \n",
       "1816796431             NaN            NaN            NaN            NaN   \n",
       "1816796431             NaN            NaN            NaN            NaN   \n",
       "\n",
       "             x_left_hand_8  x_left_hand_9  ...  y_face_314  y_face_317  \\\n",
       "sequence_id                                ...                           \n",
       "1816796431             NaN            NaN  ...    0.551424    0.538415   \n",
       "1816796431             NaN            NaN  ...    0.550706    0.538216   \n",
       "1816796431             NaN            NaN  ...    0.550613    0.537836   \n",
       "1816796431             NaN            NaN  ...    0.549740    0.536994   \n",
       "1816796431             NaN            NaN  ...    0.550614    0.538677   \n",
       "\n",
       "             y_face_318  y_face_321  y_face_324  y_face_375  y_face_402  \\\n",
       "sequence_id                                                               \n",
       "1816796431     0.539000    0.546458    0.539715    0.543958    0.538425   \n",
       "1816796431     0.538723    0.545990    0.539296    0.543357    0.538225   \n",
       "1816796431     0.538564    0.545949    0.539212    0.543279    0.537961   \n",
       "1816796431     0.538449    0.545622    0.539666    0.543694    0.537328   \n",
       "1816796431     0.540376    0.547104    0.541524    0.545222    0.539203   \n",
       "\n",
       "             y_face_405  y_face_409  y_face_415  \n",
       "sequence_id                                      \n",
       "1816796431     0.549351    0.538230    0.540015  \n",
       "1816796431     0.548827    0.537376    0.539256  \n",
       "1816796431     0.548796    0.537360    0.539332  \n",
       "1816796431     0.548015    0.538301    0.539954  \n",
       "1816796431     0.549211    0.539734    0.541707  \n",
       "\n",
       "[5 rows x 164 columns]"
      ]
     },
     "metadata": {},
     "output_type": "display_data"
    }
   ],
   "source": [
    "# Read First Parquet File\n",
    "# example_parquet_df = pd.read_parquet(train['file_path'][0])\n",
    "example_parquet_df = pd.read_parquet(INFERENCE_FILE_PATHS[0])\n",
    "\n",
    "# Each parquet file contains 1000 recordings\n",
    "print(f'# Unique Recording: {example_parquet_df.index.nunique()}')\n",
    "# Display DataFrame layout\n",
    "display(example_parquet_df.head())"
   ]
  },
  {
   "cell_type": "markdown",
   "id": "c0393b15",
   "metadata": {
    "papermill": {
     "duration": 0.032122,
     "end_time": "2023-08-27T18:29:29.388705",
     "exception": false,
     "start_time": "2023-08-27T18:29:29.356583",
     "status": "completed"
    },
    "tags": []
   },
   "source": [
    "# Landmark Indices"
   ]
  },
  {
   "cell_type": "code",
   "execution_count": 11,
   "id": "15798ce6",
   "metadata": {
    "execution": {
     "iopub.execute_input": "2023-08-27T18:29:29.455199Z",
     "iopub.status.busy": "2023-08-27T18:29:29.454320Z",
     "iopub.status.idle": "2023-08-27T18:29:29.462509Z",
     "shell.execute_reply": "2023-08-27T18:29:29.461559Z"
    },
    "papermill": {
     "duration": 0.043746,
     "end_time": "2023-08-27T18:29:29.464685",
     "exception": false,
     "start_time": "2023-08-27T18:29:29.420939",
     "status": "completed"
    },
    "tags": []
   },
   "outputs": [],
   "source": [
    "# Get indices in original dataframe\n",
    "def get_idxs(df, words_pos, words_neg=[], ret_names=True, idxs_pos=None):\n",
    "    idxs = []\n",
    "    names = []\n",
    "    for w in words_pos:\n",
    "        for col_idx, col in enumerate(example_parquet_df.columns):\n",
    "            # Exclude Non Landmark Columns\n",
    "            if col in ['frame']:\n",
    "                continue\n",
    "                \n",
    "            col_idx = int(col.split('_')[-1])\n",
    "            # Check if column name contains all words\n",
    "            if (w in col) and (idxs_pos is None or col_idx in idxs_pos) and all([w not in col for w in words_neg]):\n",
    "                idxs.append(col_idx)\n",
    "                names.append(col)\n",
    "    # Convert to Numpy arrays\n",
    "    idxs = np.array(idxs)\n",
    "    names = np.array(names)\n",
    "    # Returns either both column indices and names\n",
    "    if ret_names:\n",
    "        return idxs, names\n",
    "    # Or only columns indices\n",
    "    else:\n",
    "        return idxs"
   ]
  },
  {
   "cell_type": "code",
   "execution_count": 12,
   "id": "048c6fbe",
   "metadata": {
    "execution": {
     "iopub.execute_input": "2023-08-27T18:29:29.531063Z",
     "iopub.status.busy": "2023-08-27T18:29:29.530526Z",
     "iopub.status.idle": "2023-08-27T18:29:29.540472Z",
     "shell.execute_reply": "2023-08-27T18:29:29.539387Z"
    },
    "papermill": {
     "duration": 0.045562,
     "end_time": "2023-08-27T18:29:29.542832",
     "exception": false,
     "start_time": "2023-08-27T18:29:29.497270",
     "status": "completed"
    },
    "tags": []
   },
   "outputs": [
    {
     "name": "stdout",
     "output_type": "stream",
     "text": [
      "N_COLS0: 164\n"
     ]
    }
   ],
   "source": [
    "# Lips Landmark Face Ids\n",
    "LIPS_LANDMARK_IDXS = np.array([\n",
    "        61, 185, 40, 39, 37, 0, 267, 269, 270, 409,\n",
    "        291, 146, 91, 181, 84, 17, 314, 405, 321, 375,\n",
    "        78, 191, 80, 81, 82, 13, 312, 311, 310, 415,\n",
    "        95, 88, 178, 87, 14, 317, 402, 318, 324, 308,\n",
    "    ])\n",
    "\n",
    "# Landmark Indices for Left/Right hand without z axis in raw data\n",
    "LEFT_HAND_IDXS0, LEFT_HAND_NAMES0 = get_idxs(example_parquet_df, ['left_hand'], ['z'])\n",
    "RIGHT_HAND_IDXS0, RIGHT_HAND_NAMES0 = get_idxs(example_parquet_df, ['right_hand'], ['z'])\n",
    "LIPS_IDXS0, LIPS_NAMES0 = get_idxs(example_parquet_df, ['face'], ['z'], idxs_pos=LIPS_LANDMARK_IDXS)\n",
    "COLUMNS0 = np.concatenate((LEFT_HAND_NAMES0, RIGHT_HAND_NAMES0, LIPS_NAMES0))\n",
    "N_COLS0 = len(COLUMNS0)\n",
    "# Only X/Y axes are used\n",
    "N_DIMS0 = 2\n",
    "\n",
    "print(f'N_COLS0: {N_COLS0}')"
   ]
  },
  {
   "cell_type": "code",
   "execution_count": 13,
   "id": "2bf6f505",
   "metadata": {
    "execution": {
     "iopub.execute_input": "2023-08-27T18:29:29.608711Z",
     "iopub.status.busy": "2023-08-27T18:29:29.608412Z",
     "iopub.status.idle": "2023-08-27T18:29:29.617595Z",
     "shell.execute_reply": "2023-08-27T18:29:29.616641Z"
    },
    "papermill": {
     "duration": 0.044348,
     "end_time": "2023-08-27T18:29:29.619731",
     "exception": false,
     "start_time": "2023-08-27T18:29:29.575383",
     "status": "completed"
    },
    "tags": []
   },
   "outputs": [
    {
     "name": "stdout",
     "output_type": "stream",
     "text": [
      "N_COLS: 164\n"
     ]
    }
   ],
   "source": [
    "# Landmark Indices in subset of dataframe with only COLUMNS selected\n",
    "LEFT_HAND_IDXS = np.argwhere(np.isin(COLUMNS0, LEFT_HAND_NAMES0)).squeeze()\n",
    "RIGHT_HAND_IDXS = np.argwhere(np.isin(COLUMNS0, RIGHT_HAND_NAMES0)).squeeze()\n",
    "LIPS_IDXS = np.argwhere(np.isin(COLUMNS0, LIPS_NAMES0)).squeeze()\n",
    "HAND_IDXS = np.concatenate((LEFT_HAND_IDXS, RIGHT_HAND_IDXS), axis=0)\n",
    "N_COLS = N_COLS0\n",
    "# Only X/Y axes are used\n",
    "N_DIMS = 2\n",
    "\n",
    "print(f'N_COLS: {N_COLS}')"
   ]
  },
  {
   "cell_type": "code",
   "execution_count": 14,
   "id": "a99a13e7",
   "metadata": {
    "execution": {
     "iopub.execute_input": "2023-08-27T18:29:29.693322Z",
     "iopub.status.busy": "2023-08-27T18:29:29.692401Z",
     "iopub.status.idle": "2023-08-27T18:29:29.699304Z",
     "shell.execute_reply": "2023-08-27T18:29:29.698229Z"
    },
    "papermill": {
     "duration": 0.048017,
     "end_time": "2023-08-27T18:29:29.701563",
     "exception": false,
     "start_time": "2023-08-27T18:29:29.653546",
     "status": "completed"
    },
    "tags": []
   },
   "outputs": [],
   "source": [
    "# Indices in processed data by axes with only dominant hand\n",
    "HAND_X_IDXS = np.array(\n",
    "        [idx for idx, name in enumerate(LEFT_HAND_NAMES0) if 'x' in name]\n",
    "    ).squeeze()\n",
    "HAND_Y_IDXS = np.array(\n",
    "        [idx for idx, name in enumerate(LEFT_HAND_NAMES0) if 'y' in name]\n",
    "    ).squeeze()\n",
    "# Names in processed data by axes\n",
    "HAND_X_NAMES = LEFT_HAND_NAMES0[HAND_X_IDXS]\n",
    "HAND_Y_NAMES = LEFT_HAND_NAMES0[HAND_Y_IDXS]"
   ]
  },
  {
   "cell_type": "markdown",
   "id": "a1bf13bd",
   "metadata": {
    "papermill": {
     "duration": 0.033585,
     "end_time": "2023-08-27T18:29:29.780425",
     "exception": false,
     "start_time": "2023-08-27T18:29:29.746840",
     "status": "completed"
    },
    "tags": []
   },
   "source": [
    "# Mean/STD Loading"
   ]
  },
  {
   "cell_type": "code",
   "execution_count": 15,
   "id": "ea329015",
   "metadata": {
    "execution": {
     "iopub.execute_input": "2023-08-27T18:29:29.848003Z",
     "iopub.status.busy": "2023-08-27T18:29:29.847597Z",
     "iopub.status.idle": "2023-08-27T18:29:29.869911Z",
     "shell.execute_reply": "2023-08-27T18:29:29.868929Z"
    },
    "papermill": {
     "duration": 0.059246,
     "end_time": "2023-08-27T18:29:29.872707",
     "exception": false,
     "start_time": "2023-08-27T18:29:29.813461",
     "status": "completed"
    },
    "tags": []
   },
   "outputs": [],
   "source": [
    "# Mean/Standard Deviations of data used for normalizing\n",
    "MEANS = np.load('/kaggle/input/aslfr-preprocessing-dataset/MEANS.npy').reshape(-1)\n",
    "STDS = np.load('/kaggle/input/aslfr-preprocessing-dataset/STDS.npy').reshape(-1)"
   ]
  },
  {
   "cell_type": "markdown",
   "id": "604e3be2",
   "metadata": {
    "papermill": {
     "duration": 0.036026,
     "end_time": "2023-08-27T18:29:29.946023",
     "exception": false,
     "start_time": "2023-08-27T18:29:29.909997",
     "status": "completed"
    },
    "tags": []
   },
   "source": [
    "# Tensorflow Preprocessing Layer"
   ]
  },
  {
   "cell_type": "code",
   "execution_count": 16,
   "id": "0bc23071",
   "metadata": {
    "execution": {
     "iopub.execute_input": "2023-08-27T18:29:30.016286Z",
     "iopub.status.busy": "2023-08-27T18:29:30.015295Z",
     "iopub.status.idle": "2023-08-27T18:29:33.243328Z",
     "shell.execute_reply": "2023-08-27T18:29:33.242272Z"
    },
    "papermill": {
     "duration": 3.266023,
     "end_time": "2023-08-27T18:29:33.245854",
     "exception": false,
     "start_time": "2023-08-27T18:29:29.979831",
     "status": "completed"
    },
    "tags": []
   },
   "outputs": [],
   "source": [
    "\"\"\"\n",
    "    Tensorflow layer to process data in TFLite\n",
    "    Data needs to be processed in the model itself, so we can not use Python\n",
    "\"\"\" \n",
    "class PreprocessLayer(tf.keras.layers.Layer):\n",
    "    def __init__(self):\n",
    "        super(PreprocessLayer, self).__init__()\n",
    "        self.normalisation_correction = tf.constant(\n",
    "                    # Add 0.50 to x coordinates of left hand (original right hand) and substract 0.50 of right hand (original left hand)\n",
    "                     [0.50 if 'x' in name else 0.00 for name in LEFT_HAND_NAMES0],\n",
    "                dtype=tf.float32,\n",
    "            )\n",
    "    \n",
    "    @tf.function(\n",
    "        input_signature=(tf.TensorSpec(shape=[None,N_COLS0], dtype=tf.float32),),\n",
    "    )\n",
    "    def call(self, data0, resize=True):\n",
    "        # Fill NaN Values With 0\n",
    "        data = tf.where(tf.math.is_nan(data0), 0.0, data0)\n",
    "        \n",
    "        # Hacky\n",
    "        data = data[None]\n",
    "        \n",
    "        # Empty Hand Frame Filtering\n",
    "        hands = tf.slice(data, [0,0,0], [-1, -1, 84])\n",
    "        hands = tf.abs(hands)\n",
    "        mask = tf.reduce_sum(hands, axis=2)\n",
    "        mask = tf.not_equal(mask, 0)\n",
    "        data = data[mask][None]\n",
    "        \n",
    "        # Pad Zeros\n",
    "        N_FRAMES = len(data[0])\n",
    "        if N_FRAMES < N_TARGET_FRAMES:\n",
    "            data = tf.concat((\n",
    "                data,\n",
    "                tf.zeros([1,N_TARGET_FRAMES-N_FRAMES,N_COLS], dtype=tf.float32)\n",
    "            ), axis=1)\n",
    "        # Downsample\n",
    "        data = tf.image.resize(\n",
    "            data,\n",
    "            [1, N_TARGET_FRAMES],\n",
    "            method=tf.image.ResizeMethod.BILINEAR,\n",
    "        )\n",
    "        \n",
    "        # Squeeze Batch Dimension\n",
    "        data = tf.squeeze(data, axis=[0])\n",
    "        \n",
    "        return data\n",
    "    \n",
    "preprocess_layer = PreprocessLayer()"
   ]
  },
  {
   "cell_type": "code",
   "execution_count": 17,
   "id": "bcc1feac",
   "metadata": {
    "execution": {
     "iopub.execute_input": "2023-08-27T18:29:33.314365Z",
     "iopub.status.busy": "2023-08-27T18:29:33.314050Z",
     "iopub.status.idle": "2023-08-27T18:29:33.319778Z",
     "shell.execute_reply": "2023-08-27T18:29:33.318685Z"
    },
    "papermill": {
     "duration": 0.041875,
     "end_time": "2023-08-27T18:29:33.321836",
     "exception": false,
     "start_time": "2023-08-27T18:29:33.279961",
     "status": "completed"
    },
    "tags": []
   },
   "outputs": [],
   "source": [
    "# Function To Test Preprocessing Layer\n",
    "def test_preprocess_layer():\n",
    "    demo_sequence_id = example_parquet_df.index.unique()[15]\n",
    "    demo_raw_data = example_parquet_df.loc[demo_sequence_id, COLUMNS0]\n",
    "    data = preprocess_layer(demo_raw_data)\n",
    "\n",
    "    print(f'demo_raw_data shape: {demo_raw_data.shape}')\n",
    "    print(f'data shape: {data.shape}')\n",
    "    \n",
    "    return data\n",
    "    \n",
    "if IS_INTERACTIVE:\n",
    "    data = test_preprocess_layer()"
   ]
  },
  {
   "cell_type": "markdown",
   "id": "524e69ec",
   "metadata": {
    "papermill": {
     "duration": 0.031685,
     "end_time": "2023-08-27T18:29:33.385725",
     "exception": false,
     "start_time": "2023-08-27T18:29:33.354040",
     "status": "completed"
    },
    "tags": []
   },
   "source": [
    "# Train Dataset"
   ]
  },
  {
   "cell_type": "markdown",
   "id": "943bd44d",
   "metadata": {
    "papermill": {
     "duration": 0.032414,
     "end_time": "2023-08-27T18:29:33.450188",
     "exception": false,
     "start_time": "2023-08-27T18:29:33.417774",
     "status": "completed"
    },
    "tags": []
   },
   "source": [
    "We proceed to create the training dataset through the function get_train_dataset, which takes the variables X, y, and the batch size as arguments.\n",
    "\n",
    "Inside the function, an array called sample_idxs is created, containing the indices of the samples in the dataset.\n",
    "\n",
    "Then, an infinite loop is created using the while True statement, allowing continuous iteration over the dataset in batches.\n",
    "\n",
    "In each iteration, random indices are obtained from sample_idxs using the np.random.choice function. batch_size random indices are selected without replacement.\n",
    "\n",
    "Next, two dictionaries are created: inputs and outputs. In inputs, the batches of frames and phrases corresponding to the selected random indices are assigned. In outputs, the batch of y corresponding to the random indices is assigned.\n",
    "\n",
    "Finally, the yield statement is used to return the dictionaries inputs and outputs as a pair of values in each iteration of the generator.\n",
    "\n",
    "This way, when calling the function get_train_dataset, a generator is obtained that can be used in a for loop to iterate over the training batches in each training epoch. Each batch contains the input and output data corresponding to the selected random indices.\n",
    "\n",
    "In the context of model training, the data generator is used to efficiently provide training samples batches during the training process.\n",
    "\n",
    "The data generator is used as the x value in the fit() method of the model. Instead of passing all the training data directly as a large tensor, which could occupy a lot of memory and be inefficient, a data generator is used to provide smaller batches of samples at each training step.\n",
    "\n",
    "The get_train_dataset function returns an infinite generator that, in each iteration, takes a random batch of training samples (batch_size) from the training dataset X and y. Each batch of samples is a dictionary with two keys: 'frames' and 'phrase'. The input data is in the 'frames' key, containing sequences of numerical data corresponding to the \"frames\" (input data sequences). The output data (labels) is in the 'phrase' key, containing sequences of integer indices representing the \"phrases\" (desired output sequences).\n",
    "\n",
    "When the model's fit() method receives this data generator (train_dataset) as x, it runs in each training epoch and takes batches of samples from the generator to update the model's weights. This allows training the model using all the training data but without loading them all into memory at the same time, which is useful for large datasets. The generator will continue providing batches of samples indefinitely during training, ensuring that the model is trained on all available training samples."
   ]
  },
  {
   "cell_type": "code",
   "execution_count": 18,
   "id": "7331d1a5",
   "metadata": {
    "execution": {
     "iopub.execute_input": "2023-08-27T18:29:33.515959Z",
     "iopub.status.busy": "2023-08-27T18:29:33.515144Z",
     "iopub.status.idle": "2023-08-27T18:29:33.521368Z",
     "shell.execute_reply": "2023-08-27T18:29:33.520469Z"
    },
    "papermill": {
     "duration": 0.041366,
     "end_time": "2023-08-27T18:29:33.523377",
     "exception": false,
     "start_time": "2023-08-27T18:29:33.482011",
     "status": "completed"
    },
    "tags": []
   },
   "outputs": [],
   "source": [
    "# Train Dataset Iterator\n",
    "def get_train_dataset(X, y, batch_size=BATCH_SIZE):\n",
    "    sample_idxs = np.arange(len(X))\n",
    "    while True:\n",
    "        # Get random indices\n",
    "        random_sample_idxs = np.random.choice(sample_idxs, batch_size)\n",
    "        \n",
    "        inputs = {\n",
    "            'frames': X[random_sample_idxs],\n",
    "            'phrase': y[random_sample_idxs],\n",
    "        }\n",
    "        outputs = y[random_sample_idxs]\n",
    "        \n",
    "        yield inputs, outputs"
   ]
  },
  {
   "cell_type": "code",
   "execution_count": 19,
   "id": "c0adb0a0",
   "metadata": {
    "execution": {
     "iopub.execute_input": "2023-08-27T18:29:33.591275Z",
     "iopub.status.busy": "2023-08-27T18:29:33.590439Z",
     "iopub.status.idle": "2023-08-27T18:29:33.594994Z",
     "shell.execute_reply": "2023-08-27T18:29:33.594070Z"
    },
    "papermill": {
     "duration": 0.040827,
     "end_time": "2023-08-27T18:29:33.597034",
     "exception": false,
     "start_time": "2023-08-27T18:29:33.556207",
     "status": "completed"
    },
    "tags": []
   },
   "outputs": [],
   "source": [
    "# Train Dataset\n",
    "train_dataset = get_train_dataset(X_train, y_train)"
   ]
  },
  {
   "cell_type": "code",
   "execution_count": 20,
   "id": "0b63c0f5",
   "metadata": {
    "execution": {
     "iopub.execute_input": "2023-08-27T18:29:33.663422Z",
     "iopub.status.busy": "2023-08-27T18:29:33.662565Z",
     "iopub.status.idle": "2023-08-27T18:29:33.668245Z",
     "shell.execute_reply": "2023-08-27T18:29:33.667146Z"
    },
    "papermill": {
     "duration": 0.041268,
     "end_time": "2023-08-27T18:29:33.670419",
     "exception": false,
     "start_time": "2023-08-27T18:29:33.629151",
     "status": "completed"
    },
    "tags": []
   },
   "outputs": [
    {
     "name": "stdout",
     "output_type": "stream",
     "text": [
      "TRAIN_STEPS_PER_EPOCH: 969\n"
     ]
    }
   ],
   "source": [
    "# Training Steps Per Epoch\n",
    "TRAIN_STEPS_PER_EPOCH = math.ceil(N_TRAIN_SAMPLES / BATCH_SIZE)\n",
    "print(f'TRAIN_STEPS_PER_EPOCH: {TRAIN_STEPS_PER_EPOCH}')"
   ]
  },
  {
   "cell_type": "markdown",
   "id": "6cd5f7e8",
   "metadata": {
    "papermill": {
     "duration": 0.032454,
     "end_time": "2023-08-27T18:29:33.735962",
     "exception": false,
     "start_time": "2023-08-27T18:29:33.703508",
     "status": "completed"
    },
    "tags": []
   },
   "source": [
    "# Validation Dataset"
   ]
  },
  {
   "cell_type": "code",
   "execution_count": 21,
   "id": "90a2df3c",
   "metadata": {
    "execution": {
     "iopub.execute_input": "2023-08-27T18:29:33.806280Z",
     "iopub.status.busy": "2023-08-27T18:29:33.805460Z",
     "iopub.status.idle": "2023-08-27T18:29:33.812106Z",
     "shell.execute_reply": "2023-08-27T18:29:33.811230Z"
    },
    "papermill": {
     "duration": 0.041762,
     "end_time": "2023-08-27T18:29:33.814061",
     "exception": false,
     "start_time": "2023-08-27T18:29:33.772299",
     "status": "completed"
    },
    "tags": []
   },
   "outputs": [],
   "source": [
    "# Validation Set\n",
    "def get_val_dataset(X, y, batch_size=BATCH_SIZE):\n",
    "    offsets = np.arange(0, len(X), batch_size)\n",
    "    while True:\n",
    "        # Iterate over whole validation set\n",
    "        for offset in offsets:\n",
    "            inputs = {\n",
    "                'frames': X[offset:offset+batch_size],\n",
    "                'phrase': y[offset:offset+batch_size],\n",
    "            }\n",
    "            outputs = y[offset:offset+batch_size]\n",
    "\n",
    "            yield inputs, outputs"
   ]
  },
  {
   "cell_type": "code",
   "execution_count": 22,
   "id": "fd6fda54",
   "metadata": {
    "execution": {
     "iopub.execute_input": "2023-08-27T18:29:33.880391Z",
     "iopub.status.busy": "2023-08-27T18:29:33.879652Z",
     "iopub.status.idle": "2023-08-27T18:29:33.884146Z",
     "shell.execute_reply": "2023-08-27T18:29:33.883248Z"
    },
    "papermill": {
     "duration": 0.039848,
     "end_time": "2023-08-27T18:29:33.886087",
     "exception": false,
     "start_time": "2023-08-27T18:29:33.846239",
     "status": "completed"
    },
    "tags": []
   },
   "outputs": [],
   "source": [
    "# Validation Dataset\n",
    "if USE_VAL:\n",
    "    val_dataset = get_val_dataset(X_val, y_val)"
   ]
  },
  {
   "cell_type": "code",
   "execution_count": 23,
   "id": "3e76dd0f",
   "metadata": {
    "execution": {
     "iopub.execute_input": "2023-08-27T18:29:33.953788Z",
     "iopub.status.busy": "2023-08-27T18:29:33.952951Z",
     "iopub.status.idle": "2023-08-27T18:29:33.957729Z",
     "shell.execute_reply": "2023-08-27T18:29:33.956911Z"
    },
    "papermill": {
     "duration": 0.040741,
     "end_time": "2023-08-27T18:29:33.959867",
     "exception": false,
     "start_time": "2023-08-27T18:29:33.919126",
     "status": "completed"
    },
    "tags": []
   },
   "outputs": [],
   "source": [
    "if USE_VAL:\n",
    "    N_VAL_STEPS_PER_EPOCH = math.ceil(N_VAL_SAMPLES / BATCH_SIZE)\n",
    "    print(f'N_VAL_STEPS_PER_EPOCH: {N_VAL_STEPS_PER_EPOCH}')"
   ]
  },
  {
   "cell_type": "markdown",
   "id": "b379945d",
   "metadata": {
    "papermill": {
     "duration": 0.032196,
     "end_time": "2023-08-27T18:29:34.024335",
     "exception": false,
     "start_time": "2023-08-27T18:29:33.992139",
     "status": "completed"
    },
    "tags": []
   },
   "source": [
    "# Model Config"
   ]
  },
  {
   "cell_type": "markdown",
   "id": "60bf338c",
   "metadata": {
    "papermill": {
     "duration": 0.032877,
     "end_time": "2023-08-27T18:29:34.090026",
     "exception": false,
     "start_time": "2023-08-27T18:29:34.057149",
     "status": "completed"
    },
    "tags": []
   },
   "source": [
    "Prior to the modeling process, we will explain what a Transformer model consists of:\n",
    "\n",
    "Unlike traditional recurrent architectures such as Recurrent Neural Networks (RNN) or Convolutional Neural Networks (CNN), which rely on recurrent connections or convolutions to capture temporal dependencies in sequential data, the Transformer model is based on attention mechanisms to capture these dependencies. The main focus of the attention mechanism is to calculate relationships between all elements of a sequence, assigning weights or importances to each element based on its relevance to the task at hand.\n",
    "\n",
    "The Transformer model consists of two main components: the encoder and the decoder. Each component is composed of multiple stacked layers. The encoder is responsible for processing the original text input and capturing relevant information from each word or token in the sequence. This is done through attention mechanisms, allowing the model to focus on the most important parts of the input at each step. In the encoder, multi-head attention layers and fully connected neural network layers are applied to capture and process contextual information from the input.\n",
    "\n",
    "On the other hand, the decoder is responsible for generating the desired output, such as translating the original input to another language. The decoder also uses attention mechanisms, but in this case, it focuses on both the original input (through masked attention) and the output generated so far. This allows the model to generate output words or tokens based on the current context and previously generated words.\n",
    "\n",
    "In each layer of both the encoder and the decoder, normalization and regularization techniques are applied, such as layer normalization and dropout, to stabilize and regularize the learning process. These techniques help improve the model's generalization and prevent overfitting.\n",
    "\n",
    "In summary, the encoder processes the original input and captures contextual information using attention mechanisms, while the decoder utilizes the information from the encoder and the generated output so far to produce the desired output.\n",
    "\n",
    "Now, let's define several variables related to the architecture and configuration of a Transformer model:\n",
    "\n",
    "LAYER_NORM_EPS: Represents the epsilon value used in the layer normalization of the Transformer model.\n",
    "UNITS_ENCODER and UNITS_DECODER: These variables indicate the size of the final output and the embeddings of the encoder and decoder, respectively.\n",
    "NUM_BLOCKS_ENCODER and NUM_BLOCKS_DECODER: Represent the number of blocks (layers) in the encoder and decoder of the Transformer.\n",
    "NUM_HEADS: Indicates the number of attention heads in the multi-head attention mechanism of the Transformer.\n",
    "MLP_RATIO: Is the multiplication factor used to calculate the size of the feed-forward layer in the Transformer block.\n",
    "EMBEDDING_DROPOUT, MLP_DROPOUT_RATIO, MHA_DROPOUT_RATIO, and CLASSIFIER_DROPOUT_RATIO: These variables define the dropout rates used in different parts of the model, such as the embedding layer, the feed-forward layer, and the classifier layer.\n",
    "INIT_HE_UNIFORM, INIT_GLOROT_UNIFORM, and INIT_ZEROS: Are initializers used to initialize the weights of the model's layers. INIT_HE_UNIFORM uses He Uniform initialization, INIT_GLOROT_UNIFORM uses Glorot Uniform initialization, and INIT_ZEROS initializes the weights with zeros.\n",
    "GELU: Is an activation function called GELU (Gaussian Error Linear Unit) used in the model."
   ]
  },
  {
   "cell_type": "code",
   "execution_count": 24,
   "id": "20decad6",
   "metadata": {
    "execution": {
     "iopub.execute_input": "2023-08-27T18:29:34.157672Z",
     "iopub.status.busy": "2023-08-27T18:29:34.156672Z",
     "iopub.status.idle": "2023-08-27T18:29:34.164243Z",
     "shell.execute_reply": "2023-08-27T18:29:34.163342Z"
    },
    "papermill": {
     "duration": 0.043757,
     "end_time": "2023-08-27T18:29:34.166253",
     "exception": false,
     "start_time": "2023-08-27T18:29:34.122496",
     "status": "completed"
    },
    "tags": []
   },
   "outputs": [],
   "source": [
    "# Epsilon value for layer normalisation\n",
    "LAYER_NORM_EPS = 1e-6\n",
    "\n",
    "# final embedding and transformer embedding size\n",
    "UNITS_ENCODER = 384\n",
    "UNITS_DECODER = 256\n",
    "\n",
    "# Transformer\n",
    "NUM_BLOCKS_ENCODER = 4\n",
    "NUM_BLOCKS_DECODER = 2\n",
    "NUM_HEADS = 4\n",
    "MLP_RATIO = 2\n",
    "\n",
    "# Dropout\n",
    "EMBEDDING_DROPOUT = 0.00\n",
    "MLP_DROPOUT_RATIO = 0.30\n",
    "MHA_DROPOUT_RATIO = 0.20\n",
    "CLASSIFIER_DROPOUT_RATIO = 0.10\n",
    "\n",
    "# Initiailizers\n",
    "INIT_HE_UNIFORM = tf.keras.initializers.he_uniform\n",
    "INIT_GLOROT_UNIFORM = tf.keras.initializers.glorot_uniform\n",
    "INIT_ZEROS = tf.keras.initializers.constant(0.0)\n",
    "# Activations\n",
    "GELU = tf.keras.activations.gelu"
   ]
  },
  {
   "cell_type": "markdown",
   "id": "1ae11043",
   "metadata": {
    "papermill": {
     "duration": 0.03276,
     "end_time": "2023-08-27T18:29:34.232886",
     "exception": false,
     "start_time": "2023-08-27T18:29:34.200126",
     "status": "completed"
    },
    "tags": []
   },
   "source": [
    "# Landmark Embedding"
   ]
  },
  {
   "cell_type": "markdown",
   "id": "f380d8a2",
   "metadata": {
    "papermill": {
     "duration": 0.031875,
     "end_time": "2023-08-27T18:29:34.296741",
     "exception": false,
     "start_time": "2023-08-27T18:29:34.264866",
     "status": "completed"
    },
    "tags": []
   },
   "source": [
    "LandmarkEmbedding Class\n",
    "In this step, we will define a class called LandmarkEmbedding that inherits from tf.keras.Model and is used for embedding landmarks using fully connected layers. The embedding of a landmark refers to transforming a representation of coordinates (landmarks) into a resulting vector by applying non-linear transformations and learning more expressive representations of the landmarks. These embedded representations can capture important features of landmarks, such as their relative position, shape, or any other relevant information for the given task.\n",
    "\n",
    "The LandmarkEmbedding class has the following components:\n",
    "\n",
    "The __init__ method is responsible for initializing the class and configuring its attributes. It receives two parameters: units, which represents the dimension of the embedding, and name, which is the name of the embedding.\n",
    "\n",
    "The build method is used to construct the model's architecture. It receives the input_shape, which defines the shape of the input data. In this case, we build an embedding for landmarks.\n",
    "\n",
    "- Within the build method, a weight called empty_embedding is defined using self.add_weight. This weight represents the embedding for a missing landmark in a frame and is initialized with zeros.\n",
    "\n",
    "- Next, a sequence of dense layers is defined using tf.keras.Sequential. These layers are used to perform the embedding of landmarks. The first dense layer has units units and uses the GELU (Gaussian Error Linear Unit) activation function. The second dense layer also has units units and is initialized with the He Uniform method.\n",
    "\n",
    "The call method is the model's call function and is used to perform the embedding of the input data x. In this function, tf.where is used to apply a condition. If the sum of landmarks in a frame is equal to zero, which means the landmark is null, the empty_embedding is used. Otherwise, the embedding of the landmark data is performed using the sequence of dense layers defined earlier."
   ]
  },
  {
   "cell_type": "code",
   "execution_count": 25,
   "id": "099af65a",
   "metadata": {
    "execution": {
     "iopub.execute_input": "2023-08-27T18:29:34.363453Z",
     "iopub.status.busy": "2023-08-27T18:29:34.362604Z",
     "iopub.status.idle": "2023-08-27T18:29:34.371948Z",
     "shell.execute_reply": "2023-08-27T18:29:34.371045Z"
    },
    "papermill": {
     "duration": 0.045004,
     "end_time": "2023-08-27T18:29:34.373866",
     "exception": false,
     "start_time": "2023-08-27T18:29:34.328862",
     "status": "completed"
    },
    "tags": []
   },
   "outputs": [],
   "source": [
    "# Embeds a landmark using fully connected layers\n",
    "class LandmarkEmbedding(tf.keras.Model):\n",
    "    def __init__(self, units, name):\n",
    "        super(LandmarkEmbedding, self).__init__(name=f'{name}_embedding')\n",
    "        self.units = units\n",
    "        self.supports_masking = True\n",
    "        \n",
    "    def build(self, input_shape):\n",
    "        # Embedding for missing landmark in frame, initizlied with zeros\n",
    "        self.empty_embedding = self.add_weight(\n",
    "            name=f'{self.name}_empty_embedding',\n",
    "            shape=[self.units],\n",
    "            initializer=INIT_ZEROS,\n",
    "        )\n",
    "        # Embedding\n",
    "        self.dense = tf.keras.Sequential([\n",
    "            tf.keras.layers.Dense(self.units, name=f'{self.name}_dense_1', use_bias=False, kernel_initializer=INIT_GLOROT_UNIFORM, activation=GELU),\n",
    "            tf.keras.layers.Dense(self.units, name=f'{self.name}_dense_2', use_bias=False, kernel_initializer=INIT_HE_UNIFORM),\n",
    "        ], name=f'{self.name}_dense')\n",
    "\n",
    "    def call(self, x):\n",
    "        return tf.where(\n",
    "                # Checks whether landmark is missing in frame\n",
    "                tf.reduce_sum(x, axis=2, keepdims=True) == 0,\n",
    "                # If so, the empty embedding is used\n",
    "                self.empty_embedding,\n",
    "                # Otherwise the landmark data is embedded\n",
    "                self.dense(x),\n",
    "            )"
   ]
  },
  {
   "cell_type": "markdown",
   "id": "d3252b48",
   "metadata": {
    "papermill": {
     "duration": 0.031991,
     "end_time": "2023-08-27T18:29:34.437765",
     "exception": false,
     "start_time": "2023-08-27T18:29:34.405774",
     "status": "completed"
    },
    "tags": []
   },
   "source": [
    "We define the landmarks for three frames using TensorFlow constant tensors. Each frame has two landmarks represented as coordinate pairs (x, y). We pass the landmarks through the embedding model using the call() function of the model. This will generate the embedded representations of the landmarks. In each print, you will see the embedded representations of the landmarks in the form of tensors. Each tensor will have the shape (n_batch, num_landmarks, num_dimensions), where num_landmarks is the number of landmarks in the frame, and num_dimensions is the number of dimensions for each landmark (in this case, 2 for the x and y coordinates)."
   ]
  },
  {
   "cell_type": "code",
   "execution_count": 26,
   "id": "e80696af",
   "metadata": {
    "execution": {
     "iopub.execute_input": "2023-08-27T18:29:34.505917Z",
     "iopub.status.busy": "2023-08-27T18:29:34.505124Z",
     "iopub.status.idle": "2023-08-27T18:29:36.622397Z",
     "shell.execute_reply": "2023-08-27T18:29:36.621257Z"
    },
    "papermill": {
     "duration": 2.153067,
     "end_time": "2023-08-27T18:29:36.624518",
     "exception": false,
     "start_time": "2023-08-27T18:29:34.471451",
     "status": "completed"
    },
    "tags": []
   },
   "outputs": [
    {
     "name": "stdout",
     "output_type": "stream",
     "text": [
      "Frame 1 shape: (1, 2, 2) \n",
      "Frame 1 embeddings:\n",
      "tf.Tensor(\n",
      "[[[-3.9387452e-03 -4.6035452e-03]\n",
      "  [-1.0970082e-07 -3.7334992e-08]]], shape=(1, 2, 2), dtype=float32)\n",
      "\n",
      "\n",
      "Frame 2 embeddings:\n",
      "tf.Tensor(\n",
      "[[[0. 0.]\n",
      "  [0. 0.]]\n",
      "\n",
      " [[0. 0.]\n",
      "  [0. 0.]]], shape=(2, 2, 2), dtype=float32)\n"
     ]
    }
   ],
   "source": [
    "# Create an instance of the LandmarkEmbedding model\n",
    "embedding_model = LandmarkEmbedding(units=2, name='landmark')\n",
    "\n",
    "# Define the landmarks of the three frames\n",
    "frame_1 = tf.constant([[[1, 2], [3, 4]]])\n",
    "frame_2 = tf.constant([[[0, 0], [5, 6]], [[7, 8], [9, 10]]])\n",
    "\n",
    "# Pass the landmarks through the embedding model\n",
    "embedding_1 = embedding_model(frame_1)\n",
    "embedding_2 = embedding_model(frame_2)\n",
    "\n",
    "# Print the embedded representations of the landmarks\n",
    "print(f'Frame 1 shape: {frame_1.shape} ')\n",
    "print(\"Frame 1 embeddings:\")\n",
    "print(embedding_1)\n",
    "\n",
    "print(\"\\n\\nFrame 2 embeddings:\")\n",
    "print(embedding_2)"
   ]
  },
  {
   "cell_type": "markdown",
   "id": "9dab5b6c",
   "metadata": {
    "execution": {
     "iopub.execute_input": "2023-08-27T18:07:15.877057Z",
     "iopub.status.busy": "2023-08-27T18:07:15.876694Z",
     "iopub.status.idle": "2023-08-27T18:07:15.891909Z",
     "shell.execute_reply": "2023-08-27T18:07:15.890548Z",
     "shell.execute_reply.started": "2023-08-27T18:07:15.877025Z"
    },
    "papermill": {
     "duration": 0.032601,
     "end_time": "2023-08-27T18:29:36.691051",
     "exception": false,
     "start_time": "2023-08-27T18:29:36.658450",
     "status": "completed"
    },
    "tags": []
   },
   "source": [
    "In the output for the first frame, a tensor of shape (1, 2, 2) and data type float32 is displayed. This means there is only one sample in the batch, two landmarks in the frame (two vectors), and two dimensions for each landmark (x, y). Each value in the tensor represents the embedded representation of a landmark in the frame. For example, the first value [0.00237609, -0.14469941] corresponds to the embedded representation of the first landmark [1,2], and the second value [0.00064886, -0.10494988] corresponds to the embedded representation of the second landmark.\n",
    "\n",
    "The LandmarkEmbedding model performs a transformation of the original landmark values using the dense layers defined in the build method.\n",
    "\n",
    "If a landmark value is equal to zero, indicating that the landmark is missing in the frame, an empty embedding (represented by self.empty_embedding) is used instead of performing the transformation.\n",
    "If a landmark value is not zero, the transformation is applied using the dense layers (self.dense). In this case, a linear operation is followed by the GELU activation function to obtain the final embedding of the landmark.\n",
    "In this case, two consecutive dense layers are used. The first layer (self.dense_1) performs a matrix multiplication of the input values with a weight matrix. The weights of this layer are initialized using the Glorot uniform initialization. Then, a GELU activation function is applied, which is a smoothed version of the ReLU and introduces non-linearity into the transformation. The second layer (self.dense_2) performs a similar operation, multiplying the output of the previous layer by another weight matrix initialized with the He uniform method.\n",
    "\n",
    "In the provided example, the number of units for the embedding model is set to '2'. This means that the dimension of the embedding output will be of size 2 (thus retaining the same tensor shape as the original).\n",
    "\n",
    "In general, the purpose of the embedding is not necessarily to reduce the dimension of the input data but rather to provide a dense and more meaningful representation of the original data. The goal is to capture relevant features and semantic relationships between the input data.\n",
    "\n",
    "Through the dense layers of the model, linear and non-linear transformations are applied to the input data, which can capture more complex patterns and relationships between landmarks.\n",
    "\n",
    "Therefore, even though the size of the output embedding dimension remains the same as the input dimension (in this case, 2), the dense layers introduce weights and biases that allow for non-linear transformation of the data. This can help capture more discriminative features and effectively represent relationships between landmarks."
   ]
  },
  {
   "cell_type": "markdown",
   "id": "6b1e41d9",
   "metadata": {
    "papermill": {
     "duration": 0.032437,
     "end_time": "2023-08-27T18:29:36.756550",
     "exception": false,
     "start_time": "2023-08-27T18:29:36.724113",
     "status": "completed"
    },
    "tags": []
   },
   "source": [
    "# Embedding"
   ]
  },
  {
   "cell_type": "markdown",
   "id": "57432547",
   "metadata": {
    "papermill": {
     "duration": 0.033272,
     "end_time": "2023-08-27T18:29:36.824184",
     "exception": false,
     "start_time": "2023-08-27T18:29:36.790912",
     "status": "completed"
    },
    "tags": []
   },
   "source": [
    "The Embedding class is a subclass of tf.keras.Model used to create an embedded representation for each input frame. Let's go through the function of this class step by step:\n",
    "\n",
    "In the __init__ method, the Embedding class is initialized, and the property supports_masking=True is set. This indicates that the model supports the use of masks to ignore certain inputs during training or inference.\n",
    "\n",
    "In the build method, the model is constructed, and the necessary parameters and layers are defined. In this case, two special layers are created: the \"positional embedding\" layer for each frame and the \"landmark embedding\" layer.\n",
    "\n",
    "The \"positional embedding\" layer is used to add information about the position of each frame in the sequence. It is initialized with a tensor of shape [N_TARGET_FRAMES, UNITS_ENCODER] filled with zeros and will be adjusted during training to capture positional patterns.\n",
    "\n",
    "The \"landmark embedding\" layer is used to generate a specialized representation of the landmarks for each frame. This representation captures important features of the landmarks and will be used for specific tasks later on.\n",
    "\n",
    "In the call method, the forward propagation logic of the model is defined. Here, the processing of the input data is performed:\n",
    "\n",
    "First, the input data x is normalized by subtracting the mean and dividing by the standard deviation. This ensures that the data is on an appropriate scale for the model.\n",
    "\n",
    "Next, the normalized input is passed through the \"landmark embedding\" layer dominant_hand_embedding. This means that an embedding is applied to the landmark data. You can think of the landmarks as reference points in a sequence of images. The landmark embedding is similar to a transformation that takes these points and transforms them into a more compact and information-rich representation, making it easier for the model to capture important features of the landmarks and process them effectively.\n",
    "\n",
    "After that, information about the position of each frame in the sequence (video) is added. This is important because the order of frames can be relevant for understanding the context and relationship between them. For example, in a video, the order of frames can represent the temporal flow of actions. The positional embedding adds this positional information to the embedded data. In the code, we use a tensor called positional_embedding containing the positional embedding corresponding to each frame in the sequence.\n",
    "\n",
    "Finally, the resulting embedded representation x is returned.\n",
    "\n",
    "In summary, the Embedding class is used to generate an embedded representation for each input frame. This involves normalizing the input data, generating an embedded representation of the landmarks, and adding positional information to the resulting embedded representation."
   ]
  },
  {
   "cell_type": "code",
   "execution_count": 27,
   "id": "c7258f1f",
   "metadata": {
    "execution": {
     "iopub.execute_input": "2023-08-27T18:29:36.890531Z",
     "iopub.status.busy": "2023-08-27T18:29:36.890160Z",
     "iopub.status.idle": "2023-08-27T18:29:36.898027Z",
     "shell.execute_reply": "2023-08-27T18:29:36.897056Z"
    },
    "papermill": {
     "duration": 0.043508,
     "end_time": "2023-08-27T18:29:36.900191",
     "exception": false,
     "start_time": "2023-08-27T18:29:36.856683",
     "status": "completed"
    },
    "tags": []
   },
   "outputs": [],
   "source": [
    "# Creates embedding for each frame\n",
    "class Embedding(tf.keras.Model):\n",
    "    def __init__(self):\n",
    "        super(Embedding, self).__init__()\n",
    "        self.supports_masking = True\n",
    "    \n",
    "    def build(self, input_shape):\n",
    "        # Positional embedding for each frame index\n",
    "        self.positional_embedding = tf.Variable(\n",
    "            initial_value=tf.zeros([N_TARGET_FRAMES, UNITS_ENCODER], dtype=tf.float32),\n",
    "            trainable=True,\n",
    "            name='embedding_positional_encoder',\n",
    "        )\n",
    "        # Embedding layer for Landmarks\n",
    "        self.dominant_hand_embedding = LandmarkEmbedding(UNITS_ENCODER, 'dominant_hand')\n",
    "\n",
    "    def call(self, x, training=False):\n",
    "        # Normalize\n",
    "        x = tf.where(\n",
    "                tf.math.equal(x, 0.0),\n",
    "                0.0,\n",
    "                (x - MEANS) / STDS,\n",
    "            )\n",
    "        # Dominant Hand\n",
    "        x = self.dominant_hand_embedding(x)\n",
    "        # Add Positional Encoding\n",
    "        x = x + self.positional_embedding\n",
    "        \n",
    "        return x"
   ]
  },
  {
   "cell_type": "markdown",
   "id": "8f66d032",
   "metadata": {
    "papermill": {
     "duration": 0.031829,
     "end_time": "2023-08-27T18:29:36.964916",
     "exception": false,
     "start_time": "2023-08-27T18:29:36.933087",
     "status": "completed"
    },
    "tags": []
   },
   "source": [
    "# Transformer"
   ]
  },
  {
   "cell_type": "markdown",
   "id": "ff6603f1",
   "metadata": {
    "papermill": {
     "duration": 0.032392,
     "end_time": "2023-08-27T18:29:37.029488",
     "exception": false,
     "start_time": "2023-08-27T18:29:36.997096",
     "status": "completed"
    },
    "tags": []
   },
   "source": [
    "Now, a multi-head attention layer is implemented using the scaled dot product operation. Multi-head attention is a key component in Transformer models used in natural language processing tasks and other domains.\n",
    "\n",
    "In a Transformer with multi-head attention, the concepts of queries, keys, and values are crucial as they are used to calculate attention between elements in a sequence. The attention mechanism in a Transformer allows it to focus on relevant parts of the input during the encoding or decoding stage. Attention is calculated at each position in the input sequence based on queries, keys, and values.\n",
    "\n",
    "Here's an explanation of these three components:\n",
    "\n",
    "Queries: These are vectors representing the current position in the input sequence for which attention is to be calculated. In other words, they are the positions that are being encoded or decoded. Each query is used to calculate the degree of relevance or similarity between this position and all other positions in the sequence.\n",
    "\n",
    "Keys: These are vectors representing all positions in the input sequence. They are used to calculate the degree of relevance between queries and different positions in the sequence. Keys are crucial in determining which parts of the input are important for each query.\n",
    "\n",
    "Values: These are vectors containing the actual information at each position in the input sequence. They are used to calculate attention weights and weigh the importance of each position based on its relevance to queries and keys.\n",
    "\n",
    "The calculation of attention involves measuring the similarity between queries and keys to obtain attention weights. These attention weights indicate how much importance should be given to each position in the sequence based on its relationship with the current query. The values are then weighted using these attention weights to obtain the attended or contextualized representation of the current query.\n",
    "\n",
    "In the context of multi-head attention, this process is performed multiple times, each time with different sets of parameters (queries, keys, and values), allowing the Transformer to capture different patterns and relationships in the input sequence more effectively.\n",
    "\n",
    "We divide the explanation of our attention mechanism into steps:\n",
    "\n",
    "scaled_dot_product is a function that performs the scaled dot product between the queries (q), keys (k), and values (v) of attention. The scaled dot product is a fundamental operation in attention, and it is used to calculate the relevance between queries and keys. In the context of multi-head attention, the scaled dot product is applied in parallel in each attention head to capture different relationships and patterns in the data. The process of the scaled dot product is done in three steps:\n",
    "\n",
    "Dot Product: The dot product is calculated between the queries (q) and the transposed keys (k). This is achieved through the matrix multiplication operation. The result is a matrix representing the relevance between each pair of query and key.\n",
    "Scaling: After calculating the dot product, it is scaled by dividing it by the square root of the dimension of the queries (q). This scaling operation helps stabilize the attention process and ensures that the attention values are not too large.\n",
    "Softmax and Weighting: Next, a softmax function is applied to the scaled matrix. The softmax converts the values into a probability distribution, meaning that each attention value represents the relative importance of the corresponding key for a given query. Then, this attention distribution is used to weigh the values (v) and obtain a combined representation of the weighted values.\n",
    "\n",
    "The reason we use this scaled dot product layer in multi-head attention is that it allows us to capture the relationships and dependencies between queries and keys more expressively. By performing the scaled dot product in multiple attention heads, we can capture different patterns and relationships in parallel, which enhances the ability to model relevant information in the data.\n",
    "\n",
    "MultiHeadAttention is a multi-head attention layer. It takes as input the queries (q), keys (k), and values (v) of attention. It can also receive an optional attention mask to mask certain inputs. The main parameters of this layer are:\n",
    "\n",
    "d_model: the dimension of the representation space for queries, keys, and values.\n",
    "num_of_heads: the number of attention heads to be used.\n",
    "dropout: the dropout probability to regularize the output.\n",
    "d_out (optional): if provided, specifies the output dimension after the multi-head attention layer.\n",
    "In the call method, the following operations are performed:\n",
    "For each attention head, an independent linear transformation is applied to the queries (q), keys (k), and values (v) using dense layers (wq, wk, wv) to project them into smaller subspaces.\n",
    "The scaled_dot_product function is called to calculate attention with the projections of q, k, and v for each attention head.\n",
    "The outputs of all attention heads are concatenated along the last dimension to obtain a combined representation.\n",
    "The combined representation goes through a final linear layer (wo) to obtain the output of the multi-head attention layer.\n",
    "A dropout layer is applied to regularize the output before returning it.\n",
    "In summary, this implementation performs multi-head attention in parallel, where each head learns different weighted representations of the inputs. Then, it combines the outputs of all heads into a final representation that can be used in natural language processing tasks and other machine learning problems."
   ]
  },
  {
   "cell_type": "markdown",
   "id": "5129f93f",
   "metadata": {
    "papermill": {
     "duration": 0.032016,
     "end_time": "2023-08-27T18:29:37.094078",
     "exception": false,
     "start_time": "2023-08-27T18:29:37.062062",
     "status": "completed"
    },
    "tags": []
   },
   "source": [
    "```Example: Explanation of queries, keys, and values in a Transformer with multi-head attention. Let's assume we have the following sentence: \"The cat is sleeping on the carpet.\"```\n",
    "\n",
    "The process of multi-head attention would work as follows:\n",
    "\n",
    "First, we tokenize the sentence into word vectors or tokens:\n",
    "\n",
    "Queries:\n",
    "\n",
    "\"The\"\n",
    "\"cat\"\n",
    "\"is\"\n",
    "\"sleeping\"\n",
    "\"on\"\n",
    "\"the\"\n",
    "\"carpet\"\n",
    "\n",
    "Keys:\n",
    "\n",
    "\"The\"\n",
    "\"cat\"\n",
    "\"is\"\n",
    "\"sleeping\"\n",
    "\"on\"\n",
    "\"the\"\n",
    "\"carpet\"\n",
    "\n",
    "Values:\n",
    "\n",
    "Vector of information corresponding to each word.\n",
    "\n",
    "Next, we calculate the similarity (e.g., using the dot product) between each query and each key to obtain the attention weights.\n",
    "\n",
    "The attention weights indicate which words are more relevant to each query. These weights are then applied to the values corresponding to the words in the input to obtain the final result.\n",
    "\n",
    "Finally, the multi-head attention combines the weighted representations of the words to obtain a high-quality representation for the original sentence."
   ]
  },
  {
   "cell_type": "code",
   "execution_count": 28,
   "id": "4768f01e",
   "metadata": {
    "execution": {
     "iopub.execute_input": "2023-08-27T18:29:37.160311Z",
     "iopub.status.busy": "2023-08-27T18:29:37.159965Z",
     "iopub.status.idle": "2023-08-27T18:29:37.174058Z",
     "shell.execute_reply": "2023-08-27T18:29:37.173041Z"
    },
    "papermill": {
     "duration": 0.050091,
     "end_time": "2023-08-27T18:29:37.176137",
     "exception": false,
     "start_time": "2023-08-27T18:29:37.126046",
     "status": "completed"
    },
    "tags": []
   },
   "outputs": [],
   "source": [
    "# based on: https://stackoverflow.com/questions/67342988/verifying-the-implementation-of-multihead-attention-in-transformer\n",
    "# replaced softmax with softmax layer to support masked softmax\n",
    "class MultiHeadAttention(tf.keras.layers.Layer):\n",
    "    def __init__(self, d_model, n_heads, dropout, d_out=None):\n",
    "        super(MultiHeadAttention,self).__init__()\n",
    "        # Number of Units in Model\n",
    "        self.d_model = d_model\n",
    "        # Number of Attention Heads\n",
    "        self.n_heads = n_heads\n",
    "        # Number of Units in Intermediate Layers\n",
    "        self.depth = d_model // 2\n",
    "        # Scaling Factor Of Values\n",
    "        self.scale = 1.0 / tf.math.sqrt(tf.cast(self.depth, tf.float32))\n",
    "        # Learnable Projections to Depth\n",
    "        self.wq = self.fused_mha(self.depth)\n",
    "        self.wk = self.fused_mha(self.depth)\n",
    "        self.wv = self.fused_mha(self.depth)\n",
    "        # Output Projection\n",
    "        self.wo = tf.keras.layers.Dense(d_model if d_out is None else d_out, use_bias=False)\n",
    "        # Softmax Activation Which Supports Masking\n",
    "        self.softmax = tf.keras.layers.Softmax()\n",
    "        # Reshaping Of Multiple Attention heads to Single Value\n",
    "        self.reshape = tf.keras.Sequential([\n",
    "            # [attention heads, number of frames, d_model] → [number of frames, n_heads, d_model // n_heads]\n",
    "            tf.keras.layers.Permute([2, 1, 3]),\n",
    "            # [number of frames, attention heads, d_model] → [number of frames, d_model]\n",
    "            tf.keras.layers.Reshape([N_TARGET_FRAMES, self.depth]),\n",
    "        ])\n",
    "        # Output Dropout\n",
    "        self.do = tf.keras.layers.Dropout(dropout)\n",
    "        self.supports_masking = True\n",
    "        \n",
    "    # Single dense layer for all attention heads\n",
    "    def fused_mha(self, dim):\n",
    "        return tf.keras.Sequential([\n",
    "            # Single dense layer\n",
    "            tf.keras.layers.Dense(dim, use_bias=False),\n",
    "            # Reshape to [number of frames, number of attention head, depth]\n",
    "            tf.keras.layers.Reshape([N_TARGET_FRAMES, self.n_heads, dim // self.n_heads]),\n",
    "            # Permutate to [number of attention heads, number of frames, depth]\n",
    "            tf.keras.layers.Permute([2, 1, 3]),\n",
    "        ])\n",
    "        \n",
    "    def call(self, q, k, v, attention_mask=None, training=False):\n",
    "        # Projections to attention heads\n",
    "        Q = self.wq(q)\n",
    "        K = self.wk(k)\n",
    "        V = self.wv(v)\n",
    "        # Matrix multiply QxK to acquire attention scores\n",
    "        x = tf.matmul(Q, K, transpose_b=True) * self.scale\n",
    "        # Softmax attention scores and Multiply with Values\n",
    "        x = self.softmax(x, mask=attention_mask) @ V\n",
    "        # Reshape to flatten attention heads\n",
    "        x = self.reshape(x)\n",
    "        # Output projection\n",
    "        x = self.wo(x)\n",
    "        # Dropout\n",
    "        x = self.do(x, training=training)\n",
    "        return x"
   ]
  },
  {
   "cell_type": "markdown",
   "id": "f9a9be56",
   "metadata": {
    "papermill": {
     "duration": 0.03245,
     "end_time": "2023-08-27T18:29:37.241302",
     "exception": false,
     "start_time": "2023-08-27T18:29:37.208852",
     "status": "completed"
    },
    "tags": []
   },
   "source": [
    "# Encoder\n",
    "\n",
    "[source](https://keras.io/examples/nlp/neural_machine_translation_with_transformer/)"
   ]
  },
  {
   "cell_type": "markdown",
   "id": "78c9102e",
   "metadata": {
    "papermill": {
     "duration": 0.031964,
     "end_time": "2023-08-27T18:29:37.305711",
     "exception": false,
     "start_time": "2023-08-27T18:29:37.273747",
     "status": "completed"
    },
    "tags": []
   },
   "source": [
    "Now, we will create an Encoder based on transformer blocks. An Encoder takes an input sequence x and transforms it into a vector representation, which can then be used for subsequent tasks such as translation or text generation. Let's explain the Encoder class:\n",
    "\n",
    "We define a class called Encoder, which inherits from tf.keras.Model. This class represents the Encoder component in a Transformer-based model.\n",
    "\n",
    "In the constructor __init__, we initialize the Encoder with the number of attention blocks (num_blocks) that will be used in the encoding process.\n",
    "The build method is responsible for creating the necessary components for the attention blocks. These components are:\n",
    "\n",
    "Lists ln_1s, mhas, ln_2s, and mlps that will store normalization layers, multi-head attention layers, additional normalization layers, and multi-layer perceptrons, respectively. We create one list for each attention block.\n",
    "\n",
    "For each attention block, we create a normalization layer (tf.keras.layers.LayerNormalization) called ln_1, a multi-head attention layer called mha, another normalization layer ln_2, and a multi-layer perceptron mlp.\n",
    "\n",
    "We also check if the dimension of the Encoder is different from the dimension of the Decoder. If so, we create a projection layer (dense_out) to adapt the output dimension of the Encoder to the dimension of the Decoder.\n",
    "\n",
    "The call method is used to perform the encoding of the input (x). It takes x and a variable x_inp that contains information about the input sequence (such as attention masks). Here, the processing is done in each attention block:\n",
    "\n",
    "We create an \"attention mask\" (attention_mask) to prevent the model from attending to invalid or padded parts of the input sequence. This mask is calculated from x_inp, which is a variable containing information about the input sequence.\n",
    "\n",
    "We iterate over the attention blocks defined previously (ln_1, mha, ln_2, and mlp) and apply them sequentially to the input x.\n",
    "In each iteration, we first apply normalization (ln_1) to the input x plus the output of the multi-head attention (mha). This is known as a \"residual connection,\" where the original input is added to the output of the multi-head attention before applying normalization. This technique helps to avoid gradient vanishing problems and improves information flow.\n",
    "\n",
    "Next, we apply another normalization (ln_2) to the output of the residual connection plus the output of the multi-layer perceptron (mlp).\n",
    "\n",
    "After passing through all the attention blocks and perceptrons, if the dimension of the Encoder is different from the dimension of the Decoder (UNITS_ENCODER != UNITS_DECODER), we perform a projection (dense_out) to adapt the output dimension of the Encoder to the dimension of the Decoder.\n",
    "\n",
    "Finally, the function returns the resulting vector representation after applying all the attention blocks and the multi-layer perceptron.\n",
    "Note: The multi-layer perceptron and the embedding are different concepts used in the fields of machine learning and natural language processing. Here are their differences:\n",
    "\n",
    "The multi-layer perceptron (MLP), or feedforward neural network, is a neural network architecture consisting of multiple layers, including at least one input layer, one or more hidden layers, and one output layer. The neurons in the layer are called nodes or perceptrons.\n",
    "\n",
    "In the MLP, each neuron in a layer is connected to all neurons in the previous and subsequent layers via weighted connections. The weighted connections allow a neuron to adjust its \"sensitivity\" to certain patterns in the input data. During the training process, the weights are adjusted to minimize the error between the network's predicted outputs and the known actual outputs, in the case of supervised learning.\n",
    "\n",
    "The weights can be positive or negative, meaning they can amplify or reduce the contribution of a particular input. By learning the optimal weights, the neural network can find relevant patterns and relationships in the input data, enabling it to perform tasks such as classification, regression, or other specific tasks for which it has been trained. During the training process, the weights of these connections are adjusted so that the model can learn to represent complex and nonlinear relationships in the data.\n",
    "\n",
    "The main purpose of the MLP is to learn nonlinear functions for classification or regression on complex datasets. Through the hidden layers and the nonlinearity introduced by activation functions, the MLP can learn more complex representations than those achieved with linear models.\n",
    "\n",
    "On the other hand, the embedding is a continuous and dense vector representation of words or tokens in a low-dimensional vector space. It is specifically used in NLP to map words or tokens from the discrete word space to a continuous vector space. Its goal is to capture the meaning and semantic relationships between words in natural language processing tasks."
   ]
  },
  {
   "cell_type": "code",
   "execution_count": 29,
   "id": "84da73f0",
   "metadata": {
    "execution": {
     "iopub.execute_input": "2023-08-27T18:29:37.372190Z",
     "iopub.status.busy": "2023-08-27T18:29:37.371910Z",
     "iopub.status.idle": "2023-08-27T18:29:37.385347Z",
     "shell.execute_reply": "2023-08-27T18:29:37.384479Z"
    },
    "papermill": {
     "duration": 0.049309,
     "end_time": "2023-08-27T18:29:37.387537",
     "exception": false,
     "start_time": "2023-08-27T18:29:37.338228",
     "status": "completed"
    },
    "tags": []
   },
   "outputs": [],
   "source": [
    "# Encoder based on multiple transformer blocks\n",
    "class Encoder(tf.keras.Model):\n",
    "    def __init__(self, num_blocks):\n",
    "        super(Encoder, self).__init__(name='encoder')\n",
    "        self.num_blocks = num_blocks\n",
    "        self.supports_masking = True\n",
    "    \n",
    "    def build(self, input_shape):\n",
    "        self.ln_1s = []\n",
    "        self.mhas = []\n",
    "        self.ln_2s = []\n",
    "        self.mlps = []\n",
    "        # Make Transformer Blocks\n",
    "        for i in range(self.num_blocks):\n",
    "            # First Layer Normalisation\n",
    "            self.ln_1s.append(tf.keras.layers.LayerNormalization(epsilon=LAYER_NORM_EPS))\n",
    "            # Multi Head Attention\n",
    "            self.mhas.append(MultiHeadAttention(UNITS_ENCODER, NUM_HEADS, MHA_DROPOUT_RATIO))\n",
    "            # Second Layer Normalisation\n",
    "            self.ln_2s.append(tf.keras.layers.LayerNormalization(epsilon=LAYER_NORM_EPS))\n",
    "            # Multi Layer Perception\n",
    "            self.mlps.append(tf.keras.Sequential([\n",
    "                tf.keras.layers.Dense(UNITS_ENCODER * MLP_RATIO, activation=GELU, kernel_initializer=INIT_GLOROT_UNIFORM, use_bias=False),\n",
    "                tf.keras.layers.Dropout(MLP_DROPOUT_RATIO),\n",
    "                tf.keras.layers.Dense(UNITS_ENCODER, kernel_initializer=INIT_HE_UNIFORM, use_bias=False),\n",
    "            ]))\n",
    "            # Optional Projection to Decoder Dimension\n",
    "            if UNITS_ENCODER != UNITS_DECODER:\n",
    "                self.dense_out = tf.keras.layers.Dense(UNITS_DECODER, kernel_initializer=INIT_GLOROT_UNIFORM, use_bias=False)\n",
    "                self.apply_dense_out = True\n",
    "            else:\n",
    "                self.apply_dense_out = False\n",
    "                \n",
    "    def get_attention_mask(self, x_inp):\n",
    "        # Attention Mask\n",
    "        attention_mask = tf.math.count_nonzero(x_inp, axis=[2], keepdims=True, dtype=tf.int32)\n",
    "        attention_mask = tf.math.count_nonzero(attention_mask, axis=[2], keepdims=False)\n",
    "        attention_mask = tf.expand_dims(attention_mask, axis=1)\n",
    "        attention_mask = tf.expand_dims(attention_mask, axis=1)\n",
    "        return attention_mask\n",
    "        \n",
    "    def call(self, x, x_inp, training=False):\n",
    "        # Attention mask to ignore missing frames\n",
    "        attention_mask = self.get_attention_mask(x_inp)\n",
    "        # Iterate input over transformer blocks\n",
    "        for ln_1, mha, ln_2, mlp in zip(self.ln_1s, self.mhas, self.ln_2s, self.mlps):\n",
    "            x = ln_1(x + mha(x, x, x, attention_mask=attention_mask))\n",
    "            x = ln_2(x + mlp(x))\n",
    "            \n",
    "        # Optional Projection to Decoder Dimension\n",
    "        if self.apply_dense_out:\n",
    "            x = self.dense_out(x)\n",
    "    \n",
    "        return x"
   ]
  },
  {
   "cell_type": "markdown",
   "id": "3f46be8a",
   "metadata": {
    "papermill": {
     "duration": 0.03417,
     "end_time": "2023-08-27T18:29:37.453838",
     "exception": false,
     "start_time": "2023-08-27T18:29:37.419668",
     "status": "completed"
    },
    "tags": []
   },
   "source": [
    "# Decoder"
   ]
  },
  {
   "cell_type": "markdown",
   "id": "9a6ffa64",
   "metadata": {
    "papermill": {
     "duration": 0.037487,
     "end_time": "2023-08-27T18:29:37.526062",
     "exception": false,
     "start_time": "2023-08-27T18:29:37.488575",
     "status": "completed"
    },
    "tags": []
   },
   "source": [
    "After the Encoder, we define the Decoder class, which is responsible for using the embeddings obtained by the Encoder to generate an output sequence. Let's break down the different steps:\n",
    "\n",
    "In the __init__ method, we initialize the Decoder model and specify the number of Transformer blocks (num_blocks) that will be used in generating the output sequence. Additionally, we indicate that the model supports masking (supports_masking = True). Masking is a crucial technique used to handle variable-length sequences during processing.\n",
    "\n",
    "In the build method, we construct the necessary layers for the Decoder model. This is where we define the different parts of the model that will be used during the output sequence generation. These layers are:\n",
    "\n",
    "positional_embedding: This is the positional embedding layer, which is used to assign a numerical representation to each position in the output sequence. It means it assigns a unique representation to each word or token in the sequence.\n",
    "\n",
    "char_emb: This is the character embedding layer, which converts character sequences (phrases) into numerical representations. It is a fundamental step in text processing since neural networks work with numbers, not raw text.\n",
    "\n",
    "pos_emb_mha: This is the causal masked multi-head attention layer for positional embedding. Causal masked attention is a technique that helps the model learn temporal dependency relationships while generating the output sequence. It means it allows the model to \"look\" only at previous words (or itself) during sequence generation.\n",
    "\n",
    "pos_emb_ln: This is the normalization layer applied after the causal masked attention. Normalization is a technique that helps stabilize and speed up the training of the model.\n",
    "\n",
    "ln_1s, mhas, ln_2s, and mlps: These are lists that contain several layers of normalization, multi-head attention, and multi-layer perceptron (MLP) layers, respectively. We build num_blocks of these layers to allow the Decoder to perform multiple iterations and capture more complex relationships in the generated output sequence.\n",
    "\n",
    "In the get_causal_attention_mask method, a causal attention mask is created. This mask is used in the causal masked attention layer to ensure that each position only attends to previous positions (or itself), preventing future information leakage during sequence generation.\n",
    "\n",
    "In the call method, the processing of the output sequence through the Transformer blocks in the Decoder is performed. The steps are as follows:\n",
    "\n",
    "Preprocessing of the input sequence (phrase) is done to convert it into numerical representations (embedding) using the character embedding layer (char_emb). \n",
    "\n",
    "Additionally, the special start token (START_TOKEN) is added to the beginning of each sequence, and padding tokens (PAD_TOKEN) are appended at the end to reach the desired maximum length (MAX_PHRASE_LENGTH).\n",
    "\n",
    "The causal attention mask is created using the get_causal_attention_mask method to prevent the model from accessing future information during sequence generation.\n",
    "\n",
    "The initial embedding representations are obtained by summing the positional embedding layer (positional_embedding) and the character embedding layer (char_emb) of the input sequence (phrase). This sum combines spatial (positional) and semantic (character embedding) information for each word in the sequence.\n",
    "\n",
    "A normalization layer (pos_emb_ln) is applied to the initial embedding representations after the causal masked attention (pos_emb_mha). Normalization helps the model train more stably and efficiently.\n",
    "\n",
    "The Transformer blocks (normalization layers, multi-head attention, and MLP) are iterated through a for loop. Each block is responsible for processing and improving the embedding representations during sequence generation.\n",
    "\n",
    "Finally, the generated sequence is trimmed to remove any padding tokens (PAD_TOKEN), and the output of the Decoder model with a length of MAX_PHRASE_LENGTH is obtained.\n",
    "\n",
    "In summary, the Decoder model uses multiple Transformer blocks to generate an output sequence based on the information from the Encoder. It applies causal masked attention to capture temporal dependencies and uses normalization and MLP techniques to process and improve the embedding representations during sequence generation. The goal is for the model to generate meaningful and coherent text sequences based on the information from the Encoder."
   ]
  },
  {
   "cell_type": "code",
   "execution_count": 30,
   "id": "0f7c0fbd",
   "metadata": {
    "execution": {
     "iopub.execute_input": "2023-08-27T18:29:37.602551Z",
     "iopub.status.busy": "2023-08-27T18:29:37.602194Z",
     "iopub.status.idle": "2023-08-27T18:29:37.626648Z",
     "shell.execute_reply": "2023-08-27T18:29:37.625659Z"
    },
    "papermill": {
     "duration": 0.065937,
     "end_time": "2023-08-27T18:29:37.629005",
     "exception": false,
     "start_time": "2023-08-27T18:29:37.563068",
     "status": "completed"
    },
    "tags": []
   },
   "outputs": [],
   "source": [
    "# Decoder based on multiple transformer blocks\n",
    "class Decoder(tf.keras.Model):\n",
    "    def __init__(self, num_blocks):\n",
    "        super(Decoder, self).__init__(name='decoder')\n",
    "        self.num_blocks = num_blocks\n",
    "        self.supports_masking = True\n",
    "    \n",
    "    def build(self, input_shape):\n",
    "        # Causal Mask Batch Size 1\n",
    "        self.causal_mask = self.get_causal_attention_mask()\n",
    "        # Positional Embedding, initialized with zeros\n",
    "        self.positional_embedding = tf.Variable(\n",
    "            initial_value=tf.zeros([N_TARGET_FRAMES, UNITS_DECODER], dtype=tf.float32),\n",
    "            trainable=True,\n",
    "            name='embedding_positional_encoder',\n",
    "        )\n",
    "        # Character Embedding\n",
    "        self.char_emb = tf.keras.layers.Embedding(N_UNIQUE_CHARACTERS, UNITS_DECODER, embeddings_initializer=INIT_ZEROS)\n",
    "        # Positional Encoder MHA\n",
    "        self.pos_emb_mha = MultiHeadAttention(UNITS_DECODER, NUM_HEADS, MHA_DROPOUT_RATIO)\n",
    "        self.pos_emb_ln = tf.keras.layers.LayerNormalization(epsilon=LAYER_NORM_EPS)\n",
    "        # First Layer Normalisation\n",
    "        self.ln_1s = []\n",
    "        self.mhas = []\n",
    "        self.ln_2s = []\n",
    "        self.mlps = []\n",
    "        # Make Transformer Blocks\n",
    "        for i in range(self.num_blocks):\n",
    "            # First Layer Normalisation\n",
    "            self.ln_1s.append(tf.keras.layers.LayerNormalization(epsilon=LAYER_NORM_EPS))\n",
    "            # Multi Head Attention\n",
    "            self.mhas.append(MultiHeadAttention(UNITS_DECODER, NUM_HEADS, MHA_DROPOUT_RATIO))\n",
    "            # Second Layer Normalisation\n",
    "            self.ln_2s.append(tf.keras.layers.LayerNormalization(epsilon=LAYER_NORM_EPS))\n",
    "            # Multi Layer Perception\n",
    "            self.mlps.append(tf.keras.Sequential([\n",
    "                tf.keras.layers.Dense(UNITS_DECODER * MLP_RATIO, activation=GELU, kernel_initializer=INIT_GLOROT_UNIFORM, use_bias=False),\n",
    "                tf.keras.layers.Dropout(MLP_DROPOUT_RATIO),\n",
    "                tf.keras.layers.Dense(UNITS_DECODER, kernel_initializer=INIT_HE_UNIFORM, use_bias=False),\n",
    "            ]))\n",
    "            \n",
    "    def get_causal_attention_mask(self):\n",
    "        i = tf.range(N_TARGET_FRAMES)[:, tf.newaxis]\n",
    "        j = tf.range(N_TARGET_FRAMES)\n",
    "        mask = tf.cast(i >= j, dtype=tf.int32)\n",
    "        mask = tf.reshape(mask, (1, N_TARGET_FRAMES, N_TARGET_FRAMES))\n",
    "        mult = tf.concat(\n",
    "            [tf.expand_dims(1, -1), tf.constant([1, 1], dtype=tf.int32)],\n",
    "            axis=0,\n",
    "        )\n",
    "        mask = tf.tile(mask, mult)\n",
    "        mask = tf.cast(mask, tf.float32)\n",
    "        return mask\n",
    "    \n",
    "    def get_attention_mask(self, x_inp):\n",
    "        # Attention Mask\n",
    "        attention_mask = tf.math.count_nonzero(x_inp, axis=[2], keepdims=True, dtype=tf.int32)\n",
    "        attention_mask = tf.math.count_nonzero(attention_mask, axis=[2], keepdims=False)\n",
    "        attention_mask = tf.expand_dims(attention_mask, axis=1)\n",
    "        attention_mask = tf.expand_dims(attention_mask, axis=1)\n",
    "        return attention_mask\n",
    "        \n",
    "    def call(self, encoder_outputs, phrase, x_inp, training=False):\n",
    "        # Batch Size\n",
    "        B = tf.shape(encoder_outputs)[0]\n",
    "        # Cast to INT32\n",
    "        phrase = tf.cast(phrase, tf.int32)\n",
    "        # Prepend SOS Token\n",
    "        phrase = tf.pad(phrase, [[0,0], [1,0]], constant_values=SOS_TOKEN, name='prepend_sos_token')\n",
    "        # Pad With PAD Token\n",
    "        phrase = tf.pad(phrase, [[0,0], [0,N_TARGET_FRAMES-MAX_PHRASE_LENGTH-1]], constant_values=PAD_TOKEN, name='append_pad_token')\n",
    "        # Positional Embedding\n",
    "        x = self.positional_embedding + self.char_emb(phrase)\n",
    "        # Causal Attention\n",
    "        x = self.pos_emb_ln(x + self.pos_emb_mha(x, x, x, attention_mask=self.causal_mask))\n",
    "        # Attention mask to ignore missing frames\n",
    "        attention_mask = self.get_attention_mask(x_inp)\n",
    "        # Iterate input over transformer blocks\n",
    "        for ln_1, mha, ln_2, mlp in zip(self.ln_1s, self.mhas, self.ln_2s, self.mlps):\n",
    "            x = ln_1(x + mha(x, encoder_outputs, encoder_outputs, attention_mask=attention_mask))\n",
    "            x = ln_2(x + mlp(x))\n",
    "        # Slice 31 Characters\n",
    "        x = tf.slice(x, [0, 0, 0], [-1, MAX_PHRASE_LENGTH, -1])\n",
    "    \n",
    "        return x"
   ]
  },
  {
   "cell_type": "code",
   "execution_count": 31,
   "id": "dd48132b",
   "metadata": {
    "execution": {
     "iopub.execute_input": "2023-08-27T18:29:37.696321Z",
     "iopub.status.busy": "2023-08-27T18:29:37.695547Z",
     "iopub.status.idle": "2023-08-27T18:29:37.733833Z",
     "shell.execute_reply": "2023-08-27T18:29:37.732859Z"
    },
    "papermill": {
     "duration": 0.073401,
     "end_time": "2023-08-27T18:29:37.736134",
     "exception": false,
     "start_time": "2023-08-27T18:29:37.662733",
     "status": "completed"
    },
    "tags": []
   },
   "outputs": [
    {
     "data": {
      "text/plain": [
       "<tf.Tensor: shape=(1, 128, 128), dtype=float32, numpy=\n",
       "array([[[1., 0., 0., ..., 0., 0., 0.],\n",
       "        [1., 1., 0., ..., 0., 0., 0.],\n",
       "        [1., 1., 1., ..., 0., 0., 0.],\n",
       "        ...,\n",
       "        [1., 1., 1., ..., 1., 0., 0.],\n",
       "        [1., 1., 1., ..., 1., 1., 0.],\n",
       "        [1., 1., 1., ..., 1., 1., 1.]]], dtype=float32)>"
      ]
     },
     "execution_count": 31,
     "metadata": {},
     "output_type": "execute_result"
    }
   ],
   "source": [
    "# Causal Attention to make decoder not attent to future characters which it needs to predict\n",
    "def get_causal_attention_mask(B):\n",
    "    i = tf.range(N_TARGET_FRAMES)[:, tf.newaxis]\n",
    "    j = tf.range(N_TARGET_FRAMES)\n",
    "    mask = tf.cast(i >= j, dtype=tf.int32)\n",
    "    mask = tf.reshape(mask, (1, N_TARGET_FRAMES, N_TARGET_FRAMES))\n",
    "    mult = tf.concat(\n",
    "        [tf.expand_dims(B, -1), tf.constant([1, 1], dtype=tf.int32)],\n",
    "        axis=0,\n",
    "    )\n",
    "    mask = tf.tile(mask, mult)\n",
    "    mask = tf.cast(mask, tf.float32)\n",
    "    return mask\n",
    "\n",
    "get_causal_attention_mask(1)"
   ]
  },
  {
   "cell_type": "markdown",
   "id": "6fa978f4",
   "metadata": {
    "papermill": {
     "duration": 0.032519,
     "end_time": "2023-08-27T18:29:37.804107",
     "exception": false,
     "start_time": "2023-08-27T18:29:37.771588",
     "status": "completed"
    },
    "tags": []
   },
   "source": [
    "This function takes a single parameter B. The purpose of the causal attention mask is to prevent the Decoder model from accessing future information during sequence generation. In tasks like text generation, machine translation, or other autoregressive tasks, it's essential that the model only has access to information from previous positions while predicting the current position. \n",
    "\n",
    "Otherwise, the model might use future information for predictions, leading to inconsistent and unrealistic results (data leakage).\n",
    "\n",
    "The function creates a numeric sequence of length N_TARGET_FRAMES using tf.range(N_TARGET_FRAMES). Then, additional dimensions are added to this sequence using [:, tf.newaxis] to convert it into a column vector.\n",
    "\n",
    "A Cartesian product is taken between the sequence created in step 1 and the original sequence using i >= j. This creates a matrix of zeros and ones, where the elements are zero in all positions corresponding to future positions (columns) relative to the current position (row).\n",
    "\n",
    "The matrix of zeros and ones is reshaped to have a shape of (1, N_TARGET_FRAMES, N_TARGET_FRAMES). The additional dimension at the beginning is necessary for its later use in calculating the final mask.\n",
    "\n",
    "The value of B is concatenated with a constant [1, 1] using tf.concat to create a tensor that specifies how many times the mask will be replicated to handle the batch size in the model.\n",
    "\n",
    "tf.tile is used to replicate the causal attention mask B times, where B is the batch size. This is done so that the mask can be applied to all elements in the batch in the model.\n",
    "\n",
    "The resulting attention mask is converted to a tensor of type float32 using tf.cast to ensure compatibility with the attention computation in TensorFlow. \n",
    "\n",
    "Finally, the function returns the resulting causal attention mask."
   ]
  },
  {
   "cell_type": "markdown",
   "id": "ee6f870c",
   "metadata": {
    "papermill": {
     "duration": 0.031836,
     "end_time": "2023-08-27T18:29:37.868309",
     "exception": false,
     "start_time": "2023-08-27T18:29:37.836473",
     "status": "completed"
    },
    "tags": []
   },
   "source": [
    "# Non Pad/SOS/EOS Token Accuracy"
   ]
  },
  {
   "cell_type": "markdown",
   "id": "c034e199",
   "metadata": {
    "papermill": {
     "duration": 0.032004,
     "end_time": "2023-08-27T18:29:37.932437",
     "exception": false,
     "start_time": "2023-08-27T18:29:37.900433",
     "status": "completed"
    },
    "tags": []
   },
   "source": [
    "This is a custom metric that inherits from tf.keras.metrics.Metric. Its purpose is to calculate the top-k accuracy of a model with multi-dimensional output.\n",
    "\n",
    "Instead of simply comparing the predicted class by the model with the true class, the Top-K Accuracy considers whether the true class is among the K most probable classes predicted by the model.\n",
    "\n",
    "Imagine you have a classification model that needs to predict the correct category of an image. If the Top-K is 1 (Top-1 Accuracy), then the model must predict the correct category as the one with the highest probability. However, if the Top-K is 5 (Top-5 Accuracy), the model is considered correct if the correct category is among the top 5 categories with the highest probabilities predicted by the model.\n",
    "\n",
    "The metric is calculated as follows:\n",
    "\n",
    "For each sample or example in the dataset, the model generates a probability distribution over all possible classes.\n",
    "\n",
    "The model selects the K classes with the highest probabilities and checks if the true class is among these K classes.\n",
    "\n",
    "If the true class is among the K most probable classes, then the model has correctly predicted that sample for the calculation of the Top-K Accuracy.\n",
    "\n",
    "The Top-K Accuracy metric is calculated by taking the percentage of samples where the model has correctly predicted the true class within the K most probable classes.\n",
    "\n",
    "The value of K in the Top-K Accuracy allows adjusting the model's level of strictness. A high Top-K value (e.g., Top-5 or Top-10) can be useful when some classification tasks are difficult and there are several possible classes close in terms of probability. On the other hand, a low Top-K value (e.g., Top-1) is more stringent and only considers the class with the highest predicted probability.\n",
    "\n",
    "The steps for implementing the TopKAccuracy class are as follows:\n",
    "\n",
    "In the __init__ method, the class is initialized and it receives a parameter k, which indicates the value of k in the top-k accuracy. For example, if k=1, it will calculate the top-1 accuracy (also known as the accuracy in the top-ranked probability). Inside the __init__ method, an instance of tf.keras.metrics.SparseTopKCategoricalAccuracy is created, which is a built-in metric in TensorFlow that calculates top-k accuracy for sparse categorical outputs. This instance is saved in the attribute self.top_k_acc for later use.\n",
    "\n",
    "In the update_state method, the calculation of the top-k accuracy is performed by updating the state of the metric. This method takes three arguments:\n",
    "\n",
    "y_true: The true label of the model, which contains the indices of the correct classes for each sample.\n",
    "\n",
    "y_pred: The output predicted by the model, which contains the probabilities of the classes for each sample.\n",
    "\n",
    "sample_weight: Optional weights for the samples.\n",
    "\n",
    "A series of transformations is performed to prepare the data for the top-k accuracy calculation:\n",
    "\n",
    "Both y_true and y_pred are reshaped to become one-dimensional tensors. This is done to ensure that the data is in the correct format for the top-k accuracy metric.\n",
    "\n",
    "The indices of those y_true that are less than N_UNIQUE_CHARACTERS (remember that there were a total of 62 distinct tokens or characters) are obtained. This is done to filter only the valid indices in the metric calculation, as there might be indices outside the valid range in certain cases.\n",
    "\n",
    "tf.gather is used to select only the samples corresponding to the valid indices in both y_true and y_pred.\n",
    "\n",
    "Finally, the update_state method of self.top_k_acc is called, passing the preprocessed data y_true and y_pred to perform the actual calculation of the top-k accuracy.\n",
    "\n",
    "The result and reset_state methods simply return the current top-k accuracy result and reset the state of the metric, respectively."
   ]
  },
  {
   "cell_type": "code",
   "execution_count": 32,
   "id": "2b684886",
   "metadata": {
    "execution": {
     "iopub.execute_input": "2023-08-27T18:29:37.999231Z",
     "iopub.status.busy": "2023-08-27T18:29:37.998619Z",
     "iopub.status.idle": "2023-08-27T18:29:38.007601Z",
     "shell.execute_reply": "2023-08-27T18:29:38.006651Z"
    },
    "papermill": {
     "duration": 0.044197,
     "end_time": "2023-08-27T18:29:38.009602",
     "exception": false,
     "start_time": "2023-08-27T18:29:37.965405",
     "status": "completed"
    },
    "tags": []
   },
   "outputs": [],
   "source": [
    "# TopK accuracy for multi dimensional output\n",
    "class TopKAccuracy(tf.keras.metrics.Metric):\n",
    "    def __init__(self, k, **kwargs):\n",
    "        super(TopKAccuracy, self).__init__(name=f'top{k}acc', **kwargs)\n",
    "        self.top_k_acc = tf.keras.metrics.SparseTopKCategoricalAccuracy(k=k)\n",
    "\n",
    "    def update_state(self, y_true, y_pred, sample_weight=None):\n",
    "        y_true = tf.reshape(y_true, [-1])\n",
    "        y_pred = tf.reshape(y_pred, [-1, N_UNIQUE_CHARACTERS])\n",
    "        character_idxs = tf.where(y_true < N_UNIQUE_CHARACTERS0)\n",
    "        y_true = tf.gather(y_true, character_idxs, axis=0)\n",
    "        y_pred = tf.gather(y_pred, character_idxs, axis=0)\n",
    "        self.top_k_acc.update_state(y_true, y_pred)\n",
    "\n",
    "    def result(self):\n",
    "        return self.top_k_acc.result()\n",
    "    \n",
    "    def reset_state(self):\n",
    "        self.top_k_acc.reset_state()"
   ]
  },
  {
   "cell_type": "markdown",
   "id": "657b0ede",
   "metadata": {
    "papermill": {
     "duration": 0.031836,
     "end_time": "2023-08-27T18:29:38.073823",
     "exception": false,
     "start_time": "2023-08-27T18:29:38.041987",
     "status": "completed"
    },
    "tags": []
   },
   "source": [
    "# Loss Weights"
   ]
  },
  {
   "cell_type": "code",
   "execution_count": 33,
   "id": "a9ba9a86",
   "metadata": {
    "execution": {
     "iopub.execute_input": "2023-08-27T18:29:38.139691Z",
     "iopub.status.busy": "2023-08-27T18:29:38.138836Z",
     "iopub.status.idle": "2023-08-27T18:29:38.143948Z",
     "shell.execute_reply": "2023-08-27T18:29:38.143126Z"
    },
    "papermill": {
     "duration": 0.040067,
     "end_time": "2023-08-27T18:29:38.145874",
     "exception": false,
     "start_time": "2023-08-27T18:29:38.105807",
     "status": "completed"
    },
    "tags": []
   },
   "outputs": [],
   "source": [
    "# Create Initial Loss Weights All Set To 1\n",
    "loss_weights = np.ones(N_UNIQUE_CHARACTERS, dtype=np.float32)\n",
    "# Set Loss Weight Of Pad Token To 0\n",
    "loss_weights[PAD_TOKEN] = 0"
   ]
  },
  {
   "cell_type": "markdown",
   "id": "e9e780ce",
   "metadata": {
    "papermill": {
     "duration": 0.031838,
     "end_time": "2023-08-27T18:29:38.209565",
     "exception": false,
     "start_time": "2023-08-27T18:29:38.177727",
     "status": "completed"
    },
    "tags": []
   },
   "source": [
    "# Sparse Categorical Crossentropy With Label Smoothing¶"
   ]
  },
  {
   "cell_type": "markdown",
   "id": "983b03b8",
   "metadata": {
    "papermill": {
     "duration": 0.031818,
     "end_time": "2023-08-27T18:29:38.273495",
     "exception": false,
     "start_time": "2023-08-27T18:29:38.241677",
     "status": "completed"
    },
    "tags": []
   },
   "source": [
    "This function calculates the loss using the categorical_crossentropy loss function with label smoothing support. The purpose of label smoothing is to avoid the model becoming too confident and \"overconfident\" in its predictions.\n",
    "\n",
    "When training a classification model, we typically use one-hot encoded labels or target outputs. In one-hot format, each sample has a label that is a binary vector with a \"1\" at the position corresponding to the true class and \"0\" in all other positions. For example, if we have a classification problem with 3 classes, a sample belonging to class 2 would have a label [0, 1, 0].\n",
    "\n",
    "Label smoothing involves reducing the absolute confidence of the model in individual labels by redistributing a small amount of probability from the true class to other classes. Instead of using \"1\" at the position corresponding to the true class, a value close to \"1\" is used, and the rest of the value is distributed among the other classes.\n",
    "\n",
    "For example, if we apply label smoothing with a smoothing value of 0.1 in the previous problem, the label [0, 1, 0] could become [0.05, 0.9, 0.05]. This means that instead of being completely certain that the sample belongs to class 2, the model becomes slightly less confident and distributes a small amount of probability to other classes. This effect generally results in improved model generalization and prevents overfitting.\n",
    "\n",
    "The function contains the following elements:\n",
    "\n",
    "idxs = tf.where(y_true != PAD_TOKEN): In this line, tf.where is used to find the positions in y_true where the value is not equal to the padding token (PAD_TOKEN). The goal is to filter out indices that do not correspond to padding tokens, as we do not want to consider them in the loss calculation.\n",
    "\n",
    "y_true = tf.gather_nd(y_true, idxs): Here, tf.gather_nd is used to obtain the label values from y_true that are not padding tokens.\n",
    "\n",
    "y_pred = tf.gather_nd(y_pred, idxs): Similarly, tf.gather_nd is used to obtain the model predictions corresponding to the filtered indices from y_true.\n",
    "\n",
    "y_true = tf.cast(y_true, tf.int32): For the calculation of the loss with tf.keras.losses.categorical_crossentropy, y_true needs to be of type int32, so a conversion is performed.\n",
    "\n",
    "y_true = tf.one_hot(y_true, N_UNIQUE_CHARACTERS, axis=1): The tf.one_hot function is used to convert the labels y_true into a one-hot representation.\n",
    "\n",
    "loss = tf.keras.losses.categorical_crossentropy(y_true, y_pred, label_smoothing=0.25, from_logits=True): Here, the loss is calculated using the categorical_crossentropy loss function. The function has an optional parameter label_smoothing, which is set to 0.25 in this case. The value 0.25 indicates how much \"confidence\" should be added to the true class and subtracted from the true class probability while adding to the other classes in the loss. from_logits=True indicates that y_pred has not been passed through a softmax activation function before calculating the loss.\n",
    "\n",
    "loss = tf.math.reduce_mean(loss): Finally, the loss calculated in the previous step is reduced to a single value by taking its average using tf.math.reduce_mean. This is necessary to obtain a single loss measure representing the overall model performance on the dataset."
   ]
  },
  {
   "cell_type": "code",
   "execution_count": 34,
   "id": "d81cb42d",
   "metadata": {
    "execution": {
     "iopub.execute_input": "2023-08-27T18:29:38.352479Z",
     "iopub.status.busy": "2023-08-27T18:29:38.352145Z",
     "iopub.status.idle": "2023-08-27T18:29:38.360815Z",
     "shell.execute_reply": "2023-08-27T18:29:38.358594Z"
    },
    "papermill": {
     "duration": 0.058359,
     "end_time": "2023-08-27T18:29:38.364103",
     "exception": false,
     "start_time": "2023-08-27T18:29:38.305744",
     "status": "completed"
    },
    "tags": []
   },
   "outputs": [],
   "source": [
    "# source:: https://stackoverflow.com/questions/60689185/label-smoothing-for-sparse-categorical-crossentropy\n",
    "def scce_with_ls(y_true, y_pred):\n",
    "    # Filter Pad Tokens\n",
    "    idxs = tf.where(y_true != PAD_TOKEN)\n",
    "    y_true = tf.gather_nd(y_true, idxs)\n",
    "    y_pred = tf.gather_nd(y_pred, idxs)\n",
    "    # One Hot Encode Sparsely Encoded Target Sign\n",
    "    y_true = tf.cast(y_true, tf.int32)\n",
    "    y_true = tf.one_hot(y_true, N_UNIQUE_CHARACTERS, axis=1)\n",
    "    # Categorical Crossentropy with native label smoothing support\n",
    "    loss = tf.keras.losses.categorical_crossentropy(y_true, y_pred, label_smoothing=0.25, from_logits=True)\n",
    "    loss = tf.math.reduce_mean(loss)\n",
    "    return loss"
   ]
  },
  {
   "cell_type": "code",
   "execution_count": 35,
   "id": "052d537a",
   "metadata": {
    "execution": {
     "iopub.execute_input": "2023-08-27T18:29:38.433872Z",
     "iopub.status.busy": "2023-08-27T18:29:38.433551Z",
     "iopub.status.idle": "2023-08-27T18:29:38.439650Z",
     "shell.execute_reply": "2023-08-27T18:29:38.438693Z"
    },
    "papermill": {
     "duration": 0.041042,
     "end_time": "2023-08-27T18:29:38.441696",
     "exception": false,
     "start_time": "2023-08-27T18:29:38.400654",
     "status": "completed"
    },
    "tags": []
   },
   "outputs": [],
   "source": [
    "def CTCLoss(labels, logits):\n",
    "    label_length = tf.reduce_sum(tf.cast(labels != pad_token_idx, tf.int32), axis=-1)\n",
    "    logit_length = tf.ones(tf.shape(logits)[0], dtype=tf.int32) * tf.shape(logits)[1]\n",
    "    loss = tf.nn.ctc_loss(\n",
    "            labels=labels,\n",
    "            logits=logits,\n",
    "            label_length=label_length,\n",
    "            logit_length=logit_length,\n",
    "            blank_index=pad_token_idx,\n",
    "            logits_time_major=False\n",
    "        )\n",
    "    loss = tf.reduce_mean(loss)\n",
    "    return loss"
   ]
  },
  {
   "cell_type": "markdown",
   "id": "b3d3be49",
   "metadata": {
    "papermill": {
     "duration": 0.032169,
     "end_time": "2023-08-27T18:29:38.505804",
     "exception": false,
     "start_time": "2023-08-27T18:29:38.473635",
     "status": "completed"
    },
    "tags": []
   },
   "source": [
    "# Model"
   ]
  },
  {
   "cell_type": "markdown",
   "id": "b0101372",
   "metadata": {
    "papermill": {
     "duration": 0.032533,
     "end_time": "2023-08-27T18:29:38.570338",
     "exception": false,
     "start_time": "2023-08-27T18:29:38.537805",
     "status": "completed"
    },
    "tags": []
   },
   "source": [
    "Once the different sub-elements that make up the model are defined, we create the model.\n",
    "\n",
    "The model has two input elements tf.keras.layers.Input corresponding to the elements in the dictionary X_batch. The first input is for the input data called \"frames,\" which we have defined as sequences of numerical data with shape [N_TARGET_FRAMES, N_COLS] = [128, 164]. The second input is for the input data called \"phrase,\" which consists of sequences of words represented by integer indices with shape [MAX_PHRASE_LENGTH] = 32.\n",
    "\n",
    "The construction of the model starts with the \"frames\" input data using x = frames_inp. Next, a Masking layer is applied to ignore null values in the \"frames\" input data. This is done to deal with variable-length sequences where null values represent time points without valid information.\n",
    "\n",
    "Subsequently, the Embedding layer is applied. We will end up with a dimension of [N, 128, 384].\n",
    "\n",
    "Next, the \"frames\" data is passed through Transformer blocks using the Encoder(NUM_BLOCKS_ENCODER)(x, frames_inp) layer. The Transformer blocks are responsible for processing and extracting relevant features from the input sequences."
   ]
  },
  {
   "cell_type": "code",
   "execution_count": 36,
   "id": "78fc8cd4",
   "metadata": {
    "execution": {
     "iopub.execute_input": "2023-08-27T18:29:38.636007Z",
     "iopub.status.busy": "2023-08-27T18:29:38.635596Z",
     "iopub.status.idle": "2023-08-27T18:29:38.646980Z",
     "shell.execute_reply": "2023-08-27T18:29:38.646131Z"
    },
    "papermill": {
     "duration": 0.046248,
     "end_time": "2023-08-27T18:29:38.648894",
     "exception": false,
     "start_time": "2023-08-27T18:29:38.602646",
     "status": "completed"
    },
    "tags": []
   },
   "outputs": [],
   "source": [
    "def get_model():\n",
    "    # Inputs\n",
    "    frames_inp = tf.keras.layers.Input([N_TARGET_FRAMES, N_COLS], dtype=tf.float32, name='frames')\n",
    "    phrase_inp = tf.keras.layers.Input([MAX_PHRASE_LENGTH], dtype=tf.int32, name='phrase')\n",
    "    # Frames\n",
    "    x = frames_inp\n",
    "\n",
    "    # Masking\n",
    "    x = tf.keras.layers.Masking(mask_value=0.0, input_shape=(N_TARGET_FRAMES, N_COLS))(x)\n",
    "    \n",
    "    # Embedding\n",
    "    x = Embedding()(x)\n",
    "    \n",
    "    # Encoder Transformer Blocks\n",
    "    x = Encoder(NUM_BLOCKS_ENCODER)(x, frames_inp)\n",
    "    \n",
    "    # Decoder\n",
    "    x = Decoder(NUM_BLOCKS_DECODER)(x, phrase_inp, frames_inp)\n",
    "    \n",
    "    # Classifier\n",
    "    x = tf.keras.Sequential([\n",
    "        # Dropout\n",
    "        tf.keras.layers.Dropout(CLASSIFIER_DROPOUT_RATIO),\n",
    "        # Output Neurons\n",
    "        tf.keras.layers.Dense(N_UNIQUE_CHARACTERS, activation=tf.keras.activations.linear, kernel_initializer=INIT_HE_UNIFORM, use_bias=False),\n",
    "    ], name='classifier')(x)\n",
    "    \n",
    "    outputs = x\n",
    "    \n",
    "    # Create Tensorflow Model\n",
    "    model = tf.keras.models.Model(inputs=[frames_inp, phrase_inp], outputs=outputs)\n",
    "    \n",
    "    # Categorical Crossentropy Loss With Label Smoothing\n",
    "#     loss = scce_with_ls\n",
    "    loss = CTCLoss\n",
    "    \n",
    "    # Adam Optimizer\n",
    "    optimizer = tfa.optimizers.RectifiedAdam(sma_threshold=4)\n",
    "    optimizer = tfa.optimizers.Lookahead(optimizer, sync_period=5)\n",
    "\n",
    "    # TopK Metrics\n",
    "    metrics = [\n",
    "        TopKAccuracy(1),\n",
    "        TopKAccuracy(5),\n",
    "    ]\n",
    "    \n",
    "    model.compile(\n",
    "        loss=loss,\n",
    "        optimizer=optimizer,\n",
    "        metrics=metrics,\n",
    "        loss_weights=loss_weights,\n",
    "    )\n",
    "    \n",
    "    return model"
   ]
  },
  {
   "cell_type": "code",
   "execution_count": 37,
   "id": "a32ee84c",
   "metadata": {
    "execution": {
     "iopub.execute_input": "2023-08-27T18:29:38.743348Z",
     "iopub.status.busy": "2023-08-27T18:29:38.743010Z",
     "iopub.status.idle": "2023-08-27T18:29:38.747908Z",
     "shell.execute_reply": "2023-08-27T18:29:38.747107Z"
    },
    "papermill": {
     "duration": 0.06675,
     "end_time": "2023-08-27T18:29:38.754245",
     "exception": false,
     "start_time": "2023-08-27T18:29:38.687495",
     "status": "completed"
    },
    "tags": []
   },
   "outputs": [
    {
     "name": "stdout",
     "output_type": "stream",
     "text": [
      "frames: (1024, 128, 164)\n",
      "phrase: (1024, 32)\n"
     ]
    }
   ],
   "source": [
    "# Input data\n",
    "for k, v in X_batch.items():\n",
    "    print(f'{k}: {v.shape}')"
   ]
  },
  {
   "cell_type": "markdown",
   "id": "4a128133",
   "metadata": {
    "papermill": {
     "duration": 0.032276,
     "end_time": "2023-08-27T18:29:38.836958",
     "exception": false,
     "start_time": "2023-08-27T18:29:38.804682",
     "status": "completed"
    },
    "tags": []
   },
   "source": [
    "We begin with two tensors that have the same shape as 'frames' and 'phrase'. We apply the mask to handle null values in the data and proceed to create a dense representation using Landmark Embedding and Positional Embedding. Subsequently, we apply the encoder to enable the model to learn and study the underlying patterns in the data."
   ]
  },
  {
   "cell_type": "code",
   "execution_count": 38,
   "id": "cf6249cf",
   "metadata": {
    "execution": {
     "iopub.execute_input": "2023-08-27T18:29:38.903864Z",
     "iopub.status.busy": "2023-08-27T18:29:38.903433Z",
     "iopub.status.idle": "2023-08-27T18:29:41.803689Z",
     "shell.execute_reply": "2023-08-27T18:29:41.802727Z"
    },
    "papermill": {
     "duration": 2.937204,
     "end_time": "2023-08-27T18:29:41.806617",
     "exception": false,
     "start_time": "2023-08-27T18:29:38.869413",
     "status": "completed"
    },
    "tags": []
   },
   "outputs": [],
   "source": [
    "tf.keras.backend.clear_session()\n",
    "\n",
    "model = get_model()"
   ]
  },
  {
   "cell_type": "code",
   "execution_count": 39,
   "id": "1626e7cf",
   "metadata": {
    "execution": {
     "iopub.execute_input": "2023-08-27T18:29:41.874081Z",
     "iopub.status.busy": "2023-08-27T18:29:41.873725Z",
     "iopub.status.idle": "2023-08-27T18:29:42.033887Z",
     "shell.execute_reply": "2023-08-27T18:29:42.032838Z"
    },
    "papermill": {
     "duration": 0.263054,
     "end_time": "2023-08-27T18:29:42.103480",
     "exception": false,
     "start_time": "2023-08-27T18:29:41.840426",
     "status": "completed"
    },
    "tags": []
   },
   "outputs": [
    {
     "name": "stdout",
     "output_type": "stream",
     "text": [
      "Model: \"model\"\n",
      "__________________________________________________________________________________________________\n",
      " Layer (type)                   Output Shape         Param #     Connected to                     \n",
      "==================================================================================================\n",
      " frames (InputLayer)            [(None, 128, 164)]   0           []                               \n",
      "                                                                                                  \n",
      " masking (Masking)              (None, 128, 164)     0           ['frames[0][0]']                 \n",
      "                                                                                                  \n",
      " embedding (Embedding)          (None, 128, 384)     259968      ['masking[0][0]']                \n",
      "|¯¯¯¯¯¯¯¯¯¯¯¯¯¯¯¯¯¯¯¯¯¯¯¯¯¯¯¯¯¯¯¯¯¯¯¯¯¯¯¯¯¯¯¯¯¯¯¯¯¯¯¯¯¯¯¯¯¯¯¯¯¯¯¯¯¯¯¯¯¯¯¯¯¯¯¯¯¯¯¯¯¯¯¯¯¯¯¯¯¯¯¯¯¯¯¯|\n",
      "| dominant_hand_embedding (Landm  multiple          210816      []                               |\n",
      "| arkEmbedding)                                                                                  |\n",
      "||¯¯¯¯¯¯¯¯¯¯¯¯¯¯¯¯¯¯¯¯¯¯¯¯¯¯¯¯¯¯¯¯¯¯¯¯¯¯¯¯¯¯¯¯¯¯¯¯¯¯¯¯¯¯¯¯¯¯¯¯¯¯¯¯¯¯¯¯¯¯¯¯¯¯¯¯¯¯¯¯¯¯¯¯¯¯¯¯¯¯¯¯¯¯||\n",
      "|| dominant_hand_embedding_dense   (None, 128, 384)  210432    []                               ||\n",
      "|| (Sequential)                                                                                 ||\n",
      "|||¯¯¯¯¯¯¯¯¯¯¯¯¯¯¯¯¯¯¯¯¯¯¯¯¯¯¯¯¯¯¯¯¯¯¯¯¯¯¯¯¯¯¯¯¯¯¯¯¯¯¯¯¯¯¯¯¯¯¯¯¯¯¯¯¯¯¯¯¯¯¯¯¯¯¯¯¯¯¯¯¯¯¯¯¯¯¯¯¯¯¯¯|||\n",
      "||| dominant_hand_embedding_dense_  (None, 128, 384)  62976   []                               |||\n",
      "||| 1 (Dense)                                                                                  |||\n",
      "|||                                                                                            |||\n",
      "||| dominant_hand_embedding_dense_  (None, 128, 384)  147456  []                               |||\n",
      "||| 2 (Dense)                                                                                  |||\n",
      "||¯¯¯¯¯¯¯¯¯¯¯¯¯¯¯¯¯¯¯¯¯¯¯¯¯¯¯¯¯¯¯¯¯¯¯¯¯¯¯¯¯¯¯¯¯¯¯¯¯¯¯¯¯¯¯¯¯¯¯¯¯¯¯¯¯¯¯¯¯¯¯¯¯¯¯¯¯¯¯¯¯¯¯¯¯¯¯¯¯¯¯¯¯¯||\n",
      "|¯¯¯¯¯¯¯¯¯¯¯¯¯¯¯¯¯¯¯¯¯¯¯¯¯¯¯¯¯¯¯¯¯¯¯¯¯¯¯¯¯¯¯¯¯¯¯¯¯¯¯¯¯¯¯¯¯¯¯¯¯¯¯¯¯¯¯¯¯¯¯¯¯¯¯¯¯¯¯¯¯¯¯¯¯¯¯¯¯¯¯¯¯¯¯¯|\n",
      "¯¯¯¯¯¯¯¯¯¯¯¯¯¯¯¯¯¯¯¯¯¯¯¯¯¯¯¯¯¯¯¯¯¯¯¯¯¯¯¯¯¯¯¯¯¯¯¯¯¯¯¯¯¯¯¯¯¯¯¯¯¯¯¯¯¯¯¯¯¯¯¯¯¯¯¯¯¯¯¯¯¯¯¯¯¯¯¯¯¯¯¯¯¯¯¯¯¯\n",
      " encoder (Encoder)              (None, 128, 256)     3643392     ['embedding[0][0]',              \n",
      "                                                                  'frames[0][0]']                 \n",
      "|¯¯¯¯¯¯¯¯¯¯¯¯¯¯¯¯¯¯¯¯¯¯¯¯¯¯¯¯¯¯¯¯¯¯¯¯¯¯¯¯¯¯¯¯¯¯¯¯¯¯¯¯¯¯¯¯¯¯¯¯¯¯¯¯¯¯¯¯¯¯¯¯¯¯¯¯¯¯¯¯¯¯¯¯¯¯¯¯¯¯¯¯¯¯¯¯|\n",
      "| layer_normalization (LayerNorm  multiple          768         []                               |\n",
      "| alization)                                                                                     |\n",
      "|                                                                                                |\n",
      "| layer_normalization_2 (LayerNo  multiple          768         []                               |\n",
      "| rmalization)                                                                                   |\n",
      "|                                                                                                |\n",
      "| layer_normalization_4 (LayerNo  multiple          768         []                               |\n",
      "| rmalization)                                                                                   |\n",
      "|                                                                                                |\n",
      "| layer_normalization_6 (LayerNo  multiple          768         []                               |\n",
      "| rmalization)                                                                                   |\n",
      "|                                                                                                |\n",
      "| multi_head_attention (MultiHea  multiple          294912      []                               |\n",
      "| dAttention)                                                                                    |\n",
      "|                                                                                                |\n",
      "| multi_head_attention_1 (MultiH  multiple          294912      []                               |\n",
      "| eadAttention)                                                                                  |\n",
      "|                                                                                                |\n",
      "| multi_head_attention_2 (MultiH  multiple          294912      []                               |\n",
      "| eadAttention)                                                                                  |\n",
      "|                                                                                                |\n",
      "| multi_head_attention_3 (MultiH  multiple          294912      []                               |\n",
      "| eadAttention)                                                                                  |\n",
      "|                                                                                                |\n",
      "| layer_normalization_1 (LayerNo  multiple          768         []                               |\n",
      "| rmalization)                                                                                   |\n",
      "|                                                                                                |\n",
      "| layer_normalization_3 (LayerNo  multiple          768         []                               |\n",
      "| rmalization)                                                                                   |\n",
      "|                                                                                                |\n",
      "| layer_normalization_5 (LayerNo  multiple          768         []                               |\n",
      "| rmalization)                                                                                   |\n",
      "|                                                                                                |\n",
      "| layer_normalization_7 (LayerNo  multiple          768         []                               |\n",
      "| rmalization)                                                                                   |\n",
      "|                                                                                                |\n",
      "| sequential_4 (Sequential)    (None, 128, 384)     589824      []                               |\n",
      "||¯¯¯¯¯¯¯¯¯¯¯¯¯¯¯¯¯¯¯¯¯¯¯¯¯¯¯¯¯¯¯¯¯¯¯¯¯¯¯¯¯¯¯¯¯¯¯¯¯¯¯¯¯¯¯¯¯¯¯¯¯¯¯¯¯¯¯¯¯¯¯¯¯¯¯¯¯¯¯¯¯¯¯¯¯¯¯¯¯¯¯¯¯¯||\n",
      "|| dense_4 (Dense)            (None, 128, 768)     294912      []                               ||\n",
      "||                                                                                              ||\n",
      "|| dropout_1 (Dropout)        (None, 128, 768)     0           []                               ||\n",
      "||                                                                                              ||\n",
      "|| dense_5 (Dense)            (None, 128, 384)     294912      []                               ||\n",
      "|¯¯¯¯¯¯¯¯¯¯¯¯¯¯¯¯¯¯¯¯¯¯¯¯¯¯¯¯¯¯¯¯¯¯¯¯¯¯¯¯¯¯¯¯¯¯¯¯¯¯¯¯¯¯¯¯¯¯¯¯¯¯¯¯¯¯¯¯¯¯¯¯¯¯¯¯¯¯¯¯¯¯¯¯¯¯¯¯¯¯¯¯¯¯¯¯|\n",
      "| sequential_9 (Sequential)    (None, 128, 384)     589824      []                               |\n",
      "||¯¯¯¯¯¯¯¯¯¯¯¯¯¯¯¯¯¯¯¯¯¯¯¯¯¯¯¯¯¯¯¯¯¯¯¯¯¯¯¯¯¯¯¯¯¯¯¯¯¯¯¯¯¯¯¯¯¯¯¯¯¯¯¯¯¯¯¯¯¯¯¯¯¯¯¯¯¯¯¯¯¯¯¯¯¯¯¯¯¯¯¯¯¯||\n",
      "|| dense_11 (Dense)           (None, 128, 768)     294912      []                               ||\n",
      "||                                                                                              ||\n",
      "|| dropout_3 (Dropout)        (None, 128, 768)     0           []                               ||\n",
      "||                                                                                              ||\n",
      "|| dense_12 (Dense)           (None, 128, 384)     294912      []                               ||\n",
      "|¯¯¯¯¯¯¯¯¯¯¯¯¯¯¯¯¯¯¯¯¯¯¯¯¯¯¯¯¯¯¯¯¯¯¯¯¯¯¯¯¯¯¯¯¯¯¯¯¯¯¯¯¯¯¯¯¯¯¯¯¯¯¯¯¯¯¯¯¯¯¯¯¯¯¯¯¯¯¯¯¯¯¯¯¯¯¯¯¯¯¯¯¯¯¯¯|\n",
      "| sequential_14 (Sequential)   (None, 128, 384)     589824      []                               |\n",
      "||¯¯¯¯¯¯¯¯¯¯¯¯¯¯¯¯¯¯¯¯¯¯¯¯¯¯¯¯¯¯¯¯¯¯¯¯¯¯¯¯¯¯¯¯¯¯¯¯¯¯¯¯¯¯¯¯¯¯¯¯¯¯¯¯¯¯¯¯¯¯¯¯¯¯¯¯¯¯¯¯¯¯¯¯¯¯¯¯¯¯¯¯¯¯||\n",
      "|| dense_18 (Dense)           (None, 128, 768)     294912      []                               ||\n",
      "||                                                                                              ||\n",
      "|| dropout_5 (Dropout)        (None, 128, 768)     0           []                               ||\n",
      "||                                                                                              ||\n",
      "|| dense_19 (Dense)           (None, 128, 384)     294912      []                               ||\n",
      "|¯¯¯¯¯¯¯¯¯¯¯¯¯¯¯¯¯¯¯¯¯¯¯¯¯¯¯¯¯¯¯¯¯¯¯¯¯¯¯¯¯¯¯¯¯¯¯¯¯¯¯¯¯¯¯¯¯¯¯¯¯¯¯¯¯¯¯¯¯¯¯¯¯¯¯¯¯¯¯¯¯¯¯¯¯¯¯¯¯¯¯¯¯¯¯¯|\n",
      "| sequential_19 (Sequential)   (None, 128, 384)     589824      []                               |\n",
      "||¯¯¯¯¯¯¯¯¯¯¯¯¯¯¯¯¯¯¯¯¯¯¯¯¯¯¯¯¯¯¯¯¯¯¯¯¯¯¯¯¯¯¯¯¯¯¯¯¯¯¯¯¯¯¯¯¯¯¯¯¯¯¯¯¯¯¯¯¯¯¯¯¯¯¯¯¯¯¯¯¯¯¯¯¯¯¯¯¯¯¯¯¯¯||\n",
      "|| dense_25 (Dense)           (None, 128, 768)     294912      []                               ||\n",
      "||                                                                                              ||\n",
      "|| dropout_7 (Dropout)        (None, 128, 768)     0           []                               ||\n",
      "||                                                                                              ||\n",
      "|| dense_26 (Dense)           (None, 128, 384)     294912      []                               ||\n",
      "|¯¯¯¯¯¯¯¯¯¯¯¯¯¯¯¯¯¯¯¯¯¯¯¯¯¯¯¯¯¯¯¯¯¯¯¯¯¯¯¯¯¯¯¯¯¯¯¯¯¯¯¯¯¯¯¯¯¯¯¯¯¯¯¯¯¯¯¯¯¯¯¯¯¯¯¯¯¯¯¯¯¯¯¯¯¯¯¯¯¯¯¯¯¯¯¯|\n",
      "| dense_27 (Dense)             multiple             98304       []                               |\n",
      "¯¯¯¯¯¯¯¯¯¯¯¯¯¯¯¯¯¯¯¯¯¯¯¯¯¯¯¯¯¯¯¯¯¯¯¯¯¯¯¯¯¯¯¯¯¯¯¯¯¯¯¯¯¯¯¯¯¯¯¯¯¯¯¯¯¯¯¯¯¯¯¯¯¯¯¯¯¯¯¯¯¯¯¯¯¯¯¯¯¯¯¯¯¯¯¯¯¯\n",
      " phrase (InputLayer)            [(None, 32)]         0           []                               \n",
      "                                                                                                  \n",
      " decoder (Decoder)              (None, 32, 256)      968704      ['encoder[0][0]',                \n",
      "                                                                  'phrase[0][0]',                 \n",
      "                                                                  'frames[0][0]']                 \n",
      "|¯¯¯¯¯¯¯¯¯¯¯¯¯¯¯¯¯¯¯¯¯¯¯¯¯¯¯¯¯¯¯¯¯¯¯¯¯¯¯¯¯¯¯¯¯¯¯¯¯¯¯¯¯¯¯¯¯¯¯¯¯¯¯¯¯¯¯¯¯¯¯¯¯¯¯¯¯¯¯¯¯¯¯¯¯¯¯¯¯¯¯¯¯¯¯¯|\n",
      "| embedding (Embedding)        multiple             15872       []                               |\n",
      "|                                                                                                |\n",
      "| multi_head_attention (MultiHea  multiple          131072      []                               |\n",
      "| dAttention)                                                                                    |\n",
      "|                                                                                                |\n",
      "| layer_normalization (LayerNorm  multiple          512         []                               |\n",
      "| alization)                                                                                     |\n",
      "|                                                                                                |\n",
      "| layer_normalization_1 (LayerNo  multiple          512         []                               |\n",
      "| rmalization)                                                                                   |\n",
      "|                                                                                                |\n",
      "| layer_normalization_3 (LayerNo  multiple          512         []                               |\n",
      "| rmalization)                                                                                   |\n",
      "|                                                                                                |\n",
      "| multi_head_attention_1 (MultiH  multiple          131072      []                               |\n",
      "| eadAttention)                                                                                  |\n",
      "|                                                                                                |\n",
      "| multi_head_attention_2 (MultiH  multiple          131072      []                               |\n",
      "| eadAttention)                                                                                  |\n",
      "|                                                                                                |\n",
      "| layer_normalization_2 (LayerNo  multiple          512         []                               |\n",
      "| rmalization)                                                                                   |\n",
      "|                                                                                                |\n",
      "| layer_normalization_4 (LayerNo  multiple          512         []                               |\n",
      "| rmalization)                                                                                   |\n",
      "|                                                                                                |\n",
      "| sequential_8 (Sequential)    (None, 128, 256)     262144      []                               |\n",
      "||¯¯¯¯¯¯¯¯¯¯¯¯¯¯¯¯¯¯¯¯¯¯¯¯¯¯¯¯¯¯¯¯¯¯¯¯¯¯¯¯¯¯¯¯¯¯¯¯¯¯¯¯¯¯¯¯¯¯¯¯¯¯¯¯¯¯¯¯¯¯¯¯¯¯¯¯¯¯¯¯¯¯¯¯¯¯¯¯¯¯¯¯¯¯||\n",
      "|| dense_8 (Dense)            (None, 128, 512)     131072      []                               ||\n",
      "||                                                                                              ||\n",
      "|| dropout_2 (Dropout)        (None, 128, 512)     0           []                               ||\n",
      "||                                                                                              ||\n",
      "|| dense_9 (Dense)            (None, 128, 256)     131072      []                               ||\n",
      "|¯¯¯¯¯¯¯¯¯¯¯¯¯¯¯¯¯¯¯¯¯¯¯¯¯¯¯¯¯¯¯¯¯¯¯¯¯¯¯¯¯¯¯¯¯¯¯¯¯¯¯¯¯¯¯¯¯¯¯¯¯¯¯¯¯¯¯¯¯¯¯¯¯¯¯¯¯¯¯¯¯¯¯¯¯¯¯¯¯¯¯¯¯¯¯¯|\n",
      "| sequential_13 (Sequential)   (None, 128, 256)     262144      []                               |\n",
      "||¯¯¯¯¯¯¯¯¯¯¯¯¯¯¯¯¯¯¯¯¯¯¯¯¯¯¯¯¯¯¯¯¯¯¯¯¯¯¯¯¯¯¯¯¯¯¯¯¯¯¯¯¯¯¯¯¯¯¯¯¯¯¯¯¯¯¯¯¯¯¯¯¯¯¯¯¯¯¯¯¯¯¯¯¯¯¯¯¯¯¯¯¯¯||\n",
      "|| dense_14 (Dense)           (None, 128, 512)     131072      []                               ||\n",
      "||                                                                                              ||\n",
      "|| dropout_4 (Dropout)        (None, 128, 512)     0           []                               ||\n",
      "||                                                                                              ||\n",
      "|| dense_15 (Dense)           (None, 128, 256)     131072      []                               ||\n",
      "|¯¯¯¯¯¯¯¯¯¯¯¯¯¯¯¯¯¯¯¯¯¯¯¯¯¯¯¯¯¯¯¯¯¯¯¯¯¯¯¯¯¯¯¯¯¯¯¯¯¯¯¯¯¯¯¯¯¯¯¯¯¯¯¯¯¯¯¯¯¯¯¯¯¯¯¯¯¯¯¯¯¯¯¯¯¯¯¯¯¯¯¯¯¯¯¯|\n",
      "¯¯¯¯¯¯¯¯¯¯¯¯¯¯¯¯¯¯¯¯¯¯¯¯¯¯¯¯¯¯¯¯¯¯¯¯¯¯¯¯¯¯¯¯¯¯¯¯¯¯¯¯¯¯¯¯¯¯¯¯¯¯¯¯¯¯¯¯¯¯¯¯¯¯¯¯¯¯¯¯¯¯¯¯¯¯¯¯¯¯¯¯¯¯¯¯¯¯\n",
      " classifier (Sequential)        (None, 32, 62)       15872       ['decoder[0][0]']                \n",
      "|¯¯¯¯¯¯¯¯¯¯¯¯¯¯¯¯¯¯¯¯¯¯¯¯¯¯¯¯¯¯¯¯¯¯¯¯¯¯¯¯¯¯¯¯¯¯¯¯¯¯¯¯¯¯¯¯¯¯¯¯¯¯¯¯¯¯¯¯¯¯¯¯¯¯¯¯¯¯¯¯¯¯¯¯¯¯¯¯¯¯¯¯¯¯¯¯|\n",
      "| dropout (Dropout)            (None, 32, 256)      0           []                               |\n",
      "|                                                                                                |\n",
      "| dense (Dense)                (None, 32, 62)       15872       []                               |\n",
      "¯¯¯¯¯¯¯¯¯¯¯¯¯¯¯¯¯¯¯¯¯¯¯¯¯¯¯¯¯¯¯¯¯¯¯¯¯¯¯¯¯¯¯¯¯¯¯¯¯¯¯¯¯¯¯¯¯¯¯¯¯¯¯¯¯¯¯¯¯¯¯¯¯¯¯¯¯¯¯¯¯¯¯¯¯¯¯¯¯¯¯¯¯¯¯¯¯¯\n",
      "==================================================================================================\n",
      "Total params: 4,887,936\n",
      "Trainable params: 4,887,936\n",
      "Non-trainable params: 0\n",
      "__________________________________________________________________________________________________\n"
     ]
    }
   ],
   "source": [
    "# Plot model summary\n",
    "model.summary(expand_nested=True)"
   ]
  },
  {
   "cell_type": "markdown",
   "id": "123afa12",
   "metadata": {
    "papermill": {
     "duration": 0.045499,
     "end_time": "2023-08-27T18:29:42.194387",
     "exception": false,
     "start_time": "2023-08-27T18:29:42.148888",
     "status": "completed"
    },
    "tags": []
   },
   "source": [
    "The model is constructed using tf.keras.models.Model, taking the previously defined inputs and outputs.\n",
    "\n",
    "The loss function scce_with_ls, which is the Categorical Crossentropy Loss with support for Label Smoothing, is defined as the model's loss function.\n",
    "\n",
    "The optimizer for the model is defined using RectifiedAdam, which is a variant of the Adam optimizer.\n",
    "\n",
    "Two evaluation metrics for the model are defined: Top-1 accuracy (TopKAccuracy(1)) and Top-5 accuracy (TopKAccuracy(5)).\n",
    "\n",
    "The model is then compiled using model.compile, where the loss function, optimizer, metrics, and loss weights are specified. The previously defined loss weights are used to adjust the relative contribution of each class in the calculation of the model's total loss.\n",
    "\n",
    "The model we have constructed is a seq2seq model with attention, commonly used in tasks such as text generation and machine translation."
   ]
  },
  {
   "cell_type": "code",
   "execution_count": 40,
   "id": "72622196",
   "metadata": {
    "execution": {
     "iopub.execute_input": "2023-08-27T18:29:42.284443Z",
     "iopub.status.busy": "2023-08-27T18:29:42.284068Z",
     "iopub.status.idle": "2023-08-27T18:29:42.623680Z",
     "shell.execute_reply": "2023-08-27T18:29:42.622782Z"
    },
    "papermill": {
     "duration": 0.389409,
     "end_time": "2023-08-27T18:29:42.628833",
     "exception": false,
     "start_time": "2023-08-27T18:29:42.239424",
     "status": "completed"
    },
    "tags": []
   },
   "outputs": [
    {
     "data": {
      "image/png": "[encoded data removed]",
      "text/plain": [
       "<IPython.core.display.Image object>"
      ]
     },
     "execution_count": 40,
     "metadata": {},
     "output_type": "execute_result"
    }
   ],
   "source": [
    "# Plot Model Architecture\n",
    "tf.keras.utils.plot_model(model, show_shapes=True, show_dtype=True, show_layer_names=True, expand_nested=True, show_layer_activations=True)"
   ]
  },
  {
   "cell_type": "markdown",
   "id": "674ffd5f",
   "metadata": {
    "papermill": {
     "duration": 0.065281,
     "end_time": "2023-08-27T18:29:42.761873",
     "exception": false,
     "start_time": "2023-08-27T18:29:42.696592",
     "status": "completed"
    },
    "tags": []
   },
   "source": [
    "# Verify Training Flag"
   ]
  },
  {
   "cell_type": "markdown",
   "id": "bc69f9b6",
   "metadata": {
    "papermill": {
     "duration": 0.064182,
     "end_time": "2023-08-27T18:29:42.901239",
     "exception": false,
     "start_time": "2023-08-27T18:29:42.837057",
     "status": "completed"
    },
    "tags": []
   },
   "source": [
    "In the first assert, we obtain the model's predictions using the input dataset X_batch_small with the training=False indicator. This means that we are performing static inference, where the model will not be updated or changed during this process. The predictions are stored in the variable pred.\n",
    "\n",
    "Next, we run a for loop ten times to verify if the predictions are consistent across multiple inference runs. We do this by comparing the original predictions with new predictions obtained again using the input dataset X_batch_small and the training=False indicator. For this comparison, we use the tf.cast function to ensure that the predictions are of type int8 (8-bit integers) and then reduce the resulting tensor using tf.reduce_min.\n",
    "\n",
    "The tf.reduce_min function is used to find the minimum value in the resulting tensor, which should be equal to 1. This indicates that all the original predictions and new predictions should be identical, indicating that the model produces consistent static results during inference.\n",
    "\n",
    "In the second assert, we again obtain the predictions using the input dataset X_batch_small, but this time with the training=True indicator. This simulates the training process, where the model utilizes dropout technique to reduce overfitting and improve generalization. Dropout involves randomly deactivating some neurons during training to prevent the model from becoming too reliant on specific features of the training data.\n",
    "\n",
    "Then, we run a for loop ten times to verify if the predictions significantly vary across multiple runs during training. For this, we compare the tensor of original predictions (calculated in step 1) with new predictions obtained with the X_batch_small dataset and the training=True indicator. We use the tf.cast function to ensure that the predictions are of type float32 (floating-point numbers) and then calculate the mean using tf.reduce_mean.\n",
    "\n",
    "We expect the resulting mean value to be greater than 0.99, indicating that at least 99% of the predictions in each run during training are different from each other due to the applied dropout. This indicates that the model is using different subsets of neurons in different runs, which is desirable for improving generalization and reducing overfitting."
   ]
  },
  {
   "cell_type": "code",
   "execution_count": 41,
   "id": "56a05923",
   "metadata": {
    "execution": {
     "iopub.execute_input": "2023-08-27T18:29:43.035616Z",
     "iopub.status.busy": "2023-08-27T18:29:43.035210Z",
     "iopub.status.idle": "2023-08-27T18:29:46.409430Z",
     "shell.execute_reply": "2023-08-27T18:29:46.408523Z"
    },
    "papermill": {
     "duration": 3.444542,
     "end_time": "2023-08-27T18:29:46.411714",
     "exception": false,
     "start_time": "2023-08-27T18:29:42.967172",
     "status": "completed"
    },
    "tags": []
   },
   "outputs": [
    {
     "data": {
      "application/vnd.jupyter.widget-view+json": {
       "model_id": "fd576e13022e43818d425cec73710b25",
       "version_major": 2,
       "version_minor": 0
      },
      "text/plain": [
       "  0%|          | 0/10 [00:00<?, ?it/s]"
      ]
     },
     "metadata": {},
     "output_type": "display_data"
    },
    {
     "data": {
      "application/vnd.jupyter.widget-view+json": {
       "model_id": "b09ac6a32d8e40878e165e72f662acf5",
       "version_major": 2,
       "version_minor": 0
      },
      "text/plain": [
       "  0%|          | 0/10 [00:00<?, ?it/s]"
      ]
     },
     "metadata": {},
     "output_type": "display_data"
    }
   ],
   "source": [
    "def verify_correct_training_flag():\n",
    "    # Verify static output for inference\n",
    "    pred = model(X_batch_small, training=False)\n",
    "    for _ in tqdm(range(10)):\n",
    "        assert tf.reduce_min(tf.cast(pred == model(X_batch_small, training=False), tf.int8)) == 1\n",
    "\n",
    "    # Verify at least 99% varying output due to dropout during training\n",
    "    for _ in tqdm(range(10)):\n",
    "        assert tf.reduce_mean(tf.cast(pred != model(X_batch_small, training=True), tf.float32)) > 0.99\n",
    "        \n",
    "verify_correct_training_flag()"
   ]
  },
  {
   "cell_type": "markdown",
   "id": "3eed7977",
   "metadata": {
    "papermill": {
     "duration": 0.045618,
     "end_time": "2023-08-27T18:29:46.503625",
     "exception": false,
     "start_time": "2023-08-27T18:29:46.458007",
     "status": "completed"
    },
    "tags": []
   },
   "source": [
    "# Verify No NaN Predictions"
   ]
  },
  {
   "cell_type": "markdown",
   "id": "ab9af514",
   "metadata": {
    "papermill": {
     "duration": 0.045904,
     "end_time": "2023-08-27T18:29:46.594938",
     "exception": false,
     "start_time": "2023-08-27T18:29:46.549034",
     "status": "completed"
    },
    "tags": []
   },
   "source": [
    "Next, we check if there are any NaN values in the predictions made by the model.\n",
    "\n",
    "The code starts by using the \"predict\" method of the model to obtain predictions for the training dataset (\"train_dataset\"), as no validation dataset is used in this context. The number of steps to be performed is specified using the steps parameter, which is set to N_VAL_STEPS_PER_EPOCH if the validation dataset is used, or 100 if no validation dataset is used (we are using 100). The \"verbose\" parameter is set to 1.\n",
    "\n",
    "Once the predictions are obtained, the code counts how many NaN values are present in the results using the function np.isnan(y_pred).sum(). If the result of this count is greater than zero, it indicates that there are NaN values in the predictions.\n",
    "\n",
    "Next, the code displays a histogram of the predictions to visualize the distribution of logits. In this context, logits refer to the output values of a neural network before applying an activation function, such as the softmax function. Logits represent the scores or scores associated with each class in a classification problem.\n",
    "\n",
    "For example, let's assume you have a classification problem with three classes: \"dog,\" \"cat,\" and \"bird.\" After training a neural network, it will produce a set of numerical values as output for a given input, which will correspond to the logits for each class. For instance, you could obtain [2.5, 1.8, 0.1] as logits for a given image. These values represent the scores or confidence levels that the network assigns to each class. In this case, the network is more confident that the image is a \"dog\" because the highest value is 2.5, followed by \"cat\" with 1.8, and \"bird\" with 0.1.\n",
    "\n",
    "After obtaining the logits, we typically apply an activation function, such as the softmax function, to convert these values into probabilities, so they sum up to 1 and can be interpreted as the probabilities of the input belonging to each class. In this example, after applying the softmax function, we could obtain [0.64, 0.29, 0.07], indicating that the network has a 64% probability of the image being a \"dog,\" 29% of being a \"cat,\" and 7% of being a \"bird.\"\n",
    "\n",
    "This visualization is helpful to understand the distribution of predictions and to detect any extreme high or low values that could indicate a problem. Please note that the translation is based on the provided explanation and may require adjustments or additional context depending on the overall context of your work."
   ]
  },
  {
   "cell_type": "code",
   "execution_count": 42,
   "id": "ef106a7a",
   "metadata": {
    "execution": {
     "iopub.execute_input": "2023-08-27T18:29:46.688006Z",
     "iopub.status.busy": "2023-08-27T18:29:46.687160Z",
     "iopub.status.idle": "2023-08-27T18:29:54.982008Z",
     "shell.execute_reply": "2023-08-27T18:29:54.980859Z"
    },
    "papermill": {
     "duration": 8.343962,
     "end_time": "2023-08-27T18:29:54.984280",
     "exception": false,
     "start_time": "2023-08-27T18:29:46.640318",
     "status": "completed"
    },
    "tags": []
   },
   "outputs": [
    {
     "name": "stdout",
     "output_type": "stream",
     "text": [
      "100/100 - 6s - 6s/epoch - 60ms/step\n",
      "# NaN Values In Predictions: 0\n"
     ]
    },
    {
     "data": {
      "image/png": "[encoded data removed]",
      "text/plain": [
       "<Figure size 1500x800 with 1 Axes>"
      ]
     },
     "metadata": {},
     "output_type": "display_data"
    }
   ],
   "source": [
    "# Verify No NaN predictions\n",
    "def verify_no_nan_predictions():\n",
    "    y_pred = model.predict(\n",
    "        val_dataset if USE_VAL else train_dataset,\n",
    "        steps=N_VAL_STEPS_PER_EPOCH if USE_VAL else 100,\n",
    "        verbose=VERBOSE,\n",
    "    )\n",
    "\n",
    "    print(f'# NaN Values In Predictions: {np.isnan(y_pred).sum()}')\n",
    "    \n",
    "    plt.figure(figsize=(15,8))\n",
    "    plt.title(f'Logit Predictions Initialized Model')\n",
    "    pd.Series(y_pred.flatten()).plot(kind='hist', bins=128)\n",
    "    plt.xlabel('Logits')\n",
    "    plt.grid()\n",
    "    plt.show()\n",
    "    \n",
    "verify_no_nan_predictions()"
   ]
  },
  {
   "cell_type": "markdown",
   "id": "814ec6eb",
   "metadata": {
    "papermill": {
     "duration": 0.046295,
     "end_time": "2023-08-27T18:29:55.078198",
     "exception": false,
     "start_time": "2023-08-27T18:29:55.031903",
     "status": "completed"
    },
    "tags": []
   },
   "source": [
    "# Learning Rate Scheduler"
   ]
  },
  {
   "cell_type": "markdown",
   "id": "1528ba17",
   "metadata": {
    "papermill": {
     "duration": 0.047072,
     "end_time": "2023-08-27T18:29:55.171811",
     "exception": false,
     "start_time": "2023-08-27T18:29:55.124739",
     "status": "completed"
    },
    "tags": []
   },
   "source": [
    "The lrfn function takes several arguments:\n",
    "\n",
    "current_step: The current training step, indicating how many steps have been completed so far in the model training.\n",
    "\n",
    "num_warmup_steps: The number of training steps used for warm-up of the learning rate. During warm-up, the learning rate gradually increases from a very small value to its maximum value.\n",
    "\n",
    "lr_max: The maximum value that the learning rate can reach during training. After warm-up, the learning rate will oscillate between 0 and this maximum value.\n",
    "\n",
    "num_cycles: The number of complete cycles of learning rate oscillation. A complete cycle means that the learning rate goes from its maximum value to 0 and then back to its maximum value. A value of 0.50 indicates that there will be half a complete cycle.\n",
    "\n",
    "num_training_steps: The total number of training steps that will be performed during the entire model training.\n",
    "\n",
    "The main purpose of the lrfn function is to calculate the learning rate for each training step. This is divided into two parts:\n",
    "\n",
    "Learning Rate Warm-up: If the current training step is less than the number of warm-up steps (num_warmup_steps), then the learning rate will gradually increase from a very small value to its maximum value. There are two possible warm-up methods: logarithmic ('log') or exponential (2 ** -). This allows the model to adapt more smoothly to the data at the beginning of the training.\n",
    "\n",
    "Learning Rate Oscillation: After the warm-up steps, the learning rate will oscillate between 0 and its maximum value (lr_max). The shape of this oscillation follows a modified cosine function, which goes from 0 to 1 and then back to 0 as the cycles progress.\n",
    "\n",
    "This learning rate function allows for an effective and adaptive way to adjust the learning rate during the model training process, ensuring better convergence and optimization performance."
   ]
  },
  {
   "cell_type": "code",
   "execution_count": 43,
   "id": "5c3312a7",
   "metadata": {
    "execution": {
     "iopub.execute_input": "2023-08-27T18:29:55.267177Z",
     "iopub.status.busy": "2023-08-27T18:29:55.266415Z",
     "iopub.status.idle": "2023-08-27T18:29:55.273452Z",
     "shell.execute_reply": "2023-08-27T18:29:55.272398Z"
    },
    "papermill": {
     "duration": 0.057574,
     "end_time": "2023-08-27T18:29:55.275827",
     "exception": false,
     "start_time": "2023-08-27T18:29:55.218253",
     "status": "completed"
    },
    "tags": []
   },
   "outputs": [],
   "source": [
    "def lrfn(current_step, num_warmup_steps, lr_max, num_cycles=0.50, num_training_steps=N_EPOCHS):\n",
    "    \n",
    "    if current_step < num_warmup_steps:\n",
    "        if WARMUP_METHOD == 'log':\n",
    "            return lr_max * 0.10 ** (num_warmup_steps - current_step)\n",
    "        else:\n",
    "            return lr_max * 2 ** -(num_warmup_steps - current_step)\n",
    "    else:\n",
    "        progress = float(current_step - num_warmup_steps) / float(max(1, num_training_steps - num_warmup_steps))\n",
    "\n",
    "        return max(0.0, 0.5 * (1.0 + math.cos(math.pi * float(num_cycles) * 2.0 * progress))) * lr_max"
   ]
  },
  {
   "cell_type": "code",
   "execution_count": 44,
   "id": "93e970db",
   "metadata": {
    "execution": {
     "iopub.execute_input": "2023-08-27T18:29:55.370230Z",
     "iopub.status.busy": "2023-08-27T18:29:55.369956Z",
     "iopub.status.idle": "2023-08-27T18:29:56.184763Z",
     "shell.execute_reply": "2023-08-27T18:29:56.183860Z"
    },
    "papermill": {
     "duration": 0.865215,
     "end_time": "2023-08-27T18:29:56.187820",
     "exception": false,
     "start_time": "2023-08-27T18:29:55.322605",
     "status": "completed"
    },
    "tags": []
   },
   "outputs": [
    {
     "data": {
      "image/png": "[encoded data removed]",
      "text/plain": [
       "<Figure size 2000x1000 with 1 Axes>"
      ]
     },
     "metadata": {},
     "output_type": "display_data"
    }
   ],
   "source": [
    "def plot_lr_schedule(lr_schedule, epochs):\n",
    "    fig = plt.figure(figsize=(20, 10))\n",
    "    plt.plot([None] + lr_schedule + [None])\n",
    "    # X Labels\n",
    "    x = np.arange(1, epochs + 1)\n",
    "    x_axis_labels = [i if epochs <= 40 or i % 5 == 0 or i == 1 else None for i in range(1, epochs + 1)]\n",
    "    plt.xlim([1, epochs])\n",
    "    plt.xticks(x, x_axis_labels) # set tick step to 1 and let x axis start at 1\n",
    "    \n",
    "    # Increase y-limit for better readability\n",
    "    plt.ylim([0, max(lr_schedule) * 1.1])\n",
    "    \n",
    "    # Title\n",
    "    schedule_info = f'start: {lr_schedule[0]:.1E}, max: {max(lr_schedule):.1E}, final: {lr_schedule[-1]:.1E}'\n",
    "    plt.title(f'Step Learning Rate Schedule, {schedule_info}', size=18, pad=12)\n",
    "    \n",
    "    # Plot Learning Rates\n",
    "    for x, val in enumerate(lr_schedule):\n",
    "        if epochs <= 40 or x % 5 == 0 or x is epochs - 1:\n",
    "            if x < len(lr_schedule) - 1:\n",
    "                if lr_schedule[x - 1] < val:\n",
    "                    ha = 'right'\n",
    "                else:\n",
    "                    ha = 'left'\n",
    "            elif x == 0:\n",
    "                ha = 'right'\n",
    "            else:\n",
    "                ha = 'left'\n",
    "            plt.plot(x + 1, val, 'o', color='black');\n",
    "            offset_y = (max(lr_schedule) - min(lr_schedule)) * 0.02\n",
    "            plt.annotate(f'{val:.1E}', xy=(x + 1, val + offset_y), size=12, ha=ha)\n",
    "    \n",
    "    plt.xlabel('Epoch', size=16, labelpad=5)\n",
    "    plt.ylabel('Learning Rate', size=16, labelpad=5)\n",
    "    plt.grid()\n",
    "    plt.show()\n",
    "\n",
    "# Learning rate for encoder\n",
    "LR_SCHEDULE = [lrfn(step, num_warmup_steps=N_WARMUP_EPOCHS, lr_max=LR_MAX, num_cycles=0.50) for step in range(N_EPOCHS)]\n",
    "# Plot Learning Rate Schedule\n",
    "plot_lr_schedule(LR_SCHEDULE, epochs=N_EPOCHS)\n",
    "# Learning Rate Callback\n",
    "lr_callback = tf.keras.callbacks.LearningRateScheduler(lambda step: LR_SCHEDULE[step], verbose=0)"
   ]
  },
  {
   "cell_type": "markdown",
   "id": "a393e353",
   "metadata": {
    "papermill": {
     "duration": 0.048253,
     "end_time": "2023-08-27T18:29:56.284891",
     "exception": false,
     "start_time": "2023-08-27T18:29:56.236638",
     "status": "completed"
    },
    "tags": []
   },
   "source": [
    "Now, we define a function called plot_lr_schedule, which will be used to visualize the learning rate schedule. The function takes two arguments:\n",
    "\n",
    "lr_schedule: A list containing the learning rate values for each training step (epoch).\n",
    "epochs: The total number of training epochs.\n",
    "The function performs the following steps to plot the learning rate schedule:\n",
    "\n",
    "A line is plotted for the scheduled learning rate (lr_schedule). A None value is added at the beginning and end to prevent the line from reaching the edges of the graph.\n",
    "Points are plotted on the graph for each learning rate in lr_schedule. Depending on the total number of epochs, only some points are shown to avoid the graph becoming too dense. The points are labeled with the corresponding learning rate values.\n",
    "Then, a list called LR_SCHEDULE is created using the lrfn function, which calculates the learning rate for each step in the number of epochs (in this case, 20). We plot the graph to visualize the learning rate for each epoch.\n",
    "\n",
    "Finally, a Keras callback called lr_callback is created, which will be used during the model training. This callback will automatically adjust the learning rate in each training epoch using the lambda function step: LR_SCHEDULE[step]. The learning rate value for each epoch will be obtained from the LR_SCHEDULE list that was created earlier."
   ]
  },
  {
   "cell_type": "markdown",
   "id": "9e8876be",
   "metadata": {
    "papermill": {
     "duration": 0.048162,
     "end_time": "2023-08-27T18:29:56.381736",
     "exception": false,
     "start_time": "2023-08-27T18:29:56.333574",
     "status": "completed"
    },
    "tags": []
   },
   "source": [
    "# Weight Decay Callback"
   ]
  },
  {
   "cell_type": "markdown",
   "id": "236b9e68",
   "metadata": {
    "papermill": {
     "duration": 0.047963,
     "end_time": "2023-08-27T18:29:56.478433",
     "exception": false,
     "start_time": "2023-08-27T18:29:56.430470",
     "status": "completed"
    },
    "tags": []
   },
   "source": [
    "This code fragment defines a custom callback class called WeightDecayCallback, which will be used during the model training to update the \"weight decay\" term in the optimizer based on the learning rate.\n",
    "\n",
    "Weight decay, also known as \"L2 regularization,\" is a technique used in training machine learning models to prevent overfitting and improve model generalization.\n",
    "\n",
    "In simple terms, weight decay involves adding a penalty term to the model's loss function that is related to the values of the model's weights. This penalty term is proportional to the square of the weight values and is added to the loss function during the optimization process.\n",
    "\n",
    "The goal of weight decay is to penalize large model weights, meaning that the model is less likely to adjust its weights to extremely large values that could cause overfitting. By penalizing large weights, the model is encouraged to use smaller weights, which can improve generalization and prevent the model from memorizing the training data instead of learning general patterns.\n",
    "\n",
    "The WeightDecayCallback callback has an __init__ constructor that takes an optional parameter wd_ratio, representing the weight decay ratio with respect to the learning rate (default value is equal to WD_RATIO).\n",
    "\n",
    "The callback has an on_epoch_begin method, which is executed at the beginning of each epoch during the model training. In this method, the weight decay in the optimizer is updated by multiplying the model's current learning rate by the wd_ratio value. This allows the weight decay to automatically adjust based on the learning rate, which can help improve model regularization and prevent overfitting.\n",
    "\n",
    "Additionally, the on_epoch_begin method prints the current values of the learning rate and weight decay to the screen, providing useful information during training to monitor how these values are changing throughout the epochs. Please note that the translation is based on the provided explanation and may require adjustments or additional context depending on the overall context of your work."
   ]
  },
  {
   "cell_type": "code",
   "execution_count": 45,
   "id": "2307ae1b",
   "metadata": {
    "execution": {
     "iopub.execute_input": "2023-08-27T18:29:56.577624Z",
     "iopub.status.busy": "2023-08-27T18:29:56.576405Z",
     "iopub.status.idle": "2023-08-27T18:29:56.583709Z",
     "shell.execute_reply": "2023-08-27T18:29:56.582841Z"
    },
    "papermill": {
     "duration": 0.059115,
     "end_time": "2023-08-27T18:29:56.585722",
     "exception": false,
     "start_time": "2023-08-27T18:29:56.526607",
     "status": "completed"
    },
    "tags": []
   },
   "outputs": [],
   "source": [
    "# Custom callback to update weight decay with learning rate\n",
    "class WeightDecayCallback(tf.keras.callbacks.Callback):\n",
    "    def __init__(self, wd_ratio=WD_RATIO):\n",
    "        self.step_counter = 0\n",
    "        self.wd_ratio = wd_ratio\n",
    "    \n",
    "    def on_epoch_begin(self, epoch, logs=None):\n",
    "        model.optimizer.weight_decay = model.optimizer.learning_rate * self.wd_ratio\n",
    "        print(f'learning rate: {model.optimizer.learning_rate.numpy():.2e}, weight decay: {model.optimizer.weight_decay.numpy():.2e}')"
   ]
  },
  {
   "cell_type": "markdown",
   "id": "1387ff3a",
   "metadata": {
    "papermill": {
     "duration": 0.048408,
     "end_time": "2023-08-27T18:29:56.682585",
     "exception": false,
     "start_time": "2023-08-27T18:29:56.634177",
     "status": "completed"
    },
    "tags": []
   },
   "source": [
    "# Evaluate Initialized Model"
   ]
  },
  {
   "cell_type": "code",
   "execution_count": 46,
   "id": "15f89b2c",
   "metadata": {
    "execution": {
     "iopub.execute_input": "2023-08-27T18:29:56.780861Z",
     "iopub.status.busy": "2023-08-27T18:29:56.780509Z",
     "iopub.status.idle": "2023-08-27T18:29:56.785307Z",
     "shell.execute_reply": "2023-08-27T18:29:56.784303Z"
    },
    "papermill": {
     "duration": 0.056653,
     "end_time": "2023-08-27T18:29:56.787193",
     "exception": false,
     "start_time": "2023-08-27T18:29:56.730540",
     "status": "completed"
    },
    "tags": []
   },
   "outputs": [],
   "source": [
    "pad_token = '^'\n",
    "pad_token_idx = 59"
   ]
  },
  {
   "cell_type": "code",
   "execution_count": 47,
   "id": "38b00d09",
   "metadata": {
    "execution": {
     "iopub.execute_input": "2023-08-27T18:29:56.888995Z",
     "iopub.status.busy": "2023-08-27T18:29:56.888110Z",
     "iopub.status.idle": "2023-08-27T18:31:19.585766Z",
     "shell.execute_reply": "2023-08-27T18:31:19.584567Z"
    },
    "papermill": {
     "duration": 82.7964,
     "end_time": "2023-08-27T18:31:19.633011",
     "exception": false,
     "start_time": "2023-08-27T18:29:56.836611",
     "status": "completed"
    },
    "tags": []
   },
   "outputs": [
    {
     "name": "stdout",
     "output_type": "stream",
     "text": [
      "969/969 - 83s - loss: 136.3367 - top1acc: 0.0203 - top5acc: 0.0828 - 83s/epoch - 85ms/step\n"
     ]
    }
   ],
   "source": [
    "# Evaluate Initialized Model On Validation Data\n",
    "y_pred = model.evaluate(\n",
    "    val_dataset if USE_VAL else train_dataset,\n",
    "    steps=N_VAL_STEPS_PER_EPOCH if USE_VAL else TRAIN_STEPS_PER_EPOCH,\n",
    "    verbose=VERBOSE,\n",
    ")"
   ]
  },
  {
   "cell_type": "markdown",
   "id": "520b8c1a",
   "metadata": {
    "papermill": {
     "duration": 0.047839,
     "end_time": "2023-08-27T18:31:19.729245",
     "exception": false,
     "start_time": "2023-08-27T18:31:19.681406",
     "status": "completed"
    },
    "tags": []
   },
   "source": [
    "# Baseline"
   ]
  },
  {
   "cell_type": "markdown",
   "id": "b8e96168",
   "metadata": {
    "papermill": {
     "duration": 0.048636,
     "end_time": "2023-08-27T18:31:19.826400",
     "exception": false,
     "start_time": "2023-08-27T18:31:19.777764",
     "status": "completed"
    },
    "tags": []
   },
   "source": [
    "This code fragment calculates the \"baseline accuracy\" for the model when predicting only the padding token (PAD_TOKEN).\n",
    "\n",
    "In this particular case, the \"baseline accuracy\" refers to the accuracy of the model when predicting only the padding token (PAD_TOKEN) for all samples in the dataset. This accuracy is calculated as the proportion of samples in the dataset that contain only the padding token.\n",
    "\n",
    "It is important to calculate the \"baseline accuracy\" to get an idea of how a simple or naive model that always predicts the most common value (the padding token) would perform. If the model we are building does not significantly surpass this baseline accuracy, it indicates that the model is not learning relevant patterns in the data and needs improvement to be useful in the task at hand.\n",
    "\n",
    "If the variable USE_VAL is true, it means that the validation set is being used to calculate the baseline accuracy. Otherwise, the training set is used.\n",
    "\n",
    "The baseline accuracy is calculated by comparing the actual labels (y_val or y_train) with the value of the padding token (PAD_TOKEN). The padding token is used in sequences to indicate empty or irrelevant positions.\n",
    "\n",
    "The calculation of the baseline accuracy is done as follows:\n",
    "\n",
    "If USE_VAL=True, the baseline accuracy is calculated using the validation set: Each element in the validation set (y_val) is compared with the padding token value (PAD_TOKEN).\n",
    "A boolean array is obtained that indicates whether each element is equal to the padding token or not.\n",
    "The mean of this boolean array is calculated to obtain the proportion of elements that are equal to the padding token. This proportion represents the baseline accuracy in the validation set.\n",
    "If USE_VAL=False, the same process is performed but using the training set (y_train) instead.\n",
    "A high baseline accuracy could indicate that the model needs improvement to be useful in the task being addressed."
   ]
  },
  {
   "cell_type": "code",
   "execution_count": 48,
   "id": "ea852a92",
   "metadata": {
    "execution": {
     "iopub.execute_input": "2023-08-27T18:31:19.925277Z",
     "iopub.status.busy": "2023-08-27T18:31:19.924382Z",
     "iopub.status.idle": "2023-08-27T18:31:19.936040Z",
     "shell.execute_reply": "2023-08-27T18:31:19.934803Z"
    },
    "papermill": {
     "duration": 0.063052,
     "end_time": "2023-08-27T18:31:19.938013",
     "exception": false,
     "start_time": "2023-08-27T18:31:19.874961",
     "status": "completed"
    },
    "tags": []
   },
   "outputs": [
    {
     "name": "stdout",
     "output_type": "stream",
     "text": [
      "Baseline Accuracy: 0.4100\n"
     ]
    }
   ],
   "source": [
    "# baseline accuracy when only pad token is predicted\n",
    "if USE_VAL:\n",
    "    baseline_accuracy = np.mean(y_val == PAD_TOKEN)\n",
    "else:\n",
    "    baseline_accuracy = np.mean(y_train == PAD_TOKEN)\n",
    "print(f'Baseline Accuracy: {baseline_accuracy:.4f}')"
   ]
  },
  {
   "cell_type": "markdown",
   "id": "8a5e0e3a",
   "metadata": {
    "papermill": {
     "duration": 0.048787,
     "end_time": "2023-08-27T18:31:20.035173",
     "exception": false,
     "start_time": "2023-08-27T18:31:19.986386",
     "status": "completed"
    },
    "tags": []
   },
   "source": [
    "# Train"
   ]
  },
  {
   "cell_type": "code",
   "execution_count": 49,
   "id": "163d9a22",
   "metadata": {
    "execution": {
     "iopub.execute_input": "2023-08-27T18:31:20.133502Z",
     "iopub.status.busy": "2023-08-27T18:31:20.132905Z",
     "iopub.status.idle": "2023-08-27T18:31:20.398341Z",
     "shell.execute_reply": "2023-08-27T18:31:20.397290Z"
    },
    "papermill": {
     "duration": 0.317542,
     "end_time": "2023-08-27T18:31:20.400715",
     "exception": false,
     "start_time": "2023-08-27T18:31:20.083173",
     "status": "completed"
    },
    "tags": []
   },
   "outputs": [
    {
     "data": {
      "text/plain": [
       "26333"
      ]
     },
     "execution_count": 49,
     "metadata": {},
     "output_type": "execute_result"
    }
   ],
   "source": [
    "gc.collect()"
   ]
  },
  {
   "cell_type": "markdown",
   "id": "d501c313",
   "metadata": {
    "papermill": {
     "duration": 0.048343,
     "end_time": "2023-08-27T18:31:20.498399",
     "exception": false,
     "start_time": "2023-08-27T18:31:20.450056",
     "status": "completed"
    },
    "tags": []
   },
   "source": [
    "We proceed to train the model using the train_dataset.\n",
    "\n",
    "The steps involved in training the model are as follows:\n",
    "\n",
    "First, we clear all previous models from the GPU to free up memory. This is done using tf.keras.backend.clear_session().\n",
    "\n",
    "We obtain a new model using the get_model() function. We print a summary of the model using model.summary() to verify that it has been created correctly.\n",
    "\n",
    "We start the training process of the model using the fit() method. In this method, the following arguments are provided:\n",
    "\n",
    "x: the training data (train_dataset).\n",
    "steps_per_epoch: The number of steps that will be performed in each training epoch. Each step is an update of the model's weights based on a batch of samples.\n",
    "epochs: The total number of epochs that will be performed during the entire training process.\n",
    "validation_data: the validation data (val_dataset). In our case, USE_VAL=False, so it is set to None.\n",
    "validation_steps: The number of steps that will be performed during evaluation in each validation epoch. We do not use this parameter.\n",
    "callbacks: A list of callbacks that are executed during training. In this case, we use the lr_callback to update the learning rate and the WeightDecayCallback() to update the weight decay during training.\n",
    "verbose: An integer value that controls the amount of information displayed during training. A value of 0 shows nothing, a value of 1 shows a progress bar, and a value of 2 shows a progress bar and a summary of each epoch."
   ]
  },
  {
   "cell_type": "code",
   "execution_count": 50,
   "id": "085c1cc5",
   "metadata": {
    "execution": {
     "iopub.execute_input": "2023-08-27T18:31:20.596970Z",
     "iopub.status.busy": "2023-08-27T18:31:20.596138Z",
     "iopub.status.idle": "2023-08-27T18:31:20.602662Z",
     "shell.execute_reply": "2023-08-27T18:31:20.601830Z"
    },
    "papermill": {
     "duration": 0.057757,
     "end_time": "2023-08-27T18:31:20.604598",
     "exception": false,
     "start_time": "2023-08-27T18:31:20.546841",
     "status": "completed"
    },
    "tags": []
   },
   "outputs": [],
   "source": [
    "if TRAIN_MODEL:\n",
    "    # Clear all models in GPU\n",
    "    tf.keras.backend.clear_session()\n",
    "\n",
    "    # Get new fresh model\n",
    "    model = get_model()\n",
    "\n",
    "    # Sanity Check\n",
    "    model.summary()\n",
    "\n",
    "    # Actual Training\n",
    "    history = model.fit(\n",
    "            x=train_dataset,\n",
    "            steps_per_epoch=TRAIN_STEPS_PER_EPOCH,\n",
    "            epochs=N_EPOCHS,\n",
    "            # Only used for validation data since training data is a generator\n",
    "            validation_data=val_dataset if USE_VAL else None,\n",
    "            validation_steps=N_VAL_STEPS_PER_EPOCH if USE_VAL else None,\n",
    "            callbacks=[\n",
    "                lr_callback,\n",
    "                WeightDecayCallback(),\n",
    "            ],\n",
    "            verbose=VERBOSE,\n",
    "        )"
   ]
  },
  {
   "cell_type": "code",
   "execution_count": 51,
   "id": "11cfad81",
   "metadata": {
    "execution": {
     "iopub.execute_input": "2023-08-27T18:31:20.704154Z",
     "iopub.status.busy": "2023-08-27T18:31:20.703373Z",
     "iopub.status.idle": "2023-08-27T18:31:21.358414Z",
     "shell.execute_reply": "2023-08-27T18:31:21.357464Z"
    },
    "papermill": {
     "duration": 0.706691,
     "end_time": "2023-08-27T18:31:21.360690",
     "exception": false,
     "start_time": "2023-08-27T18:31:20.653999",
     "status": "completed"
    },
    "tags": []
   },
   "outputs": [
    {
     "name": "stdout",
     "output_type": "stream",
     "text": [
      "Successfully Loaded Pretrained Weights\n"
     ]
    }
   ],
   "source": [
    "# Load Weights\n",
    "if LOAD_WEIGHTS:\n",
    "    model.load_weights('/kaggle/input/aslfr-transformer-training-inference/model.h5')\n",
    "    print(f'Successfully Loaded Pretrained Weights')"
   ]
  },
  {
   "cell_type": "code",
   "execution_count": 52,
   "id": "6c90322e",
   "metadata": {
    "execution": {
     "iopub.execute_input": "2023-08-27T18:31:21.460658Z",
     "iopub.status.busy": "2023-08-27T18:31:21.460349Z",
     "iopub.status.idle": "2023-08-27T18:31:21.553212Z",
     "shell.execute_reply": "2023-08-27T18:31:21.552174Z"
    },
    "papermill": {
     "duration": 0.14524,
     "end_time": "2023-08-27T18:31:21.555946",
     "exception": false,
     "start_time": "2023-08-27T18:31:21.410706",
     "status": "completed"
    },
    "tags": []
   },
   "outputs": [],
   "source": [
    "# Save Model Weights\n",
    "model.save_weights('model.h5')"
   ]
  },
  {
   "cell_type": "code",
   "execution_count": 53,
   "id": "d7a53039",
   "metadata": {
    "execution": {
     "iopub.execute_input": "2023-08-27T18:31:21.656982Z",
     "iopub.status.busy": "2023-08-27T18:31:21.656650Z",
     "iopub.status.idle": "2023-08-27T18:32:41.491177Z",
     "shell.execute_reply": "2023-08-27T18:32:41.490073Z"
    },
    "papermill": {
     "duration": 79.931163,
     "end_time": "2023-08-27T18:32:41.536233",
     "exception": false,
     "start_time": "2023-08-27T18:31:21.605070",
     "status": "completed"
    },
    "tags": []
   },
   "outputs": [
    {
     "name": "stdout",
     "output_type": "stream",
     "text": [
      "969/969 - 80s - loss: 63.4084 - top1acc: 0.8977 - top5acc: 0.9696 - 80s/epoch - 82ms/step\n"
     ]
    },
    {
     "data": {
      "text/plain": [
       "[63.40839767456055, 0.8977060317993164, 0.9695924520492554]"
      ]
     },
     "execution_count": 53,
     "metadata": {},
     "output_type": "execute_result"
    }
   ],
   "source": [
    "# Verify Model is Loaded Correctly\n",
    "model.evaluate(\n",
    "    val_dataset if USE_VAL else train_dataset,\n",
    "    steps=N_VAL_STEPS_PER_EPOCH if USE_VAL else TRAIN_STEPS_PER_EPOCH,\n",
    "    batch_size=BATCH_SIZE,\n",
    "    verbose=VERBOSE,\n",
    ")"
   ]
  },
  {
   "cell_type": "markdown",
   "id": "6576eb14",
   "metadata": {
    "papermill": {
     "duration": 0.048607,
     "end_time": "2023-08-27T18:32:41.633472",
     "exception": false,
     "start_time": "2023-08-27T18:32:41.584865",
     "status": "completed"
    },
    "tags": []
   },
   "source": [
    "Now, we evaluate the loaded model on the specified dataset and calculate the loss and metrics of the model on that dataset. This step helps us verify that the model is loaded correctly and ready for use. Since train_dataset is a generator object, each time we access it, we obtain a new batch of different data. Therefore, we are not evaluating with the same data that we used for training.\n",
    "\n",
    "The evaluate() function prints three values to the screen in the form of a list:\n",
    "\n",
    "Loss (Sparse Categorical Cross Entropy with Label Smoothing in our case): This measures how well the model's predictions fit the true labels during training. A lower loss indicates a better fit of the model to the training data.\n",
    "\n",
    "Top-1 Accuracy (TopKAccuracy(1)): This is the top-1 accuracy, also known as the accuracy in the ranking of the highest probability. It represents the fraction of samples in which the model correctly predicts the true class as the class with the highest probability. In other words, it is the accuracy for the case where only the most probable class is taken as the prediction.\n",
    "\n",
    "Top-5 Accuracy (TopKAccuracy(5)): This is the top-5 accuracy, which represents the fraction of samples in which the model correctly predicts the true class as one of the five classes with the highest probabilities. In other words, it considers the top five most probable classes and checks if the true class is present in those five classes."
   ]
  },
  {
   "cell_type": "markdown",
   "id": "51c8334b",
   "metadata": {
    "papermill": {
     "duration": 0.04865,
     "end_time": "2023-08-27T18:32:41.734116",
     "exception": false,
     "start_time": "2023-08-27T18:32:41.685466",
     "status": "completed"
    },
    "tags": []
   },
   "source": [
    "# Levenshtein Distance"
   ]
  },
  {
   "cell_type": "markdown",
   "id": "0408abdc",
   "metadata": {
    "papermill": {
     "duration": 0.048749,
     "end_time": "2023-08-27T18:32:41.832077",
     "exception": false,
     "start_time": "2023-08-27T18:32:41.783328",
     "status": "completed"
    },
    "tags": []
   },
   "source": [
    "We define a function called outputs2phrase, which is used to convert the model outputs (outputs) into a sequence of text (phrase). The function takes the model outputs as input, which can be a two-dimensional tensor or a one-dimensional tensor. The function performs the following steps:\n",
    "\n",
    "If the outputs have two dimensions, it takes the index of the class with the highest probability for each sample using np.argmax(outputs, axis=1). This assumes that the outputs are class probabilities, and the model has predicted the class with the highest probability for each sample.\n",
    "\n",
    "Then, the function iterates over the indices of the predicted classes and uses a dictionary called ORD2CHAR to convert the indices into characters. ORD2CHAR is a dictionary that maps class indices to the corresponding characters in the text sequence. For example, index 0 could be mapped to the character \"a\", index 1 to the character \"b\", and so on.\n",
    "\n",
    "Finally, the function concatenates all the characters to form the complete text sequence and returns it as the output.\n",
    "\n",
    "In summary, this function is useful for converting the model outputs, which are class indices or probabilities, into a readable text sequence to interpret the model predictions in text form."
   ]
  },
  {
   "cell_type": "code",
   "execution_count": 54,
   "id": "8386c3a6",
   "metadata": {
    "execution": {
     "iopub.execute_input": "2023-08-27T18:32:41.932912Z",
     "iopub.status.busy": "2023-08-27T18:32:41.931846Z",
     "iopub.status.idle": "2023-08-27T18:32:41.937955Z",
     "shell.execute_reply": "2023-08-27T18:32:41.936935Z"
    },
    "papermill": {
     "duration": 0.05846,
     "end_time": "2023-08-27T18:32:41.940043",
     "exception": false,
     "start_time": "2023-08-27T18:32:41.881583",
     "status": "completed"
    },
    "tags": []
   },
   "outputs": [],
   "source": [
    "# Output Predictions to string\n",
    "def outputs2phrase(outputs):\n",
    "    if outputs.ndim == 2:\n",
    "        outputs = np.argmax(outputs, axis=1)\n",
    "    \n",
    "    return ''.join([ORD2CHAR.get(s, '') for s in outputs])"
   ]
  },
  {
   "cell_type": "markdown",
   "id": "ee5e06c4",
   "metadata": {
    "papermill": {
     "duration": 0.048847,
     "end_time": "2023-08-27T18:32:42.037730",
     "exception": false,
     "start_time": "2023-08-27T18:32:41.988883",
     "status": "completed"
    },
    "tags": []
   },
   "source": [
    "We define a function called predict_phrase that is used to generate text predictions based on an input sequence of frames using a pre-trained language model.\n",
    "\n",
    "The steps involved in the predict_phrase function are as follows:\n",
    "\n",
    "The function is decorated with @tf.function() to convert it into a TensorFlow graph and gain performance benefits during execution.\n",
    "\n",
    "The function takes the frames tensor as input, which represents the input sequence of frames (similar to what we've seen previously as X_batch['frames']).\n",
    "\n",
    "A batch dimension is added to the frames tensor using tf.expand_dims(). This is necessary because the model expects input with a batch dimension, even if we are making a prediction for a single example.\n",
    "\n",
    "A variable called phrase is initialized with shape [1, MAX_PHRASE_LENGTH] and filled with the padding token (PAD_TOKEN). This variable is used to store the generated text sequence.\n",
    "\n",
    "A loop is initiated that will run MAX_PHRASE_LENGTH times, which is the maximum number of tokens in the generated text sequence.\n",
    "\n",
    "Inside the loop, the following steps are performed:\n",
    "\n",
    "The phrase tensor is converted to int8 data type.\n",
    "The model is called with inputs X = frames and y = phrase using the model() method to get the model predictions for the next token in the text sequence. These predictions are stored in the variable outputs.\n",
    "phrase = tf.cast(phrase, tf.int32): The phrase tensor is converted to data type int32. This is necessary to ensure that we can use the tf.where() function correctly as it requires the arguments to have the same data type.\n",
    "tf.range(MAX_PHRASE_LENGTH) < idx + 1: A boolean tensor of shape [MAX_PHRASE_LENGTH]=32 is created, where each element is True if its index is less than idx + 1, and False otherwise. This creates a mask that indicates which positions in the text sequence have not been predicted yet.\n",
    "tf.argmax(outputs, axis=2, output_type=tf.int32): The tf.argmax() function is used to find the index of the token with the highest probability in the predictions (outputs). The argument axis=2 indicates that the maximum search will be done along the third axis of outputs, which corresponds to the different classes or tokens possible in the text sequence. The argument output_type=tf.int32 ensures that the result of tf.argmax() will be of integer data type int32.\n",
    "tf.where(condition, x, y): This function performs a \"conditional selection\" operation. It takes three arguments: condition, x, and y. If condition is True at a position, the value of x at that position is selected; otherwise, the value of y is selected. In this case, condition is the mask created in step 2, x is the result of tf.argmax() in step 3 (i.e., the index of the predicted token), and y is the current text sequence (phrase). This means that if a position in the mask is True, the predicted token at that position is selected; otherwise, the current token is retained at that position.\n",
    "\n",
    "At the end of this operation, the phrase variable has been updated with the predicted token at the corresponding position, allowing the loop to iterate and add the next token to the next position in the text sequence. This way, the text sequence is gradually constructed step by step until it is completed with MAX_PHRASE_LENGTH tokens, and the generated text sequence is obtained from the language model.\n",
    "\n",
    "Once the loop is finished, the phrase tensor is squeezed to remove the previously added batch dimension, as we are only generating a text sequence for a single example.\n",
    "\n",
    "The numeric values in phrase are converted into a \"one-hot\" representation using tf.one_hot(). This \"one-hot\" representation is useful for obtaining the discrete labels (tokens) in numerical format.\n",
    "\n",
    "Finally, the function returns a dictionary with the key \"outputs\" and the resulting output tensor. This tensor contains the generated text sequence in \"one-hot\" format with shape [MAX_PHRASE_LENGTH, N_UNIQUE_CHARACTERS].\n",
    "\n",
    "In summary, the predict_phrase function takes an input sequence of frames and uses the language model to predict the next word in the generated text sequence. It then iterates to predict all the words in the sequence. The function returns the generated text sequence in \"one-hot\" format to represent the tokens numerically.\n",
    "\n",
    "Please note that the specific details and the mappings for tokens in the ORD2CHAR dictionary will depend on your specific use case and the data you are working with."
   ]
  },
  {
   "cell_type": "code",
   "execution_count": 55,
   "id": "2719197f",
   "metadata": {
    "execution": {
     "iopub.execute_input": "2023-08-27T18:32:42.137404Z",
     "iopub.status.busy": "2023-08-27T18:32:42.137096Z",
     "iopub.status.idle": "2023-08-27T18:32:42.145520Z",
     "shell.execute_reply": "2023-08-27T18:32:42.144473Z"
    },
    "papermill": {
     "duration": 0.061264,
     "end_time": "2023-08-27T18:32:42.147648",
     "exception": false,
     "start_time": "2023-08-27T18:32:42.086384",
     "status": "completed"
    },
    "tags": []
   },
   "outputs": [],
   "source": [
    "@tf.function(jit_compile=True)\n",
    "def predict_phrase(frames):\n",
    "    # Add Batch Dimension\n",
    "    frames = tf.expand_dims(frames, axis=0)\n",
    "    # Start Phrase\n",
    "    phrase = tf.fill([1,MAX_PHRASE_LENGTH], PAD_TOKEN)\n",
    "\n",
    "    for idx in tf.range(MAX_PHRASE_LENGTH):\n",
    "        # Cast phrase to int8\n",
    "        phrase = tf.cast(phrase, tf.int8)\n",
    "        # Predict Next Token\n",
    "        outputs = model({\n",
    "            'frames': frames,\n",
    "            'phrase': phrase,\n",
    "        })\n",
    "\n",
    "        # Add predicted token to input phrase\n",
    "        phrase = tf.cast(phrase, tf.int32)\n",
    "        phrase = tf.where(\n",
    "            tf.range(MAX_PHRASE_LENGTH) < idx + 1,\n",
    "            tf.argmax(outputs, axis=2, output_type=tf.int32),\n",
    "            phrase,\n",
    "        )\n",
    "\n",
    "    # Squeeze outputs\n",
    "    outputs = tf.squeeze(phrase, axis=0)\n",
    "    outputs = tf.one_hot(outputs, N_UNIQUE_CHARACTERS)\n",
    "\n",
    "    # Return a dictionary with the output tensor\n",
    "    return outputs\n",
    "\n",
    "    # Return a dictionary with the output tensor\n",
    "    return outputs"
   ]
  },
  {
   "cell_type": "markdown",
   "id": "94f5ddec",
   "metadata": {
    "papermill": {
     "duration": 0.048992,
     "end_time": "2023-08-27T18:32:42.245121",
     "exception": false,
     "start_time": "2023-08-27T18:32:42.196129",
     "status": "completed"
    },
    "tags": []
   },
   "source": [
    "# Levenstein Distance Train"
   ]
  },
  {
   "cell_type": "markdown",
   "id": "4a526810",
   "metadata": {
    "papermill": {
     "duration": 0.049582,
     "end_time": "2023-08-27T18:32:42.343854",
     "exception": false,
     "start_time": "2023-08-27T18:32:42.294272",
     "status": "completed"
    },
    "tags": []
   },
   "source": [
    "We define a function called get_ld_train that is used to calculate the Levenshtein distance between the real phrases and the phrases predicted by the model on the training set.\n",
    "\n",
    "The function takes as input the training data X_train and the real labels y_train, which contain sequences of frames and phrases represented by integer indices, respectively.\n",
    "\n",
    "We create an empty list called LD_TRAIN that will be used to store the Levenshtein distances for each pair of real and predicted phrases.\n",
    "\n",
    "Then, the function iterates through the training data using a for loop. For each pair of frames and phrase, it does the following:\n",
    "\n",
    "It uses the predict_phrase function to predict the phrase from the input frames. The predict_phrase function takes the frames as input and returns the predicted sequence of characters in \"one-hot\" format. It then uses the outputs2phrase function to convert the predicted sequence of characters into a readable string.\n",
    "\n",
    "It converts the real phrase from integer indices to a readable string using the outputs2phrase function.\n",
    "\n",
    "It calculates the Levenshtein distance between the real phrase and the predicted phrase using the levenshtein function. The Levenshtein distance is a measure of the difference between two strings, which is calculated by counting the minimum number of operations (insertions, deletions, or substitutions of characters) required to transform one string into the other.\n",
    "\n",
    "It appends the real phrase, the predicted phrase, and the Levenshtein distance to the LD_TRAIN list.\n",
    "\n",
    "After completing the loop, the function converts the LD_TRAIN list into a pandas DataFrame named LD_TRAIN_DF and returns it as the result."
   ]
  },
  {
   "cell_type": "code",
   "execution_count": 56,
   "id": "bb9fcb60",
   "metadata": {
    "execution": {
     "iopub.execute_input": "2023-08-27T18:32:42.444656Z",
     "iopub.status.busy": "2023-08-27T18:32:42.443650Z",
     "iopub.status.idle": "2023-08-27T18:32:42.451859Z",
     "shell.execute_reply": "2023-08-27T18:32:42.450861Z"
    },
    "papermill": {
     "duration": 0.060732,
     "end_time": "2023-08-27T18:32:42.453938",
     "exception": false,
     "start_time": "2023-08-27T18:32:42.393206",
     "status": "completed"
    },
    "tags": []
   },
   "outputs": [],
   "source": [
    "# Compute Levenstein Distances\n",
    "def get_ld_train():\n",
    "    N = 100 if IS_INTERACTIVE else 1000\n",
    "    LD_TRAIN = []\n",
    "    for idx, (frames, phrase_true) in enumerate(zip(tqdm(X_train, total=N), y_train)):\n",
    "        # Predict Phrase and Convert to String\n",
    "        phrase_pred = predict_phrase(frames).numpy()\n",
    "        phrase_pred = outputs2phrase(phrase_pred)\n",
    "        # True Phrase Ordinal to String\n",
    "        phrase_true = outputs2phrase(phrase_true)\n",
    "        # Add Levenstein Distance\n",
    "        LD_TRAIN.append({\n",
    "            'phrase_true': phrase_true,\n",
    "            'phrase_true_len': len(phrase_true),\n",
    "            'phrase_pred': phrase_pred,\n",
    "            'levenshtein_distance': levenshtein(phrase_pred, phrase_true),\n",
    "        })\n",
    "        # Take subset in interactive mode\n",
    "        if idx == N:\n",
    "            break\n",
    "            \n",
    "    # Convert to DataFrame\n",
    "    LD_TRAIN_DF = pd.DataFrame(LD_TRAIN)\n",
    "    \n",
    "    return LD_TRAIN_DF"
   ]
  },
  {
   "cell_type": "code",
   "execution_count": 57,
   "id": "d0bf0a74",
   "metadata": {
    "execution": {
     "iopub.execute_input": "2023-08-27T18:32:42.555028Z",
     "iopub.status.busy": "2023-08-27T18:32:42.553353Z",
     "iopub.status.idle": "2023-08-27T18:33:18.733562Z",
     "shell.execute_reply": "2023-08-27T18:33:18.732724Z"
    },
    "papermill": {
     "duration": 36.232952,
     "end_time": "2023-08-27T18:33:18.736051",
     "exception": false,
     "start_time": "2023-08-27T18:32:42.503099",
     "status": "completed"
    },
    "tags": []
   },
   "outputs": [
    {
     "data": {
      "application/vnd.jupyter.widget-view+json": {
       "model_id": "bfbf7b5f54f542ee97ddfb08c4e797c8",
       "version_major": 2,
       "version_minor": 0
      },
      "text/plain": [
       "  0%|          | 0/1000 [00:00<?, ?it/s]"
      ]
     },
     "metadata": {},
     "output_type": "display_data"
    },
    {
     "data": {
      "text/html": [
       "<div>\n",
       "<style scoped>\n",
       "    .dataframe tbody tr th:only-of-type {\n",
       "        vertical-align: middle;\n",
       "    }\n",
       "\n",
       "    .dataframe tbody tr th {\n",
       "        vertical-align: top;\n",
       "    }\n",
       "\n",
       "    .dataframe thead th {\n",
       "        text-align: right;\n",
       "    }\n",
       "</style>\n",
       "<table border=\"1\" class=\"dataframe\">\n",
       "  <thead>\n",
       "    <tr style=\"text-align: right;\">\n",
       "      <th></th>\n",
       "      <th>phrase_true</th>\n",
       "      <th>phrase_true_len</th>\n",
       "      <th>phrase_pred</th>\n",
       "      <th>levenshtein_distance</th>\n",
       "    </tr>\n",
       "  </thead>\n",
       "  <tbody>\n",
       "    <tr>\n",
       "      <th>0</th>\n",
       "      <td>3 creekhouse</td>\n",
       "      <td>12</td>\n",
       "      <td>3 creek house</td>\n",
       "      <td>1</td>\n",
       "    </tr>\n",
       "    <tr>\n",
       "      <th>1</th>\n",
       "      <td>scales/kuhaylah</td>\n",
       "      <td>15</td>\n",
       "      <td>scales/kuhaylaaa</td>\n",
       "      <td>2</td>\n",
       "    </tr>\n",
       "    <tr>\n",
       "      <th>2</th>\n",
       "      <td>hentaihubs.com</td>\n",
       "      <td>14</td>\n",
       "      <td>hentaihubs.com</td>\n",
       "      <td>0</td>\n",
       "    </tr>\n",
       "    <tr>\n",
       "      <th>3</th>\n",
       "      <td>1383 william lanier</td>\n",
       "      <td>19</td>\n",
       "      <td>1383 william lanier</td>\n",
       "      <td>0</td>\n",
       "    </tr>\n",
       "    <tr>\n",
       "      <th>4</th>\n",
       "      <td>988 franklin lane</td>\n",
       "      <td>17</td>\n",
       "      <td>988 franklin laneet</td>\n",
       "      <td>2</td>\n",
       "    </tr>\n",
       "    <tr>\n",
       "      <th>5</th>\n",
       "      <td>6920 northeast 661st road</td>\n",
       "      <td>25</td>\n",
       "      <td>6920 northeast 661st road</td>\n",
       "      <td>0</td>\n",
       "    </tr>\n",
       "    <tr>\n",
       "      <th>6</th>\n",
       "      <td>www.freem.ne.jp</td>\n",
       "      <td>15</td>\n",
       "      <td>www.freem.me.jp</td>\n",
       "      <td>1</td>\n",
       "    </tr>\n",
       "    <tr>\n",
       "      <th>7</th>\n",
       "      <td>https://jsi.is/hukuoka</td>\n",
       "      <td>22</td>\n",
       "      <td>https://jsi.is/htkuokaau</td>\n",
       "      <td>3</td>\n",
       "    </tr>\n",
       "    <tr>\n",
       "      <th>8</th>\n",
       "      <td>239613 stolze street</td>\n",
       "      <td>20</td>\n",
       "      <td>239613 stolze street</td>\n",
       "      <td>0</td>\n",
       "    </tr>\n",
       "    <tr>\n",
       "      <th>9</th>\n",
       "      <td>242-197-6202</td>\n",
       "      <td>12</td>\n",
       "      <td>211-764-7602</td>\n",
       "      <td>7</td>\n",
       "    </tr>\n",
       "    <tr>\n",
       "      <th>10</th>\n",
       "      <td>271097 bayshore boulevard</td>\n",
       "      <td>25</td>\n",
       "      <td>271097 bayhore boulevard</td>\n",
       "      <td>1</td>\n",
       "    </tr>\n",
       "    <tr>\n",
       "      <th>11</th>\n",
       "      <td>federico pearson</td>\n",
       "      <td>16</td>\n",
       "      <td>federico pearson</td>\n",
       "      <td>0</td>\n",
       "    </tr>\n",
       "    <tr>\n",
       "      <th>12</th>\n",
       "      <td>/carpina/hope_&amp;_faith/litle</td>\n",
       "      <td>27</td>\n",
       "      <td>/carpina/hope_fith/litlele</td>\n",
       "      <td>5</td>\n",
       "    </tr>\n",
       "    <tr>\n",
       "      <th>13</th>\n",
       "      <td>dine-in/code/</td>\n",
       "      <td>13</td>\n",
       "      <td>dine-in/code/code/</td>\n",
       "      <td>5</td>\n",
       "    </tr>\n",
       "    <tr>\n",
       "      <th>14</th>\n",
       "      <td>+264-97-568-217-145</td>\n",
       "      <td>19</td>\n",
       "      <td>+264-97-548-27455</td>\n",
       "      <td>5</td>\n",
       "    </tr>\n",
       "    <tr>\n",
       "      <th>15</th>\n",
       "      <td>+51-2721-208-63</td>\n",
       "      <td>15</td>\n",
       "      <td>+51-271-208-633</td>\n",
       "      <td>2</td>\n",
       "    </tr>\n",
       "    <tr>\n",
       "      <th>16</th>\n",
       "      <td>wildberries_ru</td>\n",
       "      <td>14</td>\n",
       "      <td>wilders-parkes-park4</td>\n",
       "      <td>11</td>\n",
       "    </tr>\n",
       "    <tr>\n",
       "      <th>17</th>\n",
       "      <td>leona owens</td>\n",
       "      <td>11</td>\n",
       "      <td>leona owens</td>\n",
       "      <td>0</td>\n",
       "    </tr>\n",
       "    <tr>\n",
       "      <th>18</th>\n",
       "      <td>+220-557-859-04</td>\n",
       "      <td>15</td>\n",
       "      <td>+220-557-859-044</td>\n",
       "      <td>1</td>\n",
       "    </tr>\n",
       "    <tr>\n",
       "      <th>19</th>\n",
       "      <td>kati castro</td>\n",
       "      <td>11</td>\n",
       "      <td>kati castroo</td>\n",
       "      <td>1</td>\n",
       "    </tr>\n",
       "    <tr>\n",
       "      <th>20</th>\n",
       "      <td>5566 hellertown road</td>\n",
       "      <td>20</td>\n",
       "      <td>516 stown creek road</td>\n",
       "      <td>13</td>\n",
       "    </tr>\n",
       "    <tr>\n",
       "      <th>21</th>\n",
       "      <td>6867 granville drive</td>\n",
       "      <td>20</td>\n",
       "      <td>6867 granville drivee</td>\n",
       "      <td>1</td>\n",
       "    </tr>\n",
       "    <tr>\n",
       "      <th>22</th>\n",
       "      <td>1600 fire water</td>\n",
       "      <td>15</td>\n",
       "      <td>1600 circle waterd</td>\n",
       "      <td>4</td>\n",
       "    </tr>\n",
       "    <tr>\n",
       "      <th>23</th>\n",
       "      <td>+45-39-007-1887</td>\n",
       "      <td>15</td>\n",
       "      <td>+45-39-007-188787</td>\n",
       "      <td>2</td>\n",
       "    </tr>\n",
       "    <tr>\n",
       "      <th>24</th>\n",
       "      <td>65634/tennessee%20river</td>\n",
       "      <td>23</td>\n",
       "      <td>65634/tennese 20 drive</td>\n",
       "      <td>6</td>\n",
       "    </tr>\n",
       "    <tr>\n",
       "      <th>25</th>\n",
       "      <td>596-033-4046</td>\n",
       "      <td>12</td>\n",
       "      <td>555-004-4448</td>\n",
       "      <td>6</td>\n",
       "    </tr>\n",
       "    <tr>\n",
       "      <th>26</th>\n",
       "      <td>18 cutter ridge road</td>\n",
       "      <td>20</td>\n",
       "      <td>18 cutter ridge road</td>\n",
       "      <td>0</td>\n",
       "    </tr>\n",
       "    <tr>\n",
       "      <th>27</th>\n",
       "      <td>tampa fl</td>\n",
       "      <td>8</td>\n",
       "      <td>tampa fl</td>\n",
       "      <td>0</td>\n",
       "    </tr>\n",
       "    <tr>\n",
       "      <th>28</th>\n",
       "      <td>492288 west 28th terrace south</td>\n",
       "      <td>30</td>\n",
       "      <td>492288 west 28th terrace south</td>\n",
       "      <td>0</td>\n",
       "    </tr>\n",
       "    <tr>\n",
       "      <th>29</th>\n",
       "      <td>166 water power</td>\n",
       "      <td>15</td>\n",
       "      <td>666 sw 15th stet</td>\n",
       "      <td>11</td>\n",
       "    </tr>\n",
       "  </tbody>\n",
       "</table>\n",
       "</div>"
      ],
      "text/plain": [
       "                       phrase_true  phrase_true_len  \\\n",
       "0                     3 creekhouse               12   \n",
       "1                  scales/kuhaylah               15   \n",
       "2                   hentaihubs.com               14   \n",
       "3              1383 william lanier               19   \n",
       "4                988 franklin lane               17   \n",
       "5        6920 northeast 661st road               25   \n",
       "6                  www.freem.ne.jp               15   \n",
       "7           https://jsi.is/hukuoka               22   \n",
       "8             239613 stolze street               20   \n",
       "9                     242-197-6202               12   \n",
       "10       271097 bayshore boulevard               25   \n",
       "11                federico pearson               16   \n",
       "12     /carpina/hope_&_faith/litle               27   \n",
       "13                   dine-in/code/               13   \n",
       "14             +264-97-568-217-145               19   \n",
       "15                 +51-2721-208-63               15   \n",
       "16                  wildberries_ru               14   \n",
       "17                     leona owens               11   \n",
       "18                 +220-557-859-04               15   \n",
       "19                     kati castro               11   \n",
       "20            5566 hellertown road               20   \n",
       "21            6867 granville drive               20   \n",
       "22                 1600 fire water               15   \n",
       "23                 +45-39-007-1887               15   \n",
       "24         65634/tennessee%20river               23   \n",
       "25                    596-033-4046               12   \n",
       "26            18 cutter ridge road               20   \n",
       "27                        tampa fl                8   \n",
       "28  492288 west 28th terrace south               30   \n",
       "29                 166 water power               15   \n",
       "\n",
       "                       phrase_pred  levenshtein_distance  \n",
       "0                    3 creek house                     1  \n",
       "1                 scales/kuhaylaaa                     2  \n",
       "2                   hentaihubs.com                     0  \n",
       "3              1383 william lanier                     0  \n",
       "4              988 franklin laneet                     2  \n",
       "5        6920 northeast 661st road                     0  \n",
       "6                  www.freem.me.jp                     1  \n",
       "7         https://jsi.is/htkuokaau                     3  \n",
       "8             239613 stolze street                     0  \n",
       "9                     211-764-7602                     7  \n",
       "10        271097 bayhore boulevard                     1  \n",
       "11                federico pearson                     0  \n",
       "12      /carpina/hope_fith/litlele                     5  \n",
       "13              dine-in/code/code/                     5  \n",
       "14               +264-97-548-27455                     5  \n",
       "15                 +51-271-208-633                     2  \n",
       "16            wilders-parkes-park4                    11  \n",
       "17                     leona owens                     0  \n",
       "18                +220-557-859-044                     1  \n",
       "19                    kati castroo                     1  \n",
       "20            516 stown creek road                    13  \n",
       "21           6867 granville drivee                     1  \n",
       "22              1600 circle waterd                     4  \n",
       "23               +45-39-007-188787                     2  \n",
       "24          65634/tennese 20 drive                     6  \n",
       "25                    555-004-4448                     6  \n",
       "26            18 cutter ridge road                     0  \n",
       "27                        tampa fl                     0  \n",
       "28  492288 west 28th terrace south                     0  \n",
       "29                666 sw 15th stet                    11  "
      ]
     },
     "metadata": {},
     "output_type": "display_data"
    }
   ],
   "source": [
    "LD_TRAIN_DF = get_ld_train()\n",
    "\n",
    "# Display Errors\n",
    "display(LD_TRAIN_DF.head(30))"
   ]
  },
  {
   "cell_type": "code",
   "execution_count": 58,
   "id": "f4514bb3",
   "metadata": {
    "execution": {
     "iopub.execute_input": "2023-08-27T18:33:18.859045Z",
     "iopub.status.busy": "2023-08-27T18:33:18.858661Z",
     "iopub.status.idle": "2023-08-27T18:33:19.525626Z",
     "shell.execute_reply": "2023-08-27T18:33:19.524684Z"
    },
    "papermill": {
     "duration": 0.722776,
     "end_time": "2023-08-27T18:33:19.527896",
     "exception": false,
     "start_time": "2023-08-27T18:33:18.805120",
     "status": "completed"
    },
    "tags": []
   },
   "outputs": [
    {
     "data": {
      "image/png": "[encoded data removed]",
      "text/plain": [
       "<Figure size 1500x800 with 1 Axes>"
      ]
     },
     "metadata": {},
     "output_type": "display_data"
    }
   ],
   "source": [
    "# Value Counts\n",
    "LD_TRAIN_VC = dict([(i, 0) for i in range(LD_TRAIN_DF['levenshtein_distance'].max()+1)])\n",
    "for ld in LD_TRAIN_DF['levenshtein_distance']:\n",
    "    LD_TRAIN_VC[ld] += 1\n",
    "\n",
    "# Evaluation Metric\n",
    "N = LD_TRAIN_DF['phrase_true_len'].sum()\n",
    "D = LD_TRAIN_DF['levenshtein_distance'].sum()\n",
    "nld = (N - D) / N\n",
    "\n",
    "LD_TRAIN_VC = dict([(i, 0) for i in range(LD_TRAIN_DF['levenshtein_distance'].max()+1)])\n",
    "for ld in LD_TRAIN_DF['levenshtein_distance']:\n",
    "    LD_TRAIN_VC[ld] += 1\n",
    "\n",
    "plt.figure(figsize=(15,8))\n",
    "pd.Series(LD_TRAIN_VC).plot(kind='bar', width=1)\n",
    "plt.title(f'Train Levenstein Distance Distribution | Mean: {LD_TRAIN_DF.levenshtein_distance.mean():.4f}, NLD: {nld:.3f}')\n",
    "plt.xlabel('Levenstein Distance')\n",
    "plt.ylabel('Sample Count')\n",
    "plt.xlim(-0.50, LD_TRAIN_DF.levenshtein_distance.max()+0.50)\n",
    "plt.grid(axis='y')\n",
    "plt.savefig('temp.png')\n",
    "plt.show()"
   ]
  },
  {
   "cell_type": "markdown",
   "id": "c1474f14",
   "metadata": {
    "papermill": {
     "duration": 0.0501,
     "end_time": "2023-08-27T18:33:19.628476",
     "exception": false,
     "start_time": "2023-08-27T18:33:19.578376",
     "status": "completed"
    },
    "tags": []
   },
   "source": [
    "# Levenstein Distance Evaluation"
   ]
  },
  {
   "cell_type": "code",
   "execution_count": 59,
   "id": "3a08be44",
   "metadata": {
    "execution": {
     "iopub.execute_input": "2023-08-27T18:33:19.745029Z",
     "iopub.status.busy": "2023-08-27T18:33:19.743776Z",
     "iopub.status.idle": "2023-08-27T18:33:19.752972Z",
     "shell.execute_reply": "2023-08-27T18:33:19.751788Z"
    },
    "papermill": {
     "duration": 0.072392,
     "end_time": "2023-08-27T18:33:19.755248",
     "exception": false,
     "start_time": "2023-08-27T18:33:19.682856",
     "status": "completed"
    },
    "tags": []
   },
   "outputs": [],
   "source": [
    "# Compute Levenstein Distances\n",
    "def get_ld_val():\n",
    "    N = 100 if IS_INTERACTIVE else 1000\n",
    "    LD_VAL = []\n",
    "    for idx, (frames, phrase_true) in enumerate(zip(tqdm(X_val, total=N), y_val)):\n",
    "        # Predict Phrase and Convert to String\n",
    "        phrase_pred = predict_phrase(frames).numpy()\n",
    "        phrase_pred = outputs2phrase(phrase_pred)\n",
    "        # True Phrase Ordinal to String\n",
    "        phrase_true = outputs2phrase(phrase_true)\n",
    "        # Add Levenstein Distance\n",
    "        LD_VAL.append({\n",
    "            'phrase_true': phrase_true,\n",
    "            'phrase_true_len': len(phrase_true),\n",
    "            'phrase_pred': phrase_pred,\n",
    "            'levenshtein_distance': levenshtein(phrase_pred, phrase_true),\n",
    "        })\n",
    "        # Take subset in interactive mode\n",
    "        if idx == N:\n",
    "            break\n",
    "            \n",
    "    # Convert to DataFrame\n",
    "    LD_VAL_DF = pd.DataFrame(LD_VAL)\n",
    "    \n",
    "    return LD_VAL_DF"
   ]
  },
  {
   "cell_type": "code",
   "execution_count": 60,
   "id": "c7d507ab",
   "metadata": {
    "execution": {
     "iopub.execute_input": "2023-08-27T18:33:19.875001Z",
     "iopub.status.busy": "2023-08-27T18:33:19.874610Z",
     "iopub.status.idle": "2023-08-27T18:33:19.879613Z",
     "shell.execute_reply": "2023-08-27T18:33:19.878497Z"
    },
    "papermill": {
     "duration": 0.067719,
     "end_time": "2023-08-27T18:33:19.881626",
     "exception": false,
     "start_time": "2023-08-27T18:33:19.813907",
     "status": "completed"
    },
    "tags": []
   },
   "outputs": [],
   "source": [
    "if USE_VAL:\n",
    "    LD_VAL_DF = get_ld_val()\n",
    "\n",
    "    # Display Errors\n",
    "    display(LD_VAL_DF.head(30))"
   ]
  },
  {
   "cell_type": "code",
   "execution_count": 61,
   "id": "ecc2115d",
   "metadata": {
    "execution": {
     "iopub.execute_input": "2023-08-27T18:33:19.984384Z",
     "iopub.status.busy": "2023-08-27T18:33:19.984058Z",
     "iopub.status.idle": "2023-08-27T18:33:19.994614Z",
     "shell.execute_reply": "2023-08-27T18:33:19.993610Z"
    },
    "papermill": {
     "duration": 0.064746,
     "end_time": "2023-08-27T18:33:19.996728",
     "exception": false,
     "start_time": "2023-08-27T18:33:19.931982",
     "status": "completed"
    },
    "tags": []
   },
   "outputs": [],
   "source": [
    "# Value Counts\n",
    "if USE_VAL:\n",
    "    # Evaluation Metric\n",
    "    N = LD_VAL_DF['phrase_true_len'].sum()\n",
    "    D = LD_VAL_DF['levenshtein_distance'].sum()\n",
    "    nld = (N - D) / N\n",
    "    \n",
    "    LD_VAL_VC = dict([(i, 0) for i in range(LD_VAL_DF['levenshtein_distance'].max()+1)])\n",
    "    for ld in LD_VAL_DF['levenshtein_distance']:\n",
    "        LD_VAL_VC[ld] += 1\n",
    "\n",
    "    plt.figure(figsize=(15,8))\n",
    "    pd.Series(LD_VAL_VC).plot(kind='bar', width=1)\n",
    "    plt.title(f'Validation Levenstein Distance Distribution | Mean: {LD_VAL_DF.levenshtein_distance.mean():.4f}, NLD: {nld:.3f}')\n",
    "    plt.xlabel('Levenstein Distance')\n",
    "    plt.ylabel('Sample Count')\n",
    "    plt.xlim(-0.50, LD_VAL_DF.levenshtein_distance.max()+0.50)\n",
    "    plt.grid(axis='y')\n",
    "    plt.savefig('temp.png')\n",
    "    plt.show()"
   ]
  },
  {
   "cell_type": "markdown",
   "id": "d66fc121",
   "metadata": {
    "papermill": {
     "duration": 0.055802,
     "end_time": "2023-08-27T18:33:20.111333",
     "exception": false,
     "start_time": "2023-08-27T18:33:20.055531",
     "status": "completed"
    },
    "tags": []
   },
   "source": [
    "# Training History"
   ]
  },
  {
   "cell_type": "markdown",
   "id": "b1bfd1b1",
   "metadata": {
    "papermill": {
     "duration": 0.057939,
     "end_time": "2023-08-27T18:33:20.219890",
     "exception": false,
     "start_time": "2023-08-27T18:33:20.161951",
     "status": "completed"
    },
    "tags": []
   },
   "source": [
    "Once the model is trained and predictions are created for our data, a function called plot_history_metric is defined to plot the evolution of different metrics used in the training.\n",
    "\n",
    "Let's go step by step to understand what each part of the code does:\n",
    "\n",
    "if not TRAIN_MODEL: return: This line checks if the variable TRAIN_MODEL is True or False. If it is False, the function will not take any action and will stop here with return.\n",
    "\n",
    "values = history.history[metric]: It retrieves the values of the specified metric (metric) from the training history of the model, which is stored in the history.history dictionary.\n",
    "\n",
    "N_EPOCHS = len(values): It obtains the total number of training epochs by counting the length of the metric values.\n",
    "\n",
    "val = 'val' in ''.join(history.history.keys()): It checks if the word 'val' is present in the keys of the model's history (if we used validation). If so, it sets val=True, otherwise, it sets it to False.\n",
    "\n",
    "if N_EPOCHS <= 20: x = np.arange(1, N_EPOCHS + 1): If the number of epochs is less than or equal to 20, it creates an arange x with values ranging from 1 to the total number of epochs.\n",
    "\n",
    "else: x = [1, 5] + [10 + 5 * idx for idx in range((N_EPOCHS - 10) // 5 + 1)]: If the number of epochs is greater than 20, it creates a list x with specific values spaced to clearly show the evolution of the metric in the graph.\n",
    "\n",
    "x_ticks = np.arange(1, N_EPOCHS+1): Another arange x_ticks is created, containing values from 1 to the total number of epochs. This is used to define the x-axis labels in the graph.\n",
    "\n",
    "If val=True:\n",
    "\n",
    "val_values = history.history[f'val_{metric}']: It retrieves the values of the specific validation metric (val_{metric}) from the model's history.\n",
    "\n",
    "val_argmin = f_best(val_values): It finds the index of the validation metric that has the best value, using the function f_best specified as an argument (default is np.argmax, which finds the index with the maximum value). \n",
    "\n",
    "plt.plot(x_ticks, val_values, label=f'val'): It plots the evolution of the validation metric on the graph with the label 'val'.\n",
    "In case of val=False:\n",
    "\n",
    "plt.plot(x_ticks, values, label=f'train'): It plots the evolution of the training metric on the graph with the label 'train'.\n",
    "\n",
    "argmin = f_best(values): It finds the index of the training metric that has the best value, using the function f_best specified as an argument (default is np.argmax, which finds the index with the maximum value).\n",
    "\n",
    "plt.scatter(argmin + 1, values[argmin], color='red', s=75, marker='o', label=f'train_best'): It adds a red point on the graph indicating the best training metric and its corresponding value.\n",
    "\n",
    "If there are validation metrics (val):\n",
    "\n",
    "plt.scatter(val_argmin + 1, val_values[val_argmin], color='purple', s=75, marker='o', label=f'val_best'): If there are validation metrics, it adds a purple point on the graph indicating the best validation metric and its corresponding value."
   ]
  },
  {
   "cell_type": "code",
   "execution_count": 62,
   "id": "a3992542",
   "metadata": {
    "execution": {
     "iopub.execute_input": "2023-08-27T18:33:20.328992Z",
     "iopub.status.busy": "2023-08-27T18:33:20.328612Z",
     "iopub.status.idle": "2023-08-27T18:33:20.341840Z",
     "shell.execute_reply": "2023-08-27T18:33:20.340700Z"
    },
    "papermill": {
     "duration": 0.067425,
     "end_time": "2023-08-27T18:33:20.344195",
     "exception": false,
     "start_time": "2023-08-27T18:33:20.276770",
     "status": "completed"
    },
    "tags": []
   },
   "outputs": [],
   "source": [
    "def plot_history_metric(metric, f_best=np.argmax, ylim=None, yscale=None, yticks=None):\n",
    "    # Only plot when training\n",
    "    if not TRAIN_MODEL:\n",
    "        return\n",
    "    \n",
    "    plt.figure(figsize=(20, 10))\n",
    "    \n",
    "    values = history.history[metric]\n",
    "    N_EPOCHS = len(values)\n",
    "    val = 'val' in ''.join(history.history.keys())\n",
    "    # Epoch Ticks\n",
    "    if N_EPOCHS <= 20:\n",
    "        x = np.arange(1, N_EPOCHS + 1)\n",
    "    else:\n",
    "        x = [1, 5] + [10 + 5 * idx for idx in range((N_EPOCHS - 10) // 5 + 1)]\n",
    "\n",
    "    x_ticks = np.arange(1, N_EPOCHS+1)\n",
    "\n",
    "    # Validation\n",
    "    if val:\n",
    "        val_values = history.history[f'val_{metric}']\n",
    "        val_argmin = f_best(val_values)\n",
    "        plt.plot(x_ticks, val_values, label=f'val')\n",
    "\n",
    "    # summarize history for accuracy\n",
    "    plt.plot(x_ticks, values, label=f'train')\n",
    "    argmin = f_best(values)\n",
    "    plt.scatter(argmin + 1, values[argmin], color='red', s=75, marker='o', label=f'train_best')\n",
    "    if val:\n",
    "        plt.scatter(val_argmin + 1, val_values[val_argmin], color='purple', s=75, marker='o', label=f'val_best')\n",
    "\n",
    "    plt.title(f'Model {metric}', fontsize=24, pad=10)\n",
    "    plt.ylabel(metric, fontsize=20, labelpad=10)\n",
    "\n",
    "    if ylim:\n",
    "        plt.ylim(ylim)\n",
    "\n",
    "    if yscale is not None:\n",
    "        plt.yscale(yscale)\n",
    "        \n",
    "    if yticks is not None:\n",
    "        plt.yticks(yticks, fontsize=16)\n",
    "\n",
    "    plt.xlabel('epoch', fontsize=20, labelpad=10)        \n",
    "    plt.tick_params(axis='x', labelsize=8)\n",
    "    plt.xticks(x, fontsize=16) # set tick step to 1 and let x axis start at 1\n",
    "    plt.yticks(fontsize=16)\n",
    "    \n",
    "    plt.legend(prop={'size': 10})\n",
    "    plt.grid()\n",
    "    plt.show()"
   ]
  },
  {
   "cell_type": "code",
   "execution_count": 63,
   "id": "047af074",
   "metadata": {
    "execution": {
     "iopub.execute_input": "2023-08-27T18:33:20.490705Z",
     "iopub.status.busy": "2023-08-27T18:33:20.490357Z",
     "iopub.status.idle": "2023-08-27T18:33:20.495077Z",
     "shell.execute_reply": "2023-08-27T18:33:20.494059Z"
    },
    "papermill": {
     "duration": 0.05834,
     "end_time": "2023-08-27T18:33:20.497154",
     "exception": false,
     "start_time": "2023-08-27T18:33:20.438814",
     "status": "completed"
    },
    "tags": []
   },
   "outputs": [],
   "source": [
    "plot_history_metric('loss', f_best=np.argmin)"
   ]
  },
  {
   "cell_type": "code",
   "execution_count": 64,
   "id": "63ef2d1b",
   "metadata": {
    "execution": {
     "iopub.execute_input": "2023-08-27T18:33:20.598519Z",
     "iopub.status.busy": "2023-08-27T18:33:20.598235Z",
     "iopub.status.idle": "2023-08-27T18:33:20.604282Z",
     "shell.execute_reply": "2023-08-27T18:33:20.603418Z"
    },
    "papermill": {
     "duration": 0.059344,
     "end_time": "2023-08-27T18:33:20.606287",
     "exception": false,
     "start_time": "2023-08-27T18:33:20.546943",
     "status": "completed"
    },
    "tags": []
   },
   "outputs": [],
   "source": [
    "plot_history_metric('top1acc', ylim=[0,1], yticks=np.arange(0.0, 1.1, 0.1))"
   ]
  },
  {
   "cell_type": "code",
   "execution_count": 65,
   "id": "35518463",
   "metadata": {
    "execution": {
     "iopub.execute_input": "2023-08-27T18:33:20.707536Z",
     "iopub.status.busy": "2023-08-27T18:33:20.707263Z",
     "iopub.status.idle": "2023-08-27T18:33:20.712883Z",
     "shell.execute_reply": "2023-08-27T18:33:20.711093Z"
    },
    "papermill": {
     "duration": 0.058435,
     "end_time": "2023-08-27T18:33:20.714893",
     "exception": false,
     "start_time": "2023-08-27T18:33:20.656458",
     "status": "completed"
    },
    "tags": []
   },
   "outputs": [],
   "source": [
    "plot_history_metric('top5acc', ylim=[0,1], yticks=np.arange(0.0, 1.1, 0.1))"
   ]
  },
  {
   "cell_type": "markdown",
   "id": "e80597d8",
   "metadata": {
    "papermill": {
     "duration": 0.050957,
     "end_time": "2023-08-27T18:33:20.815883",
     "exception": false,
     "start_time": "2023-08-27T18:33:20.764926",
     "status": "completed"
    },
    "tags": []
   },
   "source": [
    "# Inference"
   ]
  },
  {
   "cell_type": "markdown",
   "id": "01aeee8a",
   "metadata": {
    "papermill": {
     "duration": 0.050079,
     "end_time": "2023-08-27T18:33:20.920425",
     "exception": false,
     "start_time": "2023-08-27T18:33:20.870346",
     "status": "completed"
    },
    "tags": []
   },
   "source": [
    "The following code defines the TFLiteModel class, which represents a TensorFlow Lite (TFLite) model constructed from the previously trained model. This is useful when deploying the model on devices with limited resources, such as mobile phones, IoT devices, or embedded systems. TFLite is an optimized version of TensorFlow designed for fast and efficient inference on devices with limited computational capabilities.\n",
    "\n",
    "TFLiteModel(tf.Module): Defines a class named TFLiteModel that inherits from tf.Module, indicating that it is a trainable entity in TensorFlow.\n",
    "\n",
    "def __init__(self, model): The __init__ method is the constructor of the class and is automatically executed when creating an instance of TFLiteModel. It takes the argument model, which is the previously trained model that will be used as the base for the TFLite model.\n",
    "\n",
    "self.preprocess_layer = preprocess_layer: The self.preprocess_layer is assigned the preprocessing layer used to process the input data before passing it to the base model.\n",
    "\n",
    "self.model = model: The self.model is assigned the previously trained model that will be used as the base for the TFLite model.\n",
    "\n",
    "@tf.function(jit_compile=True): The following methods are decorated with @tf.function, indicating that they will be compiled by TensorFlow for faster performance.\n",
    "\n",
    "def encoder(self, x, frames_inp): This method implements the part of the model corresponding to the encoder. Similar to when constructing the model, the encoder takes two arguments; x, which represents the input data, and frames_inp, which is the shape of the data. In this function, embedding and then encoding is performed.\n",
    "\n",
    "def decoder(self, x, phrase_inp): This method implements the part of the model corresponding to the decoder. Similar to when constructing the model, the decoder takes two arguments; x, which represents the output of the encoder, and phrase_inp, which is the shape of the \"phrase\" data.\n",
    "\n",
    "@tf.function(input_signature=[tf.TensorSpec(shape=[None, N_COLS0], dtype=tf.float32, name='inputs')]): The __call__ method is defined as a TensorFlow function that will be used for inference with the TFLite model. The shape and type of the input data are specified using tf.TensorSpec.\n",
    "\n",
    "N_INPUT_FRAMES = tf.shape(inputs)[0]: The number of rows in the input inputs is obtained, representing the number of frames.\n",
    "\n",
    "frames_inp = self.preprocess_layer(inputs): The input data is processed using the preprocessing layer preprocess_layer.\n",
    "\n",
    "frames_inp = tf.expand_dims(frames_inp, axis=0): A batch dimension is added to frames_inp to match the input of the original model.\n",
    "\n",
    "encoding = self.encoder(frames_inp, frames_inp): The encoded representation of the input data is obtained using the encoder method defined earlier.\n",
    "\n",
    "phrase = tf.fill([1,MAX_PHRASE_LENGTH], PAD_TOKEN): Similarly to before, a tensor of shape [1, MAX_PHRASE_LENGTH] filled with the value PAD_TOKEN is created. This tensor represents the output phrase that will be constructed during inference.\n",
    "\n",
    "for idx in tf.range(MAX_PHRASE_LENGTH): It iterates over the range of indices of the maximum length of the phrase (MAX_PHRASE_LENGTH=32).\n",
    "\n",
    "phrase = tf.cast(phrase, tf.int8): The tensor phrase is cast to type int8.\n",
    "\n",
    "outputs = tf.cond(stop, ...): A TensorFlow conditional (tf.cond) is used to determine if the generation of the phrase should stop. If stop=True, which means the end of sentence token (END_TOKEN) was predicted, the tensor phrase converted to one-hot encoding is returned, and the generation of the phrase stops. If stop=False, the next word of the phrase is generated using the decoder method.\n",
    "\n",
    "phrase = tf.where(tf.range(MAX_PHRASE_LENGTH) < idx + 1, ...): The phrase tensor is updated by replacing the padding token (PAD_TOKEN) with the predicted word up to the current index (idx) in the phrase generation.\n",
    "\n",
    "predicted_token = phrase[0,idx]: The predicted token at position idx is obtained.\n",
    "\n",
    "if not stop: stop = predicted_token == END_TOKEN: The stop variable is updated by checking if the predicted token is equal to the end of sentence token (END_TOKEN). If so, stop is set to true, indicating that phrase generation should stop.\n",
    "\n",
    "outputs = tf.squeeze(phrase, axis=0): The added batch dimension is removed to obtain the complete generated phrase.\n",
    "\n",
    "outputs = tf.one_hot(outputs, N_UNIQUE_CHARACTERS): The generated phrase is converted to one-hot encoding.\n",
    "\n",
    "Finally, the __call__ method returns a dictionary with the key 'outputs' containing the generated phrase.\n",
    "\n",
    "After defining the TFLiteModel class, an instance of it named tflite_keras_model is created, and a demonstration of inference is performed using input data demo_raw_data. Inference is done by calling the __call__ method of tflite_keras_model, and the generated phrase, the true phrase, and the input data in tensor format are displayed."
   ]
  },
  {
   "cell_type": "code",
   "execution_count": 66,
   "id": "902de9f2",
   "metadata": {
    "execution": {
     "iopub.execute_input": "2023-08-27T18:33:21.023235Z",
     "iopub.status.busy": "2023-08-27T18:33:21.022899Z",
     "iopub.status.idle": "2023-08-27T18:33:21.028089Z",
     "shell.execute_reply": "2023-08-27T18:33:21.027138Z"
    },
    "papermill": {
     "duration": 0.05997,
     "end_time": "2023-08-27T18:33:21.030541",
     "exception": false,
     "start_time": "2023-08-27T18:33:20.970571",
     "status": "completed"
    },
    "tags": []
   },
   "outputs": [
    {
     "name": "stdout",
     "output_type": "stream",
     "text": [
      "frames\n",
      "masking\n",
      "embedding\n",
      "encoder\n",
      "phrase\n",
      "decoder\n",
      "classifier\n"
     ]
    }
   ],
   "source": [
    "# Model Layer Names\n",
    "for l in model.layers:\n",
    "    print(l.name)"
   ]
  },
  {
   "cell_type": "code",
   "execution_count": 67,
   "id": "74f5e419",
   "metadata": {
    "execution": {
     "iopub.execute_input": "2023-08-27T18:33:21.133448Z",
     "iopub.status.busy": "2023-08-27T18:33:21.133169Z",
     "iopub.status.idle": "2023-08-27T18:33:25.367011Z",
     "shell.execute_reply": "2023-08-27T18:33:25.366052Z"
    },
    "papermill": {
     "duration": 4.288885,
     "end_time": "2023-08-27T18:33:25.369495",
     "exception": false,
     "start_time": "2023-08-27T18:33:21.080610",
     "status": "completed"
    },
    "tags": []
   },
   "outputs": [
    {
     "name": "stdout",
     "output_type": "stream",
     "text": [
      "demo_raw_data shape: (123, 164), dtype: float32\n",
      "demo_output shape: (32, 62), dtype: float32\n",
      "demo_outputs phrase decoded: 3 creek house\n",
      "phrase true: 3 creekhouse\n"
     ]
    }
   ],
   "source": [
    "# TFLite model for submission\n",
    "class TFLiteModel(tf.Module):\n",
    "    def __init__(self, model):\n",
    "        super(TFLiteModel, self).__init__()\n",
    "\n",
    "        # Load the feature generation and main models\n",
    "        self.preprocess_layer = preprocess_layer\n",
    "        self.model = model\n",
    "    \n",
    "    @tf.function(jit_compile=True)\n",
    "    def encoder(self, x, frames_inp):\n",
    "        x = self.model.get_layer('embedding')(x)\n",
    "        x = self.model.get_layer('encoder')(x, frames_inp)\n",
    "        \n",
    "        return x\n",
    "        \n",
    "    @tf.function(jit_compile=True)\n",
    "    def decoder(self, x, phrase_inp, frames_inp):\n",
    "        x = self.model.get_layer('decoder')(x, phrase_inp, frames_inp)\n",
    "        x = self.model.get_layer('classifier')(x)\n",
    "        \n",
    "        return x\n",
    "    \n",
    "    @tf.function(input_signature=[tf.TensorSpec(shape=[None, N_COLS0], dtype=tf.float32, name='inputs')])\n",
    "    def __call__(self, inputs):\n",
    "        # Number Of Input Frames\n",
    "        N_INPUT_FRAMES = tf.shape(inputs)[0]\n",
    "        # Preprocess Data\n",
    "        frames_inp = self.preprocess_layer(inputs)        \n",
    "        # Add Batch Dimension\n",
    "        frames_inp = tf.expand_dims(frames_inp, axis=0)\n",
    "        # Get Encoding\n",
    "        encoding = self.encoder(frames_inp, frames_inp)\n",
    "        # Make Prediction\n",
    "        phrase = tf.fill([1,MAX_PHRASE_LENGTH], PAD_TOKEN)\n",
    "        # Predict One Token At A Time\n",
    "        stop = False\n",
    "        for idx in tf.range(MAX_PHRASE_LENGTH):\n",
    "            # Cast phrase to int8\n",
    "            phrase = tf.cast(phrase, tf.int8)\n",
    "            # If EOS token is predicted, stop predicting\n",
    "            outputs = tf.cond(\n",
    "                stop,\n",
    "                lambda: tf.one_hot(tf.cast(phrase, tf.int32), N_UNIQUE_CHARACTERS),\n",
    "                lambda: self.decoder(encoding, phrase, frames_inp)\n",
    "            )\n",
    "            # Add predicted token to input phrase\n",
    "            phrase = tf.cast(phrase, tf.int32)\n",
    "            # Replcae PAD token with predicted token up to idx\n",
    "            phrase = tf.where(\n",
    "                tf.range(MAX_PHRASE_LENGTH) < idx + 1,\n",
    "                tf.argmax(outputs, axis=2, output_type=tf.int32),\n",
    "                phrase,\n",
    "            )\n",
    "            # Predicted Token\n",
    "            predicted_token = phrase[0,idx]\n",
    "            # If EOS (End Of Sentence) token is predicted stop\n",
    "            if not stop:\n",
    "                stop = predicted_token == EOS_TOKEN\n",
    "            \n",
    "        # Squeeze outputs\n",
    "        outputs = tf.squeeze(phrase, axis=0)\n",
    "        outputs = tf.one_hot(outputs, N_UNIQUE_CHARACTERS)\n",
    "            \n",
    "        # Return a dictionary with the output tensor\n",
    "        return {'outputs': outputs }\n",
    "\n",
    "# Define TF Lite Model\n",
    "tflite_keras_model = TFLiteModel(model)\n",
    "\n",
    "# Sanity Check\n",
    "# demo_sequence_id = 1816796431\n",
    "demo_sequence_id = example_parquet_df.index.unique()[0]\n",
    "demo_raw_data = example_parquet_df.loc[demo_sequence_id, COLUMNS0].values\n",
    "demo_phrase_true = train_sequence_id.loc[demo_sequence_id, 'phrase']\n",
    "print(f'demo_raw_data shape: {demo_raw_data.shape}, dtype: {demo_raw_data.dtype}')\n",
    "demo_output = tflite_keras_model(demo_raw_data)['outputs'].numpy()\n",
    "print(f'demo_output shape: {demo_output.shape}, dtype: {demo_output.dtype}')\n",
    "print(f'demo_outputs phrase decoded: {outputs2phrase(demo_output)}')\n",
    "print(f'phrase true: {demo_phrase_true}')"
   ]
  },
  {
   "cell_type": "code",
   "execution_count": 68,
   "id": "71af373c",
   "metadata": {
    "execution": {
     "iopub.execute_input": "2023-08-27T18:33:25.524161Z",
     "iopub.status.busy": "2023-08-27T18:33:25.523661Z",
     "iopub.status.idle": "2023-08-27T18:34:23.312319Z",
     "shell.execute_reply": "2023-08-27T18:34:23.311245Z"
    },
    "papermill": {
     "duration": 57.867686,
     "end_time": "2023-08-27T18:34:23.314893",
     "exception": false,
     "start_time": "2023-08-27T18:33:25.447207",
     "status": "completed"
    },
    "tags": []
   },
   "outputs": [],
   "source": [
    "# Create Model Converter\n",
    "keras_model_converter = tf.lite.TFLiteConverter.from_keras_model(tflite_keras_model)\n",
    "# Convert Model\n",
    "tflite_model = keras_model_converter.convert()\n",
    "# Write Model\n",
    "with open('/kaggle/working/model.tflite', 'wb') as f:\n",
    "    f.write(tflite_model)"
   ]
  },
  {
   "cell_type": "code",
   "execution_count": 69,
   "id": "4f53a7e3",
   "metadata": {
    "execution": {
     "iopub.execute_input": "2023-08-27T18:34:23.421775Z",
     "iopub.status.busy": "2023-08-27T18:34:23.420048Z",
     "iopub.status.idle": "2023-08-27T18:34:23.426324Z",
     "shell.execute_reply": "2023-08-27T18:34:23.425357Z"
    },
    "papermill": {
     "duration": 0.060081,
     "end_time": "2023-08-27T18:34:23.428153",
     "exception": false,
     "start_time": "2023-08-27T18:34:23.368072",
     "status": "completed"
    },
    "tags": []
   },
   "outputs": [],
   "source": [
    "# Add selected_columns json to only select specific columns from input frames\n",
    "with open('inference_args.json', 'w') as f:\n",
    "     json.dump({ 'selected_columns': COLUMNS0.tolist() }, f)"
   ]
  },
  {
   "cell_type": "code",
   "execution_count": 70,
   "id": "04553847",
   "metadata": {
    "execution": {
     "iopub.execute_input": "2023-08-27T18:34:23.532226Z",
     "iopub.status.busy": "2023-08-27T18:34:23.530681Z",
     "iopub.status.idle": "2023-08-27T18:34:25.666272Z",
     "shell.execute_reply": "2023-08-27T18:34:25.664902Z"
    },
    "papermill": {
     "duration": 2.190007,
     "end_time": "2023-08-27T18:34:25.668685",
     "exception": false,
     "start_time": "2023-08-27T18:34:23.478678",
     "status": "completed"
    },
    "tags": []
   },
   "outputs": [
    {
     "name": "stdout",
     "output_type": "stream",
     "text": [
      "  adding: kaggle/working/model.tflite (deflated 9%)\r\n",
      "  adding: kaggle/working/inference_args.json (deflated 83%)\r\n"
     ]
    }
   ],
   "source": [
    "# Zip Model\n",
    "!zip submission.zip /kaggle/working/model.tflite /kaggle/working/inference_args.json"
   ]
  }
 ],
 "metadata": {
  "kernelspec": {
   "display_name": "Python 3",
   "language": "python",
   "name": "python3"
  },
  "language_info": {
   "codemirror_mode": {
    "name": "ipython",
    "version": 3
   },
   "file_extension": ".py",
   "mimetype": "text/x-python",
   "name": "python",
   "nbconvert_exporter": "python",
   "pygments_lexer": "ipython3",
   "version": "3.10.10"
  },
  "papermill": {
   "default_parameters": {},
   "duration": 378.085317,
   "end_time": "2023-08-27T18:34:29.914927",
   "environment_variables": {},
   "exception": null,
   "input_path": "__notebook__.ipynb",
   "output_path": "__notebook__.ipynb",
   "parameters": {},
   "start_time": "2023-08-27T18:28:11.829610",
   "version": "2.4.0"
  },
  "widgets": {
   "application/vnd.jupyter.widget-state+json": {
    "state": {
     "06ad89a878a34991a806037cdf53596c": {
      "model_module": "@jupyter-widgets/controls",
      "model_module_version": "1.5.0",
      "model_name": "DescriptionStyleModel",
      "state": {
       "_model_module": "@jupyter-widgets/controls",
       "_model_module_version": "1.5.0",
       "_model_name": "DescriptionStyleModel",
       "_view_count": null,
       "_view_module": "@jupyter-widgets/base",
       "_view_module_version": "1.2.0",
       "_view_name": "StyleView",
       "description_width": ""
      }
     },
     "0a590a0ebe584fe588639267ef7acbaf": {
      "model_module": "@jupyter-widgets/controls",
      "model_module_version": "1.5.0",
      "model_name": "DescriptionStyleModel",
      "state": {
       "_model_module": "@jupyter-widgets/controls",
       "_model_module_version": "1.5.0",
       "_model_name": "DescriptionStyleModel",
       "_view_count": null,
       "_view_module": "@jupyter-widgets/base",
       "_view_module_version": "1.2.0",
       "_view_name": "StyleView",
       "description_width": ""
      }
     },
     "1dfc4be26afb4707b250a745c6cf23fd": {
      "model_module": "@jupyter-widgets/base",
      "model_module_version": "1.2.0",
      "model_name": "LayoutModel",
      "state": {
       "_model_module": "@jupyter-widgets/base",
       "_model_module_version": "1.2.0",
       "_model_name": "LayoutModel",
       "_view_count": null,
       "_view_module": "@jupyter-widgets/base",
       "_view_module_version": "1.2.0",
       "_view_name": "LayoutView",
       "align_content": null,
       "align_items": null,
       "align_self": null,
       "border": null,
       "bottom": null,
       "display": null,
       "flex": null,
       "flex_flow": null,
       "grid_area": null,
       "grid_auto_columns": null,
       "grid_auto_flow": null,
       "grid_auto_rows": null,
       "grid_column": null,
       "grid_gap": null,
       "grid_row": null,
       "grid_template_areas": null,
       "grid_template_columns": null,
       "grid_template_rows": null,
       "height": null,
       "justify_content": null,
       "justify_items": null,
       "left": null,
       "margin": null,
       "max_height": null,
       "max_width": null,
       "min_height": null,
       "min_width": null,
       "object_fit": null,
       "object_position": null,
       "order": null,
       "overflow": null,
       "overflow_x": null,
       "overflow_y": null,
       "padding": null,
       "right": null,
       "top": null,
       "visibility": null,
       "width": null
      }
     },
     "34cfb794406f4b4eb84905e118035348": {
      "model_module": "@jupyter-widgets/controls",
      "model_module_version": "1.5.0",
      "model_name": "HTMLModel",
      "state": {
       "_dom_classes": [],
       "_model_module": "@jupyter-widgets/controls",
       "_model_module_version": "1.5.0",
       "_model_name": "HTMLModel",
       "_view_count": null,
       "_view_module": "@jupyter-widgets/controls",
       "_view_module_version": "1.5.0",
       "_view_name": "HTMLView",
       "description": "",
       "description_tooltip": null,
       "layout": "IPY_MODEL_1dfc4be26afb4707b250a745c6cf23fd",
       "placeholder": "​",
       "style": "IPY_MODEL_0a590a0ebe584fe588639267ef7acbaf",
       "value": " 1000/1000 [00:36&lt;00:00, 31.94it/s]"
      }
     },
     "400a6c365b454f4496cf44f590b544a7": {
      "model_module": "@jupyter-widgets/controls",
      "model_module_version": "1.5.0",
      "model_name": "DescriptionStyleModel",
      "state": {
       "_model_module": "@jupyter-widgets/controls",
       "_model_module_version": "1.5.0",
       "_model_name": "DescriptionStyleModel",
       "_view_count": null,
       "_view_module": "@jupyter-widgets/base",
       "_view_module_version": "1.2.0",
       "_view_name": "StyleView",
       "description_width": ""
      }
     },
     "41856f42e0a742b6b7ea17c2baff939c": {
      "model_module": "@jupyter-widgets/controls",
      "model_module_version": "1.5.0",
      "model_name": "ProgressStyleModel",
      "state": {
       "_model_module": "@jupyter-widgets/controls",
       "_model_module_version": "1.5.0",
       "_model_name": "ProgressStyleModel",
       "_view_count": null,
       "_view_module": "@jupyter-widgets/base",
       "_view_module_version": "1.2.0",
       "_view_name": "StyleView",
       "bar_color": null,
       "description_width": ""
      }
     },
     "497c7a61fddd4d3fb57a57fcaf9d1b3a": {
      "model_module": "@jupyter-widgets/controls",
      "model_module_version": "1.5.0",
      "model_name": "HTMLModel",
      "state": {
       "_dom_classes": [],
       "_model_module": "@jupyter-widgets/controls",
       "_model_module_version": "1.5.0",
       "_model_name": "HTMLModel",
       "_view_count": null,
       "_view_module": "@jupyter-widgets/controls",
       "_view_module_version": "1.5.0",
       "_view_name": "HTMLView",
       "description": "",
       "description_tooltip": null,
       "layout": "IPY_MODEL_ef5147fe39664dcbbb1ca209c8f92a4d",
       "placeholder": "​",
       "style": "IPY_MODEL_400a6c365b454f4496cf44f590b544a7",
       "value": "100%"
      }
     },
     "49817835b324420aa374120d4a6919d7": {
      "model_module": "@jupyter-widgets/base",
      "model_module_version": "1.2.0",
      "model_name": "LayoutModel",
      "state": {
       "_model_module": "@jupyter-widgets/base",
       "_model_module_version": "1.2.0",
       "_model_name": "LayoutModel",
       "_view_count": null,
       "_view_module": "@jupyter-widgets/base",
       "_view_module_version": "1.2.0",
       "_view_name": "LayoutView",
       "align_content": null,
       "align_items": null,
       "align_self": null,
       "border": null,
       "bottom": null,
       "display": null,
       "flex": null,
       "flex_flow": null,
       "grid_area": null,
       "grid_auto_columns": null,
       "grid_auto_flow": null,
       "grid_auto_rows": null,
       "grid_column": null,
       "grid_gap": null,
       "grid_row": null,
       "grid_template_areas": null,
       "grid_template_columns": null,
       "grid_template_rows": null,
       "height": null,
       "justify_content": null,
       "justify_items": null,
       "left": null,
       "margin": null,
       "max_height": null,
       "max_width": null,
       "min_height": null,
       "min_width": null,
       "object_fit": null,
       "object_position": null,
       "order": null,
       "overflow": null,
       "overflow_x": null,
       "overflow_y": null,
       "padding": null,
       "right": null,
       "top": null,
       "visibility": null,
       "width": null
      }
     },
     "4bf5cf938c0944db8d5a6e739756d51e": {
      "model_module": "@jupyter-widgets/base",
      "model_module_version": "1.2.0",
      "model_name": "LayoutModel",
      "state": {
       "_model_module": "@jupyter-widgets/base",
       "_model_module_version": "1.2.0",
       "_model_name": "LayoutModel",
       "_view_count": null,
       "_view_module": "@jupyter-widgets/base",
       "_view_module_version": "1.2.0",
       "_view_name": "LayoutView",
       "align_content": null,
       "align_items": null,
       "align_self": null,
       "border": null,
       "bottom": null,
       "display": null,
       "flex": null,
       "flex_flow": null,
       "grid_area": null,
       "grid_auto_columns": null,
       "grid_auto_flow": null,
       "grid_auto_rows": null,
       "grid_column": null,
       "grid_gap": null,
       "grid_row": null,
       "grid_template_areas": null,
       "grid_template_columns": null,
       "grid_template_rows": null,
       "height": null,
       "justify_content": null,
       "justify_items": null,
       "left": null,
       "margin": null,
       "max_height": null,
       "max_width": null,
       "min_height": null,
       "min_width": null,
       "object_fit": null,
       "object_position": null,
       "order": null,
       "overflow": null,
       "overflow_x": null,
       "overflow_y": null,
       "padding": null,
       "right": null,
       "top": null,
       "visibility": null,
       "width": null
      }
     },
     "61d2b65f2fb0403a97499342266dc467": {
      "model_module": "@jupyter-widgets/controls",
      "model_module_version": "1.5.0",
      "model_name": "ProgressStyleModel",
      "state": {
       "_model_module": "@jupyter-widgets/controls",
       "_model_module_version": "1.5.0",
       "_model_name": "ProgressStyleModel",
       "_view_count": null,
       "_view_module": "@jupyter-widgets/base",
       "_view_module_version": "1.2.0",
       "_view_name": "StyleView",
       "bar_color": null,
       "description_width": ""
      }
     },
     "645e55739d774297b56d78ff9b922c85": {
      "model_module": "@jupyter-widgets/controls",
      "model_module_version": "1.5.0",
      "model_name": "FloatProgressModel",
      "state": {
       "_dom_classes": [],
       "_model_module": "@jupyter-widgets/controls",
       "_model_module_version": "1.5.0",
       "_model_name": "FloatProgressModel",
       "_view_count": null,
       "_view_module": "@jupyter-widgets/controls",
       "_view_module_version": "1.5.0",
       "_view_name": "ProgressView",
       "bar_style": "success",
       "description": "",
       "description_tooltip": null,
       "layout": "IPY_MODEL_4bf5cf938c0944db8d5a6e739756d51e",
       "max": 10.0,
       "min": 0.0,
       "orientation": "horizontal",
       "style": "IPY_MODEL_61d2b65f2fb0403a97499342266dc467",
       "value": 10.0
      }
     },
     "681c8e9ac87a459c99020ebc5b3c3fb2": {
      "model_module": "@jupyter-widgets/base",
      "model_module_version": "1.2.0",
      "model_name": "LayoutModel",
      "state": {
       "_model_module": "@jupyter-widgets/base",
       "_model_module_version": "1.2.0",
       "_model_name": "LayoutModel",
       "_view_count": null,
       "_view_module": "@jupyter-widgets/base",
       "_view_module_version": "1.2.0",
       "_view_name": "LayoutView",
       "align_content": null,
       "align_items": null,
       "align_self": null,
       "border": null,
       "bottom": null,
       "display": null,
       "flex": null,
       "flex_flow": null,
       "grid_area": null,
       "grid_auto_columns": null,
       "grid_auto_flow": null,
       "grid_auto_rows": null,
       "grid_column": null,
       "grid_gap": null,
       "grid_row": null,
       "grid_template_areas": null,
       "grid_template_columns": null,
       "grid_template_rows": null,
       "height": null,
       "justify_content": null,
       "justify_items": null,
       "left": null,
       "margin": null,
       "max_height": null,
       "max_width": null,
       "min_height": null,
       "min_width": null,
       "object_fit": null,
       "object_position": null,
       "order": null,
       "overflow": null,
       "overflow_x": null,
       "overflow_y": null,
       "padding": null,
       "right": null,
       "top": null,
       "visibility": null,
       "width": null
      }
     },
     "6963e831368a48e3935eb3e1b27350f4": {
      "model_module": "@jupyter-widgets/controls",
      "model_module_version": "1.5.0",
      "model_name": "DescriptionStyleModel",
      "state": {
       "_model_module": "@jupyter-widgets/controls",
       "_model_module_version": "1.5.0",
       "_model_name": "DescriptionStyleModel",
       "_view_count": null,
       "_view_module": "@jupyter-widgets/base",
       "_view_module_version": "1.2.0",
       "_view_name": "StyleView",
       "description_width": ""
      }
     },
     "6a65f0a5ca7848edb1f6008fd096cc15": {
      "model_module": "@jupyter-widgets/base",
      "model_module_version": "1.2.0",
      "model_name": "LayoutModel",
      "state": {
       "_model_module": "@jupyter-widgets/base",
       "_model_module_version": "1.2.0",
       "_model_name": "LayoutModel",
       "_view_count": null,
       "_view_module": "@jupyter-widgets/base",
       "_view_module_version": "1.2.0",
       "_view_name": "LayoutView",
       "align_content": null,
       "align_items": null,
       "align_self": null,
       "border": null,
       "bottom": null,
       "display": null,
       "flex": null,
       "flex_flow": null,
       "grid_area": null,
       "grid_auto_columns": null,
       "grid_auto_flow": null,
       "grid_auto_rows": null,
       "grid_column": null,
       "grid_gap": null,
       "grid_row": null,
       "grid_template_areas": null,
       "grid_template_columns": null,
       "grid_template_rows": null,
       "height": null,
       "justify_content": null,
       "justify_items": null,
       "left": null,
       "margin": null,
       "max_height": null,
       "max_width": null,
       "min_height": null,
       "min_width": null,
       "object_fit": null,
       "object_position": null,
       "order": null,
       "overflow": null,
       "overflow_x": null,
       "overflow_y": null,
       "padding": null,
       "right": null,
       "top": null,
       "visibility": null,
       "width": null
      }
     },
     "843aee09b4744951bd8bdca5f649f38d": {
      "model_module": "@jupyter-widgets/base",
      "model_module_version": "1.2.0",
      "model_name": "LayoutModel",
      "state": {
       "_model_module": "@jupyter-widgets/base",
       "_model_module_version": "1.2.0",
       "_model_name": "LayoutModel",
       "_view_count": null,
       "_view_module": "@jupyter-widgets/base",
       "_view_module_version": "1.2.0",
       "_view_name": "LayoutView",
       "align_content": null,
       "align_items": null,
       "align_self": null,
       "border": null,
       "bottom": null,
       "display": null,
       "flex": null,
       "flex_flow": null,
       "grid_area": null,
       "grid_auto_columns": null,
       "grid_auto_flow": null,
       "grid_auto_rows": null,
       "grid_column": null,
       "grid_gap": null,
       "grid_row": null,
       "grid_template_areas": null,
       "grid_template_columns": null,
       "grid_template_rows": null,
       "height": null,
       "justify_content": null,
       "justify_items": null,
       "left": null,
       "margin": null,
       "max_height": null,
       "max_width": null,
       "min_height": null,
       "min_width": null,
       "object_fit": null,
       "object_position": null,
       "order": null,
       "overflow": null,
       "overflow_x": null,
       "overflow_y": null,
       "padding": null,
       "right": null,
       "top": null,
       "visibility": null,
       "width": null
      }
     },
     "8867db4b3e5e47529cb5134ab2da219e": {
      "model_module": "@jupyter-widgets/controls",
      "model_module_version": "1.5.0",
      "model_name": "FloatProgressModel",
      "state": {
       "_dom_classes": [],
       "_model_module": "@jupyter-widgets/controls",
       "_model_module_version": "1.5.0",
       "_model_name": "FloatProgressModel",
       "_view_count": null,
       "_view_module": "@jupyter-widgets/controls",
       "_view_module_version": "1.5.0",
       "_view_name": "ProgressView",
       "bar_style": "danger",
       "description": "",
       "description_tooltip": null,
       "layout": "IPY_MODEL_681c8e9ac87a459c99020ebc5b3c3fb2",
       "max": 1000.0,
       "min": 0.0,
       "orientation": "horizontal",
       "style": "IPY_MODEL_ad3e2599a36749eaae60380c276ae331",
       "value": 1000.0
      }
     },
     "9a3ceeb76cdd44f0b4e32e5e65ee0978": {
      "model_module": "@jupyter-widgets/controls",
      "model_module_version": "1.5.0",
      "model_name": "HTMLModel",
      "state": {
       "_dom_classes": [],
       "_model_module": "@jupyter-widgets/controls",
       "_model_module_version": "1.5.0",
       "_model_name": "HTMLModel",
       "_view_count": null,
       "_view_module": "@jupyter-widgets/controls",
       "_view_module_version": "1.5.0",
       "_view_name": "HTMLView",
       "description": "",
       "description_tooltip": null,
       "layout": "IPY_MODEL_e2fa467032814a8dbdeea6e0f8bf312e",
       "placeholder": "​",
       "style": "IPY_MODEL_f991858304434f49880d6a20936e37a9",
       "value": "100%"
      }
     },
     "9aa2df78fd624ed9a79dd7392e1ed852": {
      "model_module": "@jupyter-widgets/controls",
      "model_module_version": "1.5.0",
      "model_name": "HTMLModel",
      "state": {
       "_dom_classes": [],
       "_model_module": "@jupyter-widgets/controls",
       "_model_module_version": "1.5.0",
       "_model_name": "HTMLModel",
       "_view_count": null,
       "_view_module": "@jupyter-widgets/controls",
       "_view_module_version": "1.5.0",
       "_view_name": "HTMLView",
       "description": "",
       "description_tooltip": null,
       "layout": "IPY_MODEL_df3e003762a54703b43321435a205a20",
       "placeholder": "​",
       "style": "IPY_MODEL_06ad89a878a34991a806037cdf53596c",
       "value": "100%"
      }
     },
     "ad3e2599a36749eaae60380c276ae331": {
      "model_module": "@jupyter-widgets/controls",
      "model_module_version": "1.5.0",
      "model_name": "ProgressStyleModel",
      "state": {
       "_model_module": "@jupyter-widgets/controls",
       "_model_module_version": "1.5.0",
       "_model_name": "ProgressStyleModel",
       "_view_count": null,
       "_view_module": "@jupyter-widgets/base",
       "_view_module_version": "1.2.0",
       "_view_name": "StyleView",
       "bar_color": null,
       "description_width": ""
      }
     },
     "b09ac6a32d8e40878e165e72f662acf5": {
      "model_module": "@jupyter-widgets/controls",
      "model_module_version": "1.5.0",
      "model_name": "HBoxModel",
      "state": {
       "_dom_classes": [],
       "_model_module": "@jupyter-widgets/controls",
       "_model_module_version": "1.5.0",
       "_model_name": "HBoxModel",
       "_view_count": null,
       "_view_module": "@jupyter-widgets/controls",
       "_view_module_version": "1.5.0",
       "_view_name": "HBoxView",
       "box_style": "",
       "children": [
        "IPY_MODEL_497c7a61fddd4d3fb57a57fcaf9d1b3a",
        "IPY_MODEL_e56758c95d16443a96858953d1ebd44c",
        "IPY_MODEL_e9f9ee1dec2e44c3a7cfbf3b374233fb"
       ],
       "layout": "IPY_MODEL_843aee09b4744951bd8bdca5f649f38d"
      }
     },
     "bfbf7b5f54f542ee97ddfb08c4e797c8": {
      "model_module": "@jupyter-widgets/controls",
      "model_module_version": "1.5.0",
      "model_name": "HBoxModel",
      "state": {
       "_dom_classes": [],
       "_model_module": "@jupyter-widgets/controls",
       "_model_module_version": "1.5.0",
       "_model_name": "HBoxModel",
       "_view_count": null,
       "_view_module": "@jupyter-widgets/controls",
       "_view_module_version": "1.5.0",
       "_view_name": "HBoxView",
       "box_style": "",
       "children": [
        "IPY_MODEL_9a3ceeb76cdd44f0b4e32e5e65ee0978",
        "IPY_MODEL_8867db4b3e5e47529cb5134ab2da219e",
        "IPY_MODEL_34cfb794406f4b4eb84905e118035348"
       ],
       "layout": "IPY_MODEL_49817835b324420aa374120d4a6919d7"
      }
     },
     "bfc67464d82045039695ec85a68f28c5": {
      "model_module": "@jupyter-widgets/controls",
      "model_module_version": "1.5.0",
      "model_name": "DescriptionStyleModel",
      "state": {
       "_model_module": "@jupyter-widgets/controls",
       "_model_module_version": "1.5.0",
       "_model_name": "DescriptionStyleModel",
       "_view_count": null,
       "_view_module": "@jupyter-widgets/base",
       "_view_module_version": "1.2.0",
       "_view_name": "StyleView",
       "description_width": ""
      }
     },
     "da569a36668748728c55fd16a22299aa": {
      "model_module": "@jupyter-widgets/controls",
      "model_module_version": "1.5.0",
      "model_name": "HTMLModel",
      "state": {
       "_dom_classes": [],
       "_model_module": "@jupyter-widgets/controls",
       "_model_module_version": "1.5.0",
       "_model_name": "HTMLModel",
       "_view_count": null,
       "_view_module": "@jupyter-widgets/controls",
       "_view_module_version": "1.5.0",
       "_view_name": "HTMLView",
       "description": "",
       "description_tooltip": null,
       "layout": "IPY_MODEL_f73e9254c38841fdae3a48ad1de57b03",
       "placeholder": "​",
       "style": "IPY_MODEL_6963e831368a48e3935eb3e1b27350f4",
       "value": " 10/10 [00:01&lt;00:00,  6.91it/s]"
      }
     },
     "dd3eb30d250e424e8e3df947c75dd44d": {
      "model_module": "@jupyter-widgets/base",
      "model_module_version": "1.2.0",
      "model_name": "LayoutModel",
      "state": {
       "_model_module": "@jupyter-widgets/base",
       "_model_module_version": "1.2.0",
       "_model_name": "LayoutModel",
       "_view_count": null,
       "_view_module": "@jupyter-widgets/base",
       "_view_module_version": "1.2.0",
       "_view_name": "LayoutView",
       "align_content": null,
       "align_items": null,
       "align_self": null,
       "border": null,
       "bottom": null,
       "display": null,
       "flex": null,
       "flex_flow": null,
       "grid_area": null,
       "grid_auto_columns": null,
       "grid_auto_flow": null,
       "grid_auto_rows": null,
       "grid_column": null,
       "grid_gap": null,
       "grid_row": null,
       "grid_template_areas": null,
       "grid_template_columns": null,
       "grid_template_rows": null,
       "height": null,
       "justify_content": null,
       "justify_items": null,
       "left": null,
       "margin": null,
       "max_height": null,
       "max_width": null,
       "min_height": null,
       "min_width": null,
       "object_fit": null,
       "object_position": null,
       "order": null,
       "overflow": null,
       "overflow_x": null,
       "overflow_y": null,
       "padding": null,
       "right": null,
       "top": null,
       "visibility": null,
       "width": null
      }
     },
     "df3e003762a54703b43321435a205a20": {
      "model_module": "@jupyter-widgets/base",
      "model_module_version": "1.2.0",
      "model_name": "LayoutModel",
      "state": {
       "_model_module": "@jupyter-widgets/base",
       "_model_module_version": "1.2.0",
       "_model_name": "LayoutModel",
       "_view_count": null,
       "_view_module": "@jupyter-widgets/base",
       "_view_module_version": "1.2.0",
       "_view_name": "LayoutView",
       "align_content": null,
       "align_items": null,
       "align_self": null,
       "border": null,
       "bottom": null,
       "display": null,
       "flex": null,
       "flex_flow": null,
       "grid_area": null,
       "grid_auto_columns": null,
       "grid_auto_flow": null,
       "grid_auto_rows": null,
       "grid_column": null,
       "grid_gap": null,
       "grid_row": null,
       "grid_template_areas": null,
       "grid_template_columns": null,
       "grid_template_rows": null,
       "height": null,
       "justify_content": null,
       "justify_items": null,
       "left": null,
       "margin": null,
       "max_height": null,
       "max_width": null,
       "min_height": null,
       "min_width": null,
       "object_fit": null,
       "object_position": null,
       "order": null,
       "overflow": null,
       "overflow_x": null,
       "overflow_y": null,
       "padding": null,
       "right": null,
       "top": null,
       "visibility": null,
       "width": null
      }
     },
     "e2687f9a2ae941fab001a5e832770dd0": {
      "model_module": "@jupyter-widgets/base",
      "model_module_version": "1.2.0",
      "model_name": "LayoutModel",
      "state": {
       "_model_module": "@jupyter-widgets/base",
       "_model_module_version": "1.2.0",
       "_model_name": "LayoutModel",
       "_view_count": null,
       "_view_module": "@jupyter-widgets/base",
       "_view_module_version": "1.2.0",
       "_view_name": "LayoutView",
       "align_content": null,
       "align_items": null,
       "align_self": null,
       "border": null,
       "bottom": null,
       "display": null,
       "flex": null,
       "flex_flow": null,
       "grid_area": null,
       "grid_auto_columns": null,
       "grid_auto_flow": null,
       "grid_auto_rows": null,
       "grid_column": null,
       "grid_gap": null,
       "grid_row": null,
       "grid_template_areas": null,
       "grid_template_columns": null,
       "grid_template_rows": null,
       "height": null,
       "justify_content": null,
       "justify_items": null,
       "left": null,
       "margin": null,
       "max_height": null,
       "max_width": null,
       "min_height": null,
       "min_width": null,
       "object_fit": null,
       "object_position": null,
       "order": null,
       "overflow": null,
       "overflow_x": null,
       "overflow_y": null,
       "padding": null,
       "right": null,
       "top": null,
       "visibility": null,
       "width": null
      }
     },
     "e2fa467032814a8dbdeea6e0f8bf312e": {
      "model_module": "@jupyter-widgets/base",
      "model_module_version": "1.2.0",
      "model_name": "LayoutModel",
      "state": {
       "_model_module": "@jupyter-widgets/base",
       "_model_module_version": "1.2.0",
       "_model_name": "LayoutModel",
       "_view_count": null,
       "_view_module": "@jupyter-widgets/base",
       "_view_module_version": "1.2.0",
       "_view_name": "LayoutView",
       "align_content": null,
       "align_items": null,
       "align_self": null,
       "border": null,
       "bottom": null,
       "display": null,
       "flex": null,
       "flex_flow": null,
       "grid_area": null,
       "grid_auto_columns": null,
       "grid_auto_flow": null,
       "grid_auto_rows": null,
       "grid_column": null,
       "grid_gap": null,
       "grid_row": null,
       "grid_template_areas": null,
       "grid_template_columns": null,
       "grid_template_rows": null,
       "height": null,
       "justify_content": null,
       "justify_items": null,
       "left": null,
       "margin": null,
       "max_height": null,
       "max_width": null,
       "min_height": null,
       "min_width": null,
       "object_fit": null,
       "object_position": null,
       "order": null,
       "overflow": null,
       "overflow_x": null,
       "overflow_y": null,
       "padding": null,
       "right": null,
       "top": null,
       "visibility": null,
       "width": null
      }
     },
     "e56758c95d16443a96858953d1ebd44c": {
      "model_module": "@jupyter-widgets/controls",
      "model_module_version": "1.5.0",
      "model_name": "FloatProgressModel",
      "state": {
       "_dom_classes": [],
       "_model_module": "@jupyter-widgets/controls",
       "_model_module_version": "1.5.0",
       "_model_name": "FloatProgressModel",
       "_view_count": null,
       "_view_module": "@jupyter-widgets/controls",
       "_view_module_version": "1.5.0",
       "_view_name": "ProgressView",
       "bar_style": "success",
       "description": "",
       "description_tooltip": null,
       "layout": "IPY_MODEL_6a65f0a5ca7848edb1f6008fd096cc15",
       "max": 10.0,
       "min": 0.0,
       "orientation": "horizontal",
       "style": "IPY_MODEL_41856f42e0a742b6b7ea17c2baff939c",
       "value": 10.0
      }
     },
     "e9f9ee1dec2e44c3a7cfbf3b374233fb": {
      "model_module": "@jupyter-widgets/controls",
      "model_module_version": "1.5.0",
      "model_name": "HTMLModel",
      "state": {
       "_dom_classes": [],
       "_model_module": "@jupyter-widgets/controls",
       "_model_module_version": "1.5.0",
       "_model_name": "HTMLModel",
       "_view_count": null,
       "_view_module": "@jupyter-widgets/controls",
       "_view_module_version": "1.5.0",
       "_view_name": "HTMLView",
       "description": "",
       "description_tooltip": null,
       "layout": "IPY_MODEL_e2687f9a2ae941fab001a5e832770dd0",
       "placeholder": "​",
       "style": "IPY_MODEL_bfc67464d82045039695ec85a68f28c5",
       "value": " 10/10 [00:01&lt;00:00,  6.84it/s]"
      }
     },
     "ef5147fe39664dcbbb1ca209c8f92a4d": {
      "model_module": "@jupyter-widgets/base",
      "model_module_version": "1.2.0",
      "model_name": "LayoutModel",
      "state": {
       "_model_module": "@jupyter-widgets/base",
       "_model_module_version": "1.2.0",
       "_model_name": "LayoutModel",
       "_view_count": null,
       "_view_module": "@jupyter-widgets/base",
       "_view_module_version": "1.2.0",
       "_view_name": "LayoutView",
       "align_content": null,
       "align_items": null,
       "align_self": null,
       "border": null,
       "bottom": null,
       "display": null,
       "flex": null,
       "flex_flow": null,
       "grid_area": null,
       "grid_auto_columns": null,
       "grid_auto_flow": null,
       "grid_auto_rows": null,
       "grid_column": null,
       "grid_gap": null,
       "grid_row": null,
       "grid_template_areas": null,
       "grid_template_columns": null,
       "grid_template_rows": null,
       "height": null,
       "justify_content": null,
       "justify_items": null,
       "left": null,
       "margin": null,
       "max_height": null,
       "max_width": null,
       "min_height": null,
       "min_width": null,
       "object_fit": null,
       "object_position": null,
       "order": null,
       "overflow": null,
       "overflow_x": null,
       "overflow_y": null,
       "padding": null,
       "right": null,
       "top": null,
       "visibility": null,
       "width": null
      }
     },
     "f73e9254c38841fdae3a48ad1de57b03": {
      "model_module": "@jupyter-widgets/base",
      "model_module_version": "1.2.0",
      "model_name": "LayoutModel",
      "state": {
       "_model_module": "@jupyter-widgets/base",
       "_model_module_version": "1.2.0",
       "_model_name": "LayoutModel",
       "_view_count": null,
       "_view_module": "@jupyter-widgets/base",
       "_view_module_version": "1.2.0",
       "_view_name": "LayoutView",
       "align_content": null,
       "align_items": null,
       "align_self": null,
       "border": null,
       "bottom": null,
       "display": null,
       "flex": null,
       "flex_flow": null,
       "grid_area": null,
       "grid_auto_columns": null,
       "grid_auto_flow": null,
       "grid_auto_rows": null,
       "grid_column": null,
       "grid_gap": null,
       "grid_row": null,
       "grid_template_areas": null,
       "grid_template_columns": null,
       "grid_template_rows": null,
       "height": null,
       "justify_content": null,
       "justify_items": null,
       "left": null,
       "margin": null,
       "max_height": null,
       "max_width": null,
       "min_height": null,
       "min_width": null,
       "object_fit": null,
       "object_position": null,
       "order": null,
       "overflow": null,
       "overflow_x": null,
       "overflow_y": null,
       "padding": null,
       "right": null,
       "top": null,
       "visibility": null,
       "width": null
      }
     },
     "f991858304434f49880d6a20936e37a9": {
      "model_module": "@jupyter-widgets/controls",
      "model_module_version": "1.5.0",
      "model_name": "DescriptionStyleModel",
      "state": {
       "_model_module": "@jupyter-widgets/controls",
       "_model_module_version": "1.5.0",
       "_model_name": "DescriptionStyleModel",
       "_view_count": null,
       "_view_module": "@jupyter-widgets/base",
       "_view_module_version": "1.2.0",
       "_view_name": "StyleView",
       "description_width": ""
      }
     },
     "fd576e13022e43818d425cec73710b25": {
      "model_module": "@jupyter-widgets/controls",
      "model_module_version": "1.5.0",
      "model_name": "HBoxModel",
      "state": {
       "_dom_classes": [],
       "_model_module": "@jupyter-widgets/controls",
       "_model_module_version": "1.5.0",
       "_model_name": "HBoxModel",
       "_view_count": null,
       "_view_module": "@jupyter-widgets/controls",
       "_view_module_version": "1.5.0",
       "_view_name": "HBoxView",
       "box_style": "",
       "children": [
        "IPY_MODEL_9aa2df78fd624ed9a79dd7392e1ed852",
        "IPY_MODEL_645e55739d774297b56d78ff9b922c85",
        "IPY_MODEL_da569a36668748728c55fd16a22299aa"
       ],
       "layout": "IPY_MODEL_dd3eb30d250e424e8e3df947c75dd44d"
      }
     }
    },
    "version_major": 2,
    "version_minor": 0
   }
  }
 },
 "nbformat": 4,
 "nbformat_minor": 5
}
